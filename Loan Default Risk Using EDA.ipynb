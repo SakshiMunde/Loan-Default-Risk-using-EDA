{
 "cells": [
  {
   "cell_type": "markdown",
   "id": "4962c78c",
   "metadata": {},
   "source": [
    "## Loan Default Risk using EDA\n",
    "- Conducted exploratory data analysis (EDA) on a loan dataset to identify patterns related to loan default.\n",
    "- Used statistical techniques and visualizations to understand the relationship between various customer characteristics and the likelihood of default.\n",
    "- Identified which types of customers were most likely to default on their loans, based on factors such as income, credit score, and employment status.\n",
    "- Presented findings in a clear and actionable manner, making recommendations for how the company could mitigate loan default risk."
   ]
  },
  {
   "cell_type": "code",
   "execution_count": 2,
   "id": "04e512dc",
   "metadata": {},
   "outputs": [],
   "source": [
    "# Import python libraries \n",
    "import pandas as pd\n",
    "import numpy as np\n",
    "import matplotlib.pyplot as plt\n",
    "import seaborn as sns"
   ]
  },
  {
   "cell_type": "code",
   "execution_count": 3,
   "id": "502bc590",
   "metadata": {},
   "outputs": [],
   "source": [
    "# Supress warnings\n",
    "import warnings\n",
    "warnings.filterwarnings(\"ignore\")"
   ]
  },
  {
   "cell_type": "code",
   "execution_count": 4,
   "id": "3a2709c3",
   "metadata": {},
   "outputs": [],
   "source": [
    "# It will display all columns\n",
    "pd.set_option(\"display.max_columns\",None)"
   ]
  },
  {
   "cell_type": "markdown",
   "id": "728eefdc",
   "metadata": {},
   "source": [
    "### Checking the dataset"
   ]
  },
  {
   "cell_type": "code",
   "execution_count": 5,
   "id": "fa35b6dd",
   "metadata": {},
   "outputs": [],
   "source": [
    "# Reading and inspection\n",
    "inp0 = pd.read_csv(\"/Users/sakshimunde/Downloads/loan.csv\")"
   ]
  },
  {
   "cell_type": "markdown",
   "id": "7d28e425",
   "metadata": {},
   "source": [
    "### Data Understanding"
   ]
  },
  {
   "cell_type": "code",
   "execution_count": 6,
   "id": "9c9d4d1f",
   "metadata": {
    "scrolled": true
   },
   "outputs": [
    {
     "data": {
      "text/html": [
       "<div>\n",
       "<style scoped>\n",
       "    .dataframe tbody tr th:only-of-type {\n",
       "        vertical-align: middle;\n",
       "    }\n",
       "\n",
       "    .dataframe tbody tr th {\n",
       "        vertical-align: top;\n",
       "    }\n",
       "\n",
       "    .dataframe thead th {\n",
       "        text-align: right;\n",
       "    }\n",
       "</style>\n",
       "<table border=\"1\" class=\"dataframe\">\n",
       "  <thead>\n",
       "    <tr style=\"text-align: right;\">\n",
       "      <th></th>\n",
       "      <th>id</th>\n",
       "      <th>member_id</th>\n",
       "      <th>loan_amnt</th>\n",
       "      <th>funded_amnt</th>\n",
       "      <th>funded_amnt_inv</th>\n",
       "      <th>term</th>\n",
       "      <th>int_rate</th>\n",
       "      <th>installment</th>\n",
       "      <th>grade</th>\n",
       "      <th>sub_grade</th>\n",
       "      <th>emp_title</th>\n",
       "      <th>emp_length</th>\n",
       "      <th>home_ownership</th>\n",
       "      <th>annual_inc</th>\n",
       "      <th>verification_status</th>\n",
       "      <th>issue_d</th>\n",
       "      <th>loan_status</th>\n",
       "      <th>pymnt_plan</th>\n",
       "      <th>url</th>\n",
       "      <th>desc</th>\n",
       "      <th>purpose</th>\n",
       "      <th>title</th>\n",
       "      <th>zip_code</th>\n",
       "      <th>addr_state</th>\n",
       "      <th>dti</th>\n",
       "      <th>delinq_2yrs</th>\n",
       "      <th>earliest_cr_line</th>\n",
       "      <th>inq_last_6mths</th>\n",
       "      <th>mths_since_last_delinq</th>\n",
       "      <th>mths_since_last_record</th>\n",
       "      <th>open_acc</th>\n",
       "      <th>pub_rec</th>\n",
       "      <th>revol_bal</th>\n",
       "      <th>revol_util</th>\n",
       "      <th>total_acc</th>\n",
       "      <th>initial_list_status</th>\n",
       "      <th>out_prncp</th>\n",
       "      <th>out_prncp_inv</th>\n",
       "      <th>total_pymnt</th>\n",
       "      <th>total_pymnt_inv</th>\n",
       "      <th>total_rec_prncp</th>\n",
       "      <th>total_rec_int</th>\n",
       "      <th>total_rec_late_fee</th>\n",
       "      <th>recoveries</th>\n",
       "      <th>collection_recovery_fee</th>\n",
       "      <th>last_pymnt_d</th>\n",
       "      <th>last_pymnt_amnt</th>\n",
       "      <th>next_pymnt_d</th>\n",
       "      <th>last_credit_pull_d</th>\n",
       "      <th>collections_12_mths_ex_med</th>\n",
       "      <th>mths_since_last_major_derog</th>\n",
       "      <th>policy_code</th>\n",
       "      <th>application_type</th>\n",
       "      <th>annual_inc_joint</th>\n",
       "      <th>dti_joint</th>\n",
       "      <th>verification_status_joint</th>\n",
       "      <th>acc_now_delinq</th>\n",
       "      <th>tot_coll_amt</th>\n",
       "      <th>tot_cur_bal</th>\n",
       "      <th>open_acc_6m</th>\n",
       "      <th>open_il_6m</th>\n",
       "      <th>open_il_12m</th>\n",
       "      <th>open_il_24m</th>\n",
       "      <th>mths_since_rcnt_il</th>\n",
       "      <th>total_bal_il</th>\n",
       "      <th>il_util</th>\n",
       "      <th>open_rv_12m</th>\n",
       "      <th>open_rv_24m</th>\n",
       "      <th>max_bal_bc</th>\n",
       "      <th>all_util</th>\n",
       "      <th>total_rev_hi_lim</th>\n",
       "      <th>inq_fi</th>\n",
       "      <th>total_cu_tl</th>\n",
       "      <th>inq_last_12m</th>\n",
       "      <th>acc_open_past_24mths</th>\n",
       "      <th>avg_cur_bal</th>\n",
       "      <th>bc_open_to_buy</th>\n",
       "      <th>bc_util</th>\n",
       "      <th>chargeoff_within_12_mths</th>\n",
       "      <th>delinq_amnt</th>\n",
       "      <th>mo_sin_old_il_acct</th>\n",
       "      <th>mo_sin_old_rev_tl_op</th>\n",
       "      <th>mo_sin_rcnt_rev_tl_op</th>\n",
       "      <th>mo_sin_rcnt_tl</th>\n",
       "      <th>mort_acc</th>\n",
       "      <th>mths_since_recent_bc</th>\n",
       "      <th>mths_since_recent_bc_dlq</th>\n",
       "      <th>mths_since_recent_inq</th>\n",
       "      <th>mths_since_recent_revol_delinq</th>\n",
       "      <th>num_accts_ever_120_pd</th>\n",
       "      <th>num_actv_bc_tl</th>\n",
       "      <th>num_actv_rev_tl</th>\n",
       "      <th>num_bc_sats</th>\n",
       "      <th>num_bc_tl</th>\n",
       "      <th>num_il_tl</th>\n",
       "      <th>num_op_rev_tl</th>\n",
       "      <th>num_rev_accts</th>\n",
       "      <th>num_rev_tl_bal_gt_0</th>\n",
       "      <th>num_sats</th>\n",
       "      <th>num_tl_120dpd_2m</th>\n",
       "      <th>num_tl_30dpd</th>\n",
       "      <th>num_tl_90g_dpd_24m</th>\n",
       "      <th>num_tl_op_past_12m</th>\n",
       "      <th>pct_tl_nvr_dlq</th>\n",
       "      <th>percent_bc_gt_75</th>\n",
       "      <th>pub_rec_bankruptcies</th>\n",
       "      <th>tax_liens</th>\n",
       "      <th>tot_hi_cred_lim</th>\n",
       "      <th>total_bal_ex_mort</th>\n",
       "      <th>total_bc_limit</th>\n",
       "      <th>total_il_high_credit_limit</th>\n",
       "    </tr>\n",
       "  </thead>\n",
       "  <tbody>\n",
       "    <tr>\n",
       "      <th>0</th>\n",
       "      <td>1077501</td>\n",
       "      <td>1296599</td>\n",
       "      <td>5000</td>\n",
       "      <td>5000</td>\n",
       "      <td>4975.0</td>\n",
       "      <td>36 months</td>\n",
       "      <td>10.65%</td>\n",
       "      <td>162.87</td>\n",
       "      <td>B</td>\n",
       "      <td>B2</td>\n",
       "      <td>NaN</td>\n",
       "      <td>10+ years</td>\n",
       "      <td>RENT</td>\n",
       "      <td>24000.0</td>\n",
       "      <td>Verified</td>\n",
       "      <td>Dec-11</td>\n",
       "      <td>Fully Paid</td>\n",
       "      <td>n</td>\n",
       "      <td>https://lendingclub.com/browse/loanDetail.acti...</td>\n",
       "      <td>Borrower added on 12/22/11 &gt; I need to upgra...</td>\n",
       "      <td>credit_card</td>\n",
       "      <td>Computer</td>\n",
       "      <td>860xx</td>\n",
       "      <td>AZ</td>\n",
       "      <td>27.65</td>\n",
       "      <td>0</td>\n",
       "      <td>Jan-85</td>\n",
       "      <td>1</td>\n",
       "      <td>NaN</td>\n",
       "      <td>NaN</td>\n",
       "      <td>3</td>\n",
       "      <td>0</td>\n",
       "      <td>13648</td>\n",
       "      <td>83.70%</td>\n",
       "      <td>9</td>\n",
       "      <td>f</td>\n",
       "      <td>0.00</td>\n",
       "      <td>0.00</td>\n",
       "      <td>5863.155187</td>\n",
       "      <td>5833.84</td>\n",
       "      <td>5000.00</td>\n",
       "      <td>863.16</td>\n",
       "      <td>0.00</td>\n",
       "      <td>0.00</td>\n",
       "      <td>0.00</td>\n",
       "      <td>Jan-15</td>\n",
       "      <td>171.62</td>\n",
       "      <td>NaN</td>\n",
       "      <td>May-16</td>\n",
       "      <td>0.0</td>\n",
       "      <td>NaN</td>\n",
       "      <td>1</td>\n",
       "      <td>INDIVIDUAL</td>\n",
       "      <td>NaN</td>\n",
       "      <td>NaN</td>\n",
       "      <td>NaN</td>\n",
       "      <td>0</td>\n",
       "      <td>NaN</td>\n",
       "      <td>NaN</td>\n",
       "      <td>NaN</td>\n",
       "      <td>NaN</td>\n",
       "      <td>NaN</td>\n",
       "      <td>NaN</td>\n",
       "      <td>NaN</td>\n",
       "      <td>NaN</td>\n",
       "      <td>NaN</td>\n",
       "      <td>NaN</td>\n",
       "      <td>NaN</td>\n",
       "      <td>NaN</td>\n",
       "      <td>NaN</td>\n",
       "      <td>NaN</td>\n",
       "      <td>NaN</td>\n",
       "      <td>NaN</td>\n",
       "      <td>NaN</td>\n",
       "      <td>NaN</td>\n",
       "      <td>NaN</td>\n",
       "      <td>NaN</td>\n",
       "      <td>NaN</td>\n",
       "      <td>0.0</td>\n",
       "      <td>0</td>\n",
       "      <td>NaN</td>\n",
       "      <td>NaN</td>\n",
       "      <td>NaN</td>\n",
       "      <td>NaN</td>\n",
       "      <td>NaN</td>\n",
       "      <td>NaN</td>\n",
       "      <td>NaN</td>\n",
       "      <td>NaN</td>\n",
       "      <td>NaN</td>\n",
       "      <td>NaN</td>\n",
       "      <td>NaN</td>\n",
       "      <td>NaN</td>\n",
       "      <td>NaN</td>\n",
       "      <td>NaN</td>\n",
       "      <td>NaN</td>\n",
       "      <td>NaN</td>\n",
       "      <td>NaN</td>\n",
       "      <td>NaN</td>\n",
       "      <td>NaN</td>\n",
       "      <td>NaN</td>\n",
       "      <td>NaN</td>\n",
       "      <td>NaN</td>\n",
       "      <td>NaN</td>\n",
       "      <td>NaN</td>\n",
       "      <td>NaN</td>\n",
       "      <td>0.0</td>\n",
       "      <td>0.0</td>\n",
       "      <td>NaN</td>\n",
       "      <td>NaN</td>\n",
       "      <td>NaN</td>\n",
       "      <td>NaN</td>\n",
       "    </tr>\n",
       "    <tr>\n",
       "      <th>1</th>\n",
       "      <td>1077430</td>\n",
       "      <td>1314167</td>\n",
       "      <td>2500</td>\n",
       "      <td>2500</td>\n",
       "      <td>2500.0</td>\n",
       "      <td>60 months</td>\n",
       "      <td>15.27%</td>\n",
       "      <td>59.83</td>\n",
       "      <td>C</td>\n",
       "      <td>C4</td>\n",
       "      <td>Ryder</td>\n",
       "      <td>&lt; 1 year</td>\n",
       "      <td>RENT</td>\n",
       "      <td>30000.0</td>\n",
       "      <td>Source Verified</td>\n",
       "      <td>Dec-11</td>\n",
       "      <td>Charged Off</td>\n",
       "      <td>n</td>\n",
       "      <td>https://lendingclub.com/browse/loanDetail.acti...</td>\n",
       "      <td>Borrower added on 12/22/11 &gt; I plan to use t...</td>\n",
       "      <td>car</td>\n",
       "      <td>bike</td>\n",
       "      <td>309xx</td>\n",
       "      <td>GA</td>\n",
       "      <td>1.00</td>\n",
       "      <td>0</td>\n",
       "      <td>Apr-99</td>\n",
       "      <td>5</td>\n",
       "      <td>NaN</td>\n",
       "      <td>NaN</td>\n",
       "      <td>3</td>\n",
       "      <td>0</td>\n",
       "      <td>1687</td>\n",
       "      <td>9.40%</td>\n",
       "      <td>4</td>\n",
       "      <td>f</td>\n",
       "      <td>0.00</td>\n",
       "      <td>0.00</td>\n",
       "      <td>1008.710000</td>\n",
       "      <td>1008.71</td>\n",
       "      <td>456.46</td>\n",
       "      <td>435.17</td>\n",
       "      <td>0.00</td>\n",
       "      <td>117.08</td>\n",
       "      <td>1.11</td>\n",
       "      <td>Apr-13</td>\n",
       "      <td>119.66</td>\n",
       "      <td>NaN</td>\n",
       "      <td>Sep-13</td>\n",
       "      <td>0.0</td>\n",
       "      <td>NaN</td>\n",
       "      <td>1</td>\n",
       "      <td>INDIVIDUAL</td>\n",
       "      <td>NaN</td>\n",
       "      <td>NaN</td>\n",
       "      <td>NaN</td>\n",
       "      <td>0</td>\n",
       "      <td>NaN</td>\n",
       "      <td>NaN</td>\n",
       "      <td>NaN</td>\n",
       "      <td>NaN</td>\n",
       "      <td>NaN</td>\n",
       "      <td>NaN</td>\n",
       "      <td>NaN</td>\n",
       "      <td>NaN</td>\n",
       "      <td>NaN</td>\n",
       "      <td>NaN</td>\n",
       "      <td>NaN</td>\n",
       "      <td>NaN</td>\n",
       "      <td>NaN</td>\n",
       "      <td>NaN</td>\n",
       "      <td>NaN</td>\n",
       "      <td>NaN</td>\n",
       "      <td>NaN</td>\n",
       "      <td>NaN</td>\n",
       "      <td>NaN</td>\n",
       "      <td>NaN</td>\n",
       "      <td>NaN</td>\n",
       "      <td>0.0</td>\n",
       "      <td>0</td>\n",
       "      <td>NaN</td>\n",
       "      <td>NaN</td>\n",
       "      <td>NaN</td>\n",
       "      <td>NaN</td>\n",
       "      <td>NaN</td>\n",
       "      <td>NaN</td>\n",
       "      <td>NaN</td>\n",
       "      <td>NaN</td>\n",
       "      <td>NaN</td>\n",
       "      <td>NaN</td>\n",
       "      <td>NaN</td>\n",
       "      <td>NaN</td>\n",
       "      <td>NaN</td>\n",
       "      <td>NaN</td>\n",
       "      <td>NaN</td>\n",
       "      <td>NaN</td>\n",
       "      <td>NaN</td>\n",
       "      <td>NaN</td>\n",
       "      <td>NaN</td>\n",
       "      <td>NaN</td>\n",
       "      <td>NaN</td>\n",
       "      <td>NaN</td>\n",
       "      <td>NaN</td>\n",
       "      <td>NaN</td>\n",
       "      <td>NaN</td>\n",
       "      <td>0.0</td>\n",
       "      <td>0.0</td>\n",
       "      <td>NaN</td>\n",
       "      <td>NaN</td>\n",
       "      <td>NaN</td>\n",
       "      <td>NaN</td>\n",
       "    </tr>\n",
       "    <tr>\n",
       "      <th>2</th>\n",
       "      <td>1077175</td>\n",
       "      <td>1313524</td>\n",
       "      <td>2400</td>\n",
       "      <td>2400</td>\n",
       "      <td>2400.0</td>\n",
       "      <td>36 months</td>\n",
       "      <td>15.96%</td>\n",
       "      <td>84.33</td>\n",
       "      <td>C</td>\n",
       "      <td>C5</td>\n",
       "      <td>NaN</td>\n",
       "      <td>10+ years</td>\n",
       "      <td>RENT</td>\n",
       "      <td>12252.0</td>\n",
       "      <td>Not Verified</td>\n",
       "      <td>Dec-11</td>\n",
       "      <td>Fully Paid</td>\n",
       "      <td>n</td>\n",
       "      <td>https://lendingclub.com/browse/loanDetail.acti...</td>\n",
       "      <td>NaN</td>\n",
       "      <td>small_business</td>\n",
       "      <td>real estate business</td>\n",
       "      <td>606xx</td>\n",
       "      <td>IL</td>\n",
       "      <td>8.72</td>\n",
       "      <td>0</td>\n",
       "      <td>Nov-01</td>\n",
       "      <td>2</td>\n",
       "      <td>NaN</td>\n",
       "      <td>NaN</td>\n",
       "      <td>2</td>\n",
       "      <td>0</td>\n",
       "      <td>2956</td>\n",
       "      <td>98.50%</td>\n",
       "      <td>10</td>\n",
       "      <td>f</td>\n",
       "      <td>0.00</td>\n",
       "      <td>0.00</td>\n",
       "      <td>3005.666844</td>\n",
       "      <td>3005.67</td>\n",
       "      <td>2400.00</td>\n",
       "      <td>605.67</td>\n",
       "      <td>0.00</td>\n",
       "      <td>0.00</td>\n",
       "      <td>0.00</td>\n",
       "      <td>Jun-14</td>\n",
       "      <td>649.91</td>\n",
       "      <td>NaN</td>\n",
       "      <td>May-16</td>\n",
       "      <td>0.0</td>\n",
       "      <td>NaN</td>\n",
       "      <td>1</td>\n",
       "      <td>INDIVIDUAL</td>\n",
       "      <td>NaN</td>\n",
       "      <td>NaN</td>\n",
       "      <td>NaN</td>\n",
       "      <td>0</td>\n",
       "      <td>NaN</td>\n",
       "      <td>NaN</td>\n",
       "      <td>NaN</td>\n",
       "      <td>NaN</td>\n",
       "      <td>NaN</td>\n",
       "      <td>NaN</td>\n",
       "      <td>NaN</td>\n",
       "      <td>NaN</td>\n",
       "      <td>NaN</td>\n",
       "      <td>NaN</td>\n",
       "      <td>NaN</td>\n",
       "      <td>NaN</td>\n",
       "      <td>NaN</td>\n",
       "      <td>NaN</td>\n",
       "      <td>NaN</td>\n",
       "      <td>NaN</td>\n",
       "      <td>NaN</td>\n",
       "      <td>NaN</td>\n",
       "      <td>NaN</td>\n",
       "      <td>NaN</td>\n",
       "      <td>NaN</td>\n",
       "      <td>0.0</td>\n",
       "      <td>0</td>\n",
       "      <td>NaN</td>\n",
       "      <td>NaN</td>\n",
       "      <td>NaN</td>\n",
       "      <td>NaN</td>\n",
       "      <td>NaN</td>\n",
       "      <td>NaN</td>\n",
       "      <td>NaN</td>\n",
       "      <td>NaN</td>\n",
       "      <td>NaN</td>\n",
       "      <td>NaN</td>\n",
       "      <td>NaN</td>\n",
       "      <td>NaN</td>\n",
       "      <td>NaN</td>\n",
       "      <td>NaN</td>\n",
       "      <td>NaN</td>\n",
       "      <td>NaN</td>\n",
       "      <td>NaN</td>\n",
       "      <td>NaN</td>\n",
       "      <td>NaN</td>\n",
       "      <td>NaN</td>\n",
       "      <td>NaN</td>\n",
       "      <td>NaN</td>\n",
       "      <td>NaN</td>\n",
       "      <td>NaN</td>\n",
       "      <td>NaN</td>\n",
       "      <td>0.0</td>\n",
       "      <td>0.0</td>\n",
       "      <td>NaN</td>\n",
       "      <td>NaN</td>\n",
       "      <td>NaN</td>\n",
       "      <td>NaN</td>\n",
       "    </tr>\n",
       "    <tr>\n",
       "      <th>3</th>\n",
       "      <td>1076863</td>\n",
       "      <td>1277178</td>\n",
       "      <td>10000</td>\n",
       "      <td>10000</td>\n",
       "      <td>10000.0</td>\n",
       "      <td>36 months</td>\n",
       "      <td>13.49%</td>\n",
       "      <td>339.31</td>\n",
       "      <td>C</td>\n",
       "      <td>C1</td>\n",
       "      <td>AIR RESOURCES BOARD</td>\n",
       "      <td>10+ years</td>\n",
       "      <td>RENT</td>\n",
       "      <td>49200.0</td>\n",
       "      <td>Source Verified</td>\n",
       "      <td>Dec-11</td>\n",
       "      <td>Fully Paid</td>\n",
       "      <td>n</td>\n",
       "      <td>https://lendingclub.com/browse/loanDetail.acti...</td>\n",
       "      <td>Borrower added on 12/21/11 &gt; to pay for prop...</td>\n",
       "      <td>other</td>\n",
       "      <td>personel</td>\n",
       "      <td>917xx</td>\n",
       "      <td>CA</td>\n",
       "      <td>20.00</td>\n",
       "      <td>0</td>\n",
       "      <td>Feb-96</td>\n",
       "      <td>1</td>\n",
       "      <td>35.0</td>\n",
       "      <td>NaN</td>\n",
       "      <td>10</td>\n",
       "      <td>0</td>\n",
       "      <td>5598</td>\n",
       "      <td>21%</td>\n",
       "      <td>37</td>\n",
       "      <td>f</td>\n",
       "      <td>0.00</td>\n",
       "      <td>0.00</td>\n",
       "      <td>12231.890000</td>\n",
       "      <td>12231.89</td>\n",
       "      <td>10000.00</td>\n",
       "      <td>2214.92</td>\n",
       "      <td>16.97</td>\n",
       "      <td>0.00</td>\n",
       "      <td>0.00</td>\n",
       "      <td>Jan-15</td>\n",
       "      <td>357.48</td>\n",
       "      <td>NaN</td>\n",
       "      <td>Apr-16</td>\n",
       "      <td>0.0</td>\n",
       "      <td>NaN</td>\n",
       "      <td>1</td>\n",
       "      <td>INDIVIDUAL</td>\n",
       "      <td>NaN</td>\n",
       "      <td>NaN</td>\n",
       "      <td>NaN</td>\n",
       "      <td>0</td>\n",
       "      <td>NaN</td>\n",
       "      <td>NaN</td>\n",
       "      <td>NaN</td>\n",
       "      <td>NaN</td>\n",
       "      <td>NaN</td>\n",
       "      <td>NaN</td>\n",
       "      <td>NaN</td>\n",
       "      <td>NaN</td>\n",
       "      <td>NaN</td>\n",
       "      <td>NaN</td>\n",
       "      <td>NaN</td>\n",
       "      <td>NaN</td>\n",
       "      <td>NaN</td>\n",
       "      <td>NaN</td>\n",
       "      <td>NaN</td>\n",
       "      <td>NaN</td>\n",
       "      <td>NaN</td>\n",
       "      <td>NaN</td>\n",
       "      <td>NaN</td>\n",
       "      <td>NaN</td>\n",
       "      <td>NaN</td>\n",
       "      <td>0.0</td>\n",
       "      <td>0</td>\n",
       "      <td>NaN</td>\n",
       "      <td>NaN</td>\n",
       "      <td>NaN</td>\n",
       "      <td>NaN</td>\n",
       "      <td>NaN</td>\n",
       "      <td>NaN</td>\n",
       "      <td>NaN</td>\n",
       "      <td>NaN</td>\n",
       "      <td>NaN</td>\n",
       "      <td>NaN</td>\n",
       "      <td>NaN</td>\n",
       "      <td>NaN</td>\n",
       "      <td>NaN</td>\n",
       "      <td>NaN</td>\n",
       "      <td>NaN</td>\n",
       "      <td>NaN</td>\n",
       "      <td>NaN</td>\n",
       "      <td>NaN</td>\n",
       "      <td>NaN</td>\n",
       "      <td>NaN</td>\n",
       "      <td>NaN</td>\n",
       "      <td>NaN</td>\n",
       "      <td>NaN</td>\n",
       "      <td>NaN</td>\n",
       "      <td>NaN</td>\n",
       "      <td>0.0</td>\n",
       "      <td>0.0</td>\n",
       "      <td>NaN</td>\n",
       "      <td>NaN</td>\n",
       "      <td>NaN</td>\n",
       "      <td>NaN</td>\n",
       "    </tr>\n",
       "    <tr>\n",
       "      <th>4</th>\n",
       "      <td>1075358</td>\n",
       "      <td>1311748</td>\n",
       "      <td>3000</td>\n",
       "      <td>3000</td>\n",
       "      <td>3000.0</td>\n",
       "      <td>60 months</td>\n",
       "      <td>12.69%</td>\n",
       "      <td>67.79</td>\n",
       "      <td>B</td>\n",
       "      <td>B5</td>\n",
       "      <td>University Medical Group</td>\n",
       "      <td>1 year</td>\n",
       "      <td>RENT</td>\n",
       "      <td>80000.0</td>\n",
       "      <td>Source Verified</td>\n",
       "      <td>Dec-11</td>\n",
       "      <td>Current</td>\n",
       "      <td>n</td>\n",
       "      <td>https://lendingclub.com/browse/loanDetail.acti...</td>\n",
       "      <td>Borrower added on 12/21/11 &gt; I plan on combi...</td>\n",
       "      <td>other</td>\n",
       "      <td>Personal</td>\n",
       "      <td>972xx</td>\n",
       "      <td>OR</td>\n",
       "      <td>17.94</td>\n",
       "      <td>0</td>\n",
       "      <td>Jan-96</td>\n",
       "      <td>0</td>\n",
       "      <td>38.0</td>\n",
       "      <td>NaN</td>\n",
       "      <td>15</td>\n",
       "      <td>0</td>\n",
       "      <td>27783</td>\n",
       "      <td>53.90%</td>\n",
       "      <td>38</td>\n",
       "      <td>f</td>\n",
       "      <td>524.06</td>\n",
       "      <td>524.06</td>\n",
       "      <td>3513.330000</td>\n",
       "      <td>3513.33</td>\n",
       "      <td>2475.94</td>\n",
       "      <td>1037.39</td>\n",
       "      <td>0.00</td>\n",
       "      <td>0.00</td>\n",
       "      <td>0.00</td>\n",
       "      <td>May-16</td>\n",
       "      <td>67.79</td>\n",
       "      <td>Jun-16</td>\n",
       "      <td>May-16</td>\n",
       "      <td>0.0</td>\n",
       "      <td>NaN</td>\n",
       "      <td>1</td>\n",
       "      <td>INDIVIDUAL</td>\n",
       "      <td>NaN</td>\n",
       "      <td>NaN</td>\n",
       "      <td>NaN</td>\n",
       "      <td>0</td>\n",
       "      <td>NaN</td>\n",
       "      <td>NaN</td>\n",
       "      <td>NaN</td>\n",
       "      <td>NaN</td>\n",
       "      <td>NaN</td>\n",
       "      <td>NaN</td>\n",
       "      <td>NaN</td>\n",
       "      <td>NaN</td>\n",
       "      <td>NaN</td>\n",
       "      <td>NaN</td>\n",
       "      <td>NaN</td>\n",
       "      <td>NaN</td>\n",
       "      <td>NaN</td>\n",
       "      <td>NaN</td>\n",
       "      <td>NaN</td>\n",
       "      <td>NaN</td>\n",
       "      <td>NaN</td>\n",
       "      <td>NaN</td>\n",
       "      <td>NaN</td>\n",
       "      <td>NaN</td>\n",
       "      <td>NaN</td>\n",
       "      <td>0.0</td>\n",
       "      <td>0</td>\n",
       "      <td>NaN</td>\n",
       "      <td>NaN</td>\n",
       "      <td>NaN</td>\n",
       "      <td>NaN</td>\n",
       "      <td>NaN</td>\n",
       "      <td>NaN</td>\n",
       "      <td>NaN</td>\n",
       "      <td>NaN</td>\n",
       "      <td>NaN</td>\n",
       "      <td>NaN</td>\n",
       "      <td>NaN</td>\n",
       "      <td>NaN</td>\n",
       "      <td>NaN</td>\n",
       "      <td>NaN</td>\n",
       "      <td>NaN</td>\n",
       "      <td>NaN</td>\n",
       "      <td>NaN</td>\n",
       "      <td>NaN</td>\n",
       "      <td>NaN</td>\n",
       "      <td>NaN</td>\n",
       "      <td>NaN</td>\n",
       "      <td>NaN</td>\n",
       "      <td>NaN</td>\n",
       "      <td>NaN</td>\n",
       "      <td>NaN</td>\n",
       "      <td>0.0</td>\n",
       "      <td>0.0</td>\n",
       "      <td>NaN</td>\n",
       "      <td>NaN</td>\n",
       "      <td>NaN</td>\n",
       "      <td>NaN</td>\n",
       "    </tr>\n",
       "    <tr>\n",
       "      <th>...</th>\n",
       "      <td>...</td>\n",
       "      <td>...</td>\n",
       "      <td>...</td>\n",
       "      <td>...</td>\n",
       "      <td>...</td>\n",
       "      <td>...</td>\n",
       "      <td>...</td>\n",
       "      <td>...</td>\n",
       "      <td>...</td>\n",
       "      <td>...</td>\n",
       "      <td>...</td>\n",
       "      <td>...</td>\n",
       "      <td>...</td>\n",
       "      <td>...</td>\n",
       "      <td>...</td>\n",
       "      <td>...</td>\n",
       "      <td>...</td>\n",
       "      <td>...</td>\n",
       "      <td>...</td>\n",
       "      <td>...</td>\n",
       "      <td>...</td>\n",
       "      <td>...</td>\n",
       "      <td>...</td>\n",
       "      <td>...</td>\n",
       "      <td>...</td>\n",
       "      <td>...</td>\n",
       "      <td>...</td>\n",
       "      <td>...</td>\n",
       "      <td>...</td>\n",
       "      <td>...</td>\n",
       "      <td>...</td>\n",
       "      <td>...</td>\n",
       "      <td>...</td>\n",
       "      <td>...</td>\n",
       "      <td>...</td>\n",
       "      <td>...</td>\n",
       "      <td>...</td>\n",
       "      <td>...</td>\n",
       "      <td>...</td>\n",
       "      <td>...</td>\n",
       "      <td>...</td>\n",
       "      <td>...</td>\n",
       "      <td>...</td>\n",
       "      <td>...</td>\n",
       "      <td>...</td>\n",
       "      <td>...</td>\n",
       "      <td>...</td>\n",
       "      <td>...</td>\n",
       "      <td>...</td>\n",
       "      <td>...</td>\n",
       "      <td>...</td>\n",
       "      <td>...</td>\n",
       "      <td>...</td>\n",
       "      <td>...</td>\n",
       "      <td>...</td>\n",
       "      <td>...</td>\n",
       "      <td>...</td>\n",
       "      <td>...</td>\n",
       "      <td>...</td>\n",
       "      <td>...</td>\n",
       "      <td>...</td>\n",
       "      <td>...</td>\n",
       "      <td>...</td>\n",
       "      <td>...</td>\n",
       "      <td>...</td>\n",
       "      <td>...</td>\n",
       "      <td>...</td>\n",
       "      <td>...</td>\n",
       "      <td>...</td>\n",
       "      <td>...</td>\n",
       "      <td>...</td>\n",
       "      <td>...</td>\n",
       "      <td>...</td>\n",
       "      <td>...</td>\n",
       "      <td>...</td>\n",
       "      <td>...</td>\n",
       "      <td>...</td>\n",
       "      <td>...</td>\n",
       "      <td>...</td>\n",
       "      <td>...</td>\n",
       "      <td>...</td>\n",
       "      <td>...</td>\n",
       "      <td>...</td>\n",
       "      <td>...</td>\n",
       "      <td>...</td>\n",
       "      <td>...</td>\n",
       "      <td>...</td>\n",
       "      <td>...</td>\n",
       "      <td>...</td>\n",
       "      <td>...</td>\n",
       "      <td>...</td>\n",
       "      <td>...</td>\n",
       "      <td>...</td>\n",
       "      <td>...</td>\n",
       "      <td>...</td>\n",
       "      <td>...</td>\n",
       "      <td>...</td>\n",
       "      <td>...</td>\n",
       "      <td>...</td>\n",
       "      <td>...</td>\n",
       "      <td>...</td>\n",
       "      <td>...</td>\n",
       "      <td>...</td>\n",
       "      <td>...</td>\n",
       "      <td>...</td>\n",
       "      <td>...</td>\n",
       "      <td>...</td>\n",
       "      <td>...</td>\n",
       "      <td>...</td>\n",
       "      <td>...</td>\n",
       "      <td>...</td>\n",
       "    </tr>\n",
       "    <tr>\n",
       "      <th>39712</th>\n",
       "      <td>92187</td>\n",
       "      <td>92174</td>\n",
       "      <td>2500</td>\n",
       "      <td>2500</td>\n",
       "      <td>1075.0</td>\n",
       "      <td>36 months</td>\n",
       "      <td>8.07%</td>\n",
       "      <td>78.42</td>\n",
       "      <td>A</td>\n",
       "      <td>A4</td>\n",
       "      <td>FiSite Research</td>\n",
       "      <td>4 years</td>\n",
       "      <td>MORTGAGE</td>\n",
       "      <td>110000.0</td>\n",
       "      <td>Not Verified</td>\n",
       "      <td>Jul-07</td>\n",
       "      <td>Fully Paid</td>\n",
       "      <td>n</td>\n",
       "      <td>https://lendingclub.com/browse/loanDetail.acti...</td>\n",
       "      <td>Our current gutter system on our home is old a...</td>\n",
       "      <td>home_improvement</td>\n",
       "      <td>Home Improvement</td>\n",
       "      <td>802xx</td>\n",
       "      <td>CO</td>\n",
       "      <td>11.33</td>\n",
       "      <td>0</td>\n",
       "      <td>Nov-90</td>\n",
       "      <td>0</td>\n",
       "      <td>0.0</td>\n",
       "      <td>0.0</td>\n",
       "      <td>13</td>\n",
       "      <td>0</td>\n",
       "      <td>7274</td>\n",
       "      <td>13.10%</td>\n",
       "      <td>40</td>\n",
       "      <td>f</td>\n",
       "      <td>0.00</td>\n",
       "      <td>0.00</td>\n",
       "      <td>2822.969293</td>\n",
       "      <td>1213.88</td>\n",
       "      <td>2500.00</td>\n",
       "      <td>322.97</td>\n",
       "      <td>0.00</td>\n",
       "      <td>0.00</td>\n",
       "      <td>0.00</td>\n",
       "      <td>Jul-10</td>\n",
       "      <td>80.90</td>\n",
       "      <td>NaN</td>\n",
       "      <td>Jun-10</td>\n",
       "      <td>NaN</td>\n",
       "      <td>NaN</td>\n",
       "      <td>1</td>\n",
       "      <td>INDIVIDUAL</td>\n",
       "      <td>NaN</td>\n",
       "      <td>NaN</td>\n",
       "      <td>NaN</td>\n",
       "      <td>0</td>\n",
       "      <td>NaN</td>\n",
       "      <td>NaN</td>\n",
       "      <td>NaN</td>\n",
       "      <td>NaN</td>\n",
       "      <td>NaN</td>\n",
       "      <td>NaN</td>\n",
       "      <td>NaN</td>\n",
       "      <td>NaN</td>\n",
       "      <td>NaN</td>\n",
       "      <td>NaN</td>\n",
       "      <td>NaN</td>\n",
       "      <td>NaN</td>\n",
       "      <td>NaN</td>\n",
       "      <td>NaN</td>\n",
       "      <td>NaN</td>\n",
       "      <td>NaN</td>\n",
       "      <td>NaN</td>\n",
       "      <td>NaN</td>\n",
       "      <td>NaN</td>\n",
       "      <td>NaN</td>\n",
       "      <td>NaN</td>\n",
       "      <td>NaN</td>\n",
       "      <td>0</td>\n",
       "      <td>NaN</td>\n",
       "      <td>NaN</td>\n",
       "      <td>NaN</td>\n",
       "      <td>NaN</td>\n",
       "      <td>NaN</td>\n",
       "      <td>NaN</td>\n",
       "      <td>NaN</td>\n",
       "      <td>NaN</td>\n",
       "      <td>NaN</td>\n",
       "      <td>NaN</td>\n",
       "      <td>NaN</td>\n",
       "      <td>NaN</td>\n",
       "      <td>NaN</td>\n",
       "      <td>NaN</td>\n",
       "      <td>NaN</td>\n",
       "      <td>NaN</td>\n",
       "      <td>NaN</td>\n",
       "      <td>NaN</td>\n",
       "      <td>NaN</td>\n",
       "      <td>NaN</td>\n",
       "      <td>NaN</td>\n",
       "      <td>NaN</td>\n",
       "      <td>NaN</td>\n",
       "      <td>NaN</td>\n",
       "      <td>NaN</td>\n",
       "      <td>NaN</td>\n",
       "      <td>NaN</td>\n",
       "      <td>NaN</td>\n",
       "      <td>NaN</td>\n",
       "      <td>NaN</td>\n",
       "      <td>NaN</td>\n",
       "    </tr>\n",
       "    <tr>\n",
       "      <th>39713</th>\n",
       "      <td>90665</td>\n",
       "      <td>90607</td>\n",
       "      <td>8500</td>\n",
       "      <td>8500</td>\n",
       "      <td>875.0</td>\n",
       "      <td>36 months</td>\n",
       "      <td>10.28%</td>\n",
       "      <td>275.38</td>\n",
       "      <td>C</td>\n",
       "      <td>C1</td>\n",
       "      <td>Squarewave Solutions, Ltd.</td>\n",
       "      <td>3 years</td>\n",
       "      <td>RENT</td>\n",
       "      <td>18000.0</td>\n",
       "      <td>Not Verified</td>\n",
       "      <td>Jul-07</td>\n",
       "      <td>Fully Paid</td>\n",
       "      <td>n</td>\n",
       "      <td>https://lendingclub.com/browse/loanDetail.acti...</td>\n",
       "      <td>The rate of interest and fees incurred by carr...</td>\n",
       "      <td>credit_card</td>\n",
       "      <td>Retiring credit card debt</td>\n",
       "      <td>274xx</td>\n",
       "      <td>NC</td>\n",
       "      <td>6.40</td>\n",
       "      <td>1</td>\n",
       "      <td>Dec-86</td>\n",
       "      <td>1</td>\n",
       "      <td>5.0</td>\n",
       "      <td>0.0</td>\n",
       "      <td>6</td>\n",
       "      <td>0</td>\n",
       "      <td>8847</td>\n",
       "      <td>26.90%</td>\n",
       "      <td>9</td>\n",
       "      <td>f</td>\n",
       "      <td>0.00</td>\n",
       "      <td>0.00</td>\n",
       "      <td>9913.491822</td>\n",
       "      <td>1020.51</td>\n",
       "      <td>8500.00</td>\n",
       "      <td>1413.49</td>\n",
       "      <td>0.00</td>\n",
       "      <td>0.00</td>\n",
       "      <td>0.00</td>\n",
       "      <td>Jul-10</td>\n",
       "      <td>281.94</td>\n",
       "      <td>NaN</td>\n",
       "      <td>Jul-10</td>\n",
       "      <td>NaN</td>\n",
       "      <td>NaN</td>\n",
       "      <td>1</td>\n",
       "      <td>INDIVIDUAL</td>\n",
       "      <td>NaN</td>\n",
       "      <td>NaN</td>\n",
       "      <td>NaN</td>\n",
       "      <td>0</td>\n",
       "      <td>NaN</td>\n",
       "      <td>NaN</td>\n",
       "      <td>NaN</td>\n",
       "      <td>NaN</td>\n",
       "      <td>NaN</td>\n",
       "      <td>NaN</td>\n",
       "      <td>NaN</td>\n",
       "      <td>NaN</td>\n",
       "      <td>NaN</td>\n",
       "      <td>NaN</td>\n",
       "      <td>NaN</td>\n",
       "      <td>NaN</td>\n",
       "      <td>NaN</td>\n",
       "      <td>NaN</td>\n",
       "      <td>NaN</td>\n",
       "      <td>NaN</td>\n",
       "      <td>NaN</td>\n",
       "      <td>NaN</td>\n",
       "      <td>NaN</td>\n",
       "      <td>NaN</td>\n",
       "      <td>NaN</td>\n",
       "      <td>NaN</td>\n",
       "      <td>0</td>\n",
       "      <td>NaN</td>\n",
       "      <td>NaN</td>\n",
       "      <td>NaN</td>\n",
       "      <td>NaN</td>\n",
       "      <td>NaN</td>\n",
       "      <td>NaN</td>\n",
       "      <td>NaN</td>\n",
       "      <td>NaN</td>\n",
       "      <td>NaN</td>\n",
       "      <td>NaN</td>\n",
       "      <td>NaN</td>\n",
       "      <td>NaN</td>\n",
       "      <td>NaN</td>\n",
       "      <td>NaN</td>\n",
       "      <td>NaN</td>\n",
       "      <td>NaN</td>\n",
       "      <td>NaN</td>\n",
       "      <td>NaN</td>\n",
       "      <td>NaN</td>\n",
       "      <td>NaN</td>\n",
       "      <td>NaN</td>\n",
       "      <td>NaN</td>\n",
       "      <td>NaN</td>\n",
       "      <td>NaN</td>\n",
       "      <td>NaN</td>\n",
       "      <td>NaN</td>\n",
       "      <td>NaN</td>\n",
       "      <td>NaN</td>\n",
       "      <td>NaN</td>\n",
       "      <td>NaN</td>\n",
       "      <td>NaN</td>\n",
       "    </tr>\n",
       "    <tr>\n",
       "      <th>39714</th>\n",
       "      <td>90395</td>\n",
       "      <td>90390</td>\n",
       "      <td>5000</td>\n",
       "      <td>5000</td>\n",
       "      <td>1325.0</td>\n",
       "      <td>36 months</td>\n",
       "      <td>8.07%</td>\n",
       "      <td>156.84</td>\n",
       "      <td>A</td>\n",
       "      <td>A4</td>\n",
       "      <td>NaN</td>\n",
       "      <td>&lt; 1 year</td>\n",
       "      <td>MORTGAGE</td>\n",
       "      <td>100000.0</td>\n",
       "      <td>Not Verified</td>\n",
       "      <td>Jul-07</td>\n",
       "      <td>Fully Paid</td>\n",
       "      <td>n</td>\n",
       "      <td>https://lendingclub.com/browse/loanDetail.acti...</td>\n",
       "      <td>NaN</td>\n",
       "      <td>debt_consolidation</td>\n",
       "      <td>MBA Loan Consolidation</td>\n",
       "      <td>017xx</td>\n",
       "      <td>MA</td>\n",
       "      <td>2.30</td>\n",
       "      <td>0</td>\n",
       "      <td>Oct-98</td>\n",
       "      <td>0</td>\n",
       "      <td>0.0</td>\n",
       "      <td>0.0</td>\n",
       "      <td>11</td>\n",
       "      <td>0</td>\n",
       "      <td>9698</td>\n",
       "      <td>19.40%</td>\n",
       "      <td>20</td>\n",
       "      <td>f</td>\n",
       "      <td>0.00</td>\n",
       "      <td>0.00</td>\n",
       "      <td>5272.161128</td>\n",
       "      <td>1397.12</td>\n",
       "      <td>5000.00</td>\n",
       "      <td>272.16</td>\n",
       "      <td>0.00</td>\n",
       "      <td>0.00</td>\n",
       "      <td>0.00</td>\n",
       "      <td>Apr-08</td>\n",
       "      <td>0.00</td>\n",
       "      <td>NaN</td>\n",
       "      <td>Jun-07</td>\n",
       "      <td>NaN</td>\n",
       "      <td>NaN</td>\n",
       "      <td>1</td>\n",
       "      <td>INDIVIDUAL</td>\n",
       "      <td>NaN</td>\n",
       "      <td>NaN</td>\n",
       "      <td>NaN</td>\n",
       "      <td>0</td>\n",
       "      <td>NaN</td>\n",
       "      <td>NaN</td>\n",
       "      <td>NaN</td>\n",
       "      <td>NaN</td>\n",
       "      <td>NaN</td>\n",
       "      <td>NaN</td>\n",
       "      <td>NaN</td>\n",
       "      <td>NaN</td>\n",
       "      <td>NaN</td>\n",
       "      <td>NaN</td>\n",
       "      <td>NaN</td>\n",
       "      <td>NaN</td>\n",
       "      <td>NaN</td>\n",
       "      <td>NaN</td>\n",
       "      <td>NaN</td>\n",
       "      <td>NaN</td>\n",
       "      <td>NaN</td>\n",
       "      <td>NaN</td>\n",
       "      <td>NaN</td>\n",
       "      <td>NaN</td>\n",
       "      <td>NaN</td>\n",
       "      <td>NaN</td>\n",
       "      <td>0</td>\n",
       "      <td>NaN</td>\n",
       "      <td>NaN</td>\n",
       "      <td>NaN</td>\n",
       "      <td>NaN</td>\n",
       "      <td>NaN</td>\n",
       "      <td>NaN</td>\n",
       "      <td>NaN</td>\n",
       "      <td>NaN</td>\n",
       "      <td>NaN</td>\n",
       "      <td>NaN</td>\n",
       "      <td>NaN</td>\n",
       "      <td>NaN</td>\n",
       "      <td>NaN</td>\n",
       "      <td>NaN</td>\n",
       "      <td>NaN</td>\n",
       "      <td>NaN</td>\n",
       "      <td>NaN</td>\n",
       "      <td>NaN</td>\n",
       "      <td>NaN</td>\n",
       "      <td>NaN</td>\n",
       "      <td>NaN</td>\n",
       "      <td>NaN</td>\n",
       "      <td>NaN</td>\n",
       "      <td>NaN</td>\n",
       "      <td>NaN</td>\n",
       "      <td>NaN</td>\n",
       "      <td>NaN</td>\n",
       "      <td>NaN</td>\n",
       "      <td>NaN</td>\n",
       "      <td>NaN</td>\n",
       "      <td>NaN</td>\n",
       "    </tr>\n",
       "    <tr>\n",
       "      <th>39715</th>\n",
       "      <td>90376</td>\n",
       "      <td>89243</td>\n",
       "      <td>5000</td>\n",
       "      <td>5000</td>\n",
       "      <td>650.0</td>\n",
       "      <td>36 months</td>\n",
       "      <td>7.43%</td>\n",
       "      <td>155.38</td>\n",
       "      <td>A</td>\n",
       "      <td>A2</td>\n",
       "      <td>NaN</td>\n",
       "      <td>&lt; 1 year</td>\n",
       "      <td>MORTGAGE</td>\n",
       "      <td>200000.0</td>\n",
       "      <td>Not Verified</td>\n",
       "      <td>Jul-07</td>\n",
       "      <td>Fully Paid</td>\n",
       "      <td>n</td>\n",
       "      <td>https://lendingclub.com/browse/loanDetail.acti...</td>\n",
       "      <td>NaN</td>\n",
       "      <td>other</td>\n",
       "      <td>JAL Loan</td>\n",
       "      <td>208xx</td>\n",
       "      <td>MD</td>\n",
       "      <td>3.72</td>\n",
       "      <td>0</td>\n",
       "      <td>Nov-88</td>\n",
       "      <td>0</td>\n",
       "      <td>0.0</td>\n",
       "      <td>0.0</td>\n",
       "      <td>17</td>\n",
       "      <td>0</td>\n",
       "      <td>85607</td>\n",
       "      <td>0.70%</td>\n",
       "      <td>26</td>\n",
       "      <td>f</td>\n",
       "      <td>0.00</td>\n",
       "      <td>0.00</td>\n",
       "      <td>5174.198551</td>\n",
       "      <td>672.66</td>\n",
       "      <td>5000.00</td>\n",
       "      <td>174.20</td>\n",
       "      <td>0.00</td>\n",
       "      <td>0.00</td>\n",
       "      <td>0.00</td>\n",
       "      <td>Jan-08</td>\n",
       "      <td>0.00</td>\n",
       "      <td>NaN</td>\n",
       "      <td>Jun-07</td>\n",
       "      <td>NaN</td>\n",
       "      <td>NaN</td>\n",
       "      <td>1</td>\n",
       "      <td>INDIVIDUAL</td>\n",
       "      <td>NaN</td>\n",
       "      <td>NaN</td>\n",
       "      <td>NaN</td>\n",
       "      <td>0</td>\n",
       "      <td>NaN</td>\n",
       "      <td>NaN</td>\n",
       "      <td>NaN</td>\n",
       "      <td>NaN</td>\n",
       "      <td>NaN</td>\n",
       "      <td>NaN</td>\n",
       "      <td>NaN</td>\n",
       "      <td>NaN</td>\n",
       "      <td>NaN</td>\n",
       "      <td>NaN</td>\n",
       "      <td>NaN</td>\n",
       "      <td>NaN</td>\n",
       "      <td>NaN</td>\n",
       "      <td>NaN</td>\n",
       "      <td>NaN</td>\n",
       "      <td>NaN</td>\n",
       "      <td>NaN</td>\n",
       "      <td>NaN</td>\n",
       "      <td>NaN</td>\n",
       "      <td>NaN</td>\n",
       "      <td>NaN</td>\n",
       "      <td>NaN</td>\n",
       "      <td>0</td>\n",
       "      <td>NaN</td>\n",
       "      <td>NaN</td>\n",
       "      <td>NaN</td>\n",
       "      <td>NaN</td>\n",
       "      <td>NaN</td>\n",
       "      <td>NaN</td>\n",
       "      <td>NaN</td>\n",
       "      <td>NaN</td>\n",
       "      <td>NaN</td>\n",
       "      <td>NaN</td>\n",
       "      <td>NaN</td>\n",
       "      <td>NaN</td>\n",
       "      <td>NaN</td>\n",
       "      <td>NaN</td>\n",
       "      <td>NaN</td>\n",
       "      <td>NaN</td>\n",
       "      <td>NaN</td>\n",
       "      <td>NaN</td>\n",
       "      <td>NaN</td>\n",
       "      <td>NaN</td>\n",
       "      <td>NaN</td>\n",
       "      <td>NaN</td>\n",
       "      <td>NaN</td>\n",
       "      <td>NaN</td>\n",
       "      <td>NaN</td>\n",
       "      <td>NaN</td>\n",
       "      <td>NaN</td>\n",
       "      <td>NaN</td>\n",
       "      <td>NaN</td>\n",
       "      <td>NaN</td>\n",
       "      <td>NaN</td>\n",
       "    </tr>\n",
       "    <tr>\n",
       "      <th>39716</th>\n",
       "      <td>87023</td>\n",
       "      <td>86999</td>\n",
       "      <td>7500</td>\n",
       "      <td>7500</td>\n",
       "      <td>800.0</td>\n",
       "      <td>36 months</td>\n",
       "      <td>13.75%</td>\n",
       "      <td>255.43</td>\n",
       "      <td>E</td>\n",
       "      <td>E2</td>\n",
       "      <td>Evergreen Center</td>\n",
       "      <td>&lt; 1 year</td>\n",
       "      <td>OWN</td>\n",
       "      <td>22000.0</td>\n",
       "      <td>Not Verified</td>\n",
       "      <td>Jun-07</td>\n",
       "      <td>Fully Paid</td>\n",
       "      <td>n</td>\n",
       "      <td>https://lendingclub.com/browse/loanDetail.acti...</td>\n",
       "      <td>I plan to consolidate over $7,000 of debt: a c...</td>\n",
       "      <td>debt_consolidation</td>\n",
       "      <td>Consolidation Loan</td>\n",
       "      <td>027xx</td>\n",
       "      <td>MA</td>\n",
       "      <td>14.29</td>\n",
       "      <td>1</td>\n",
       "      <td>Oct-03</td>\n",
       "      <td>0</td>\n",
       "      <td>11.0</td>\n",
       "      <td>0.0</td>\n",
       "      <td>7</td>\n",
       "      <td>0</td>\n",
       "      <td>4175</td>\n",
       "      <td>51.50%</td>\n",
       "      <td>8</td>\n",
       "      <td>f</td>\n",
       "      <td>0.00</td>\n",
       "      <td>0.00</td>\n",
       "      <td>9195.263334</td>\n",
       "      <td>980.83</td>\n",
       "      <td>7500.00</td>\n",
       "      <td>1695.26</td>\n",
       "      <td>0.00</td>\n",
       "      <td>0.00</td>\n",
       "      <td>0.00</td>\n",
       "      <td>Jun-10</td>\n",
       "      <td>256.59</td>\n",
       "      <td>NaN</td>\n",
       "      <td>Jun-10</td>\n",
       "      <td>NaN</td>\n",
       "      <td>NaN</td>\n",
       "      <td>1</td>\n",
       "      <td>INDIVIDUAL</td>\n",
       "      <td>NaN</td>\n",
       "      <td>NaN</td>\n",
       "      <td>NaN</td>\n",
       "      <td>0</td>\n",
       "      <td>NaN</td>\n",
       "      <td>NaN</td>\n",
       "      <td>NaN</td>\n",
       "      <td>NaN</td>\n",
       "      <td>NaN</td>\n",
       "      <td>NaN</td>\n",
       "      <td>NaN</td>\n",
       "      <td>NaN</td>\n",
       "      <td>NaN</td>\n",
       "      <td>NaN</td>\n",
       "      <td>NaN</td>\n",
       "      <td>NaN</td>\n",
       "      <td>NaN</td>\n",
       "      <td>NaN</td>\n",
       "      <td>NaN</td>\n",
       "      <td>NaN</td>\n",
       "      <td>NaN</td>\n",
       "      <td>NaN</td>\n",
       "      <td>NaN</td>\n",
       "      <td>NaN</td>\n",
       "      <td>NaN</td>\n",
       "      <td>NaN</td>\n",
       "      <td>0</td>\n",
       "      <td>NaN</td>\n",
       "      <td>NaN</td>\n",
       "      <td>NaN</td>\n",
       "      <td>NaN</td>\n",
       "      <td>NaN</td>\n",
       "      <td>NaN</td>\n",
       "      <td>NaN</td>\n",
       "      <td>NaN</td>\n",
       "      <td>NaN</td>\n",
       "      <td>NaN</td>\n",
       "      <td>NaN</td>\n",
       "      <td>NaN</td>\n",
       "      <td>NaN</td>\n",
       "      <td>NaN</td>\n",
       "      <td>NaN</td>\n",
       "      <td>NaN</td>\n",
       "      <td>NaN</td>\n",
       "      <td>NaN</td>\n",
       "      <td>NaN</td>\n",
       "      <td>NaN</td>\n",
       "      <td>NaN</td>\n",
       "      <td>NaN</td>\n",
       "      <td>NaN</td>\n",
       "      <td>NaN</td>\n",
       "      <td>NaN</td>\n",
       "      <td>NaN</td>\n",
       "      <td>NaN</td>\n",
       "      <td>NaN</td>\n",
       "      <td>NaN</td>\n",
       "      <td>NaN</td>\n",
       "      <td>NaN</td>\n",
       "    </tr>\n",
       "  </tbody>\n",
       "</table>\n",
       "<p>39717 rows × 111 columns</p>\n",
       "</div>"
      ],
      "text/plain": [
       "            id  member_id  loan_amnt  funded_amnt  funded_amnt_inv  \\\n",
       "0      1077501    1296599       5000         5000           4975.0   \n",
       "1      1077430    1314167       2500         2500           2500.0   \n",
       "2      1077175    1313524       2400         2400           2400.0   \n",
       "3      1076863    1277178      10000        10000          10000.0   \n",
       "4      1075358    1311748       3000         3000           3000.0   \n",
       "...        ...        ...        ...          ...              ...   \n",
       "39712    92187      92174       2500         2500           1075.0   \n",
       "39713    90665      90607       8500         8500            875.0   \n",
       "39714    90395      90390       5000         5000           1325.0   \n",
       "39715    90376      89243       5000         5000            650.0   \n",
       "39716    87023      86999       7500         7500            800.0   \n",
       "\n",
       "             term int_rate  installment grade sub_grade  \\\n",
       "0       36 months   10.65%       162.87     B        B2   \n",
       "1       60 months   15.27%        59.83     C        C4   \n",
       "2       36 months   15.96%        84.33     C        C5   \n",
       "3       36 months   13.49%       339.31     C        C1   \n",
       "4       60 months   12.69%        67.79     B        B5   \n",
       "...           ...      ...          ...   ...       ...   \n",
       "39712   36 months    8.07%        78.42     A        A4   \n",
       "39713   36 months   10.28%       275.38     C        C1   \n",
       "39714   36 months    8.07%       156.84     A        A4   \n",
       "39715   36 months    7.43%       155.38     A        A2   \n",
       "39716   36 months   13.75%       255.43     E        E2   \n",
       "\n",
       "                        emp_title emp_length home_ownership  annual_inc  \\\n",
       "0                             NaN  10+ years           RENT     24000.0   \n",
       "1                           Ryder   < 1 year           RENT     30000.0   \n",
       "2                             NaN  10+ years           RENT     12252.0   \n",
       "3             AIR RESOURCES BOARD  10+ years           RENT     49200.0   \n",
       "4        University Medical Group     1 year           RENT     80000.0   \n",
       "...                           ...        ...            ...         ...   \n",
       "39712             FiSite Research    4 years       MORTGAGE    110000.0   \n",
       "39713  Squarewave Solutions, Ltd.    3 years           RENT     18000.0   \n",
       "39714                         NaN   < 1 year       MORTGAGE    100000.0   \n",
       "39715                         NaN   < 1 year       MORTGAGE    200000.0   \n",
       "39716            Evergreen Center   < 1 year            OWN     22000.0   \n",
       "\n",
       "      verification_status issue_d  loan_status pymnt_plan  \\\n",
       "0                Verified  Dec-11   Fully Paid          n   \n",
       "1         Source Verified  Dec-11  Charged Off          n   \n",
       "2            Not Verified  Dec-11   Fully Paid          n   \n",
       "3         Source Verified  Dec-11   Fully Paid          n   \n",
       "4         Source Verified  Dec-11      Current          n   \n",
       "...                   ...     ...          ...        ...   \n",
       "39712        Not Verified  Jul-07   Fully Paid          n   \n",
       "39713        Not Verified  Jul-07   Fully Paid          n   \n",
       "39714        Not Verified  Jul-07   Fully Paid          n   \n",
       "39715        Not Verified  Jul-07   Fully Paid          n   \n",
       "39716        Not Verified  Jun-07   Fully Paid          n   \n",
       "\n",
       "                                                     url  \\\n",
       "0      https://lendingclub.com/browse/loanDetail.acti...   \n",
       "1      https://lendingclub.com/browse/loanDetail.acti...   \n",
       "2      https://lendingclub.com/browse/loanDetail.acti...   \n",
       "3      https://lendingclub.com/browse/loanDetail.acti...   \n",
       "4      https://lendingclub.com/browse/loanDetail.acti...   \n",
       "...                                                  ...   \n",
       "39712  https://lendingclub.com/browse/loanDetail.acti...   \n",
       "39713  https://lendingclub.com/browse/loanDetail.acti...   \n",
       "39714  https://lendingclub.com/browse/loanDetail.acti...   \n",
       "39715  https://lendingclub.com/browse/loanDetail.acti...   \n",
       "39716  https://lendingclub.com/browse/loanDetail.acti...   \n",
       "\n",
       "                                                    desc             purpose  \\\n",
       "0        Borrower added on 12/22/11 > I need to upgra...         credit_card   \n",
       "1        Borrower added on 12/22/11 > I plan to use t...                 car   \n",
       "2                                                    NaN      small_business   \n",
       "3        Borrower added on 12/21/11 > to pay for prop...               other   \n",
       "4        Borrower added on 12/21/11 > I plan on combi...               other   \n",
       "...                                                  ...                 ...   \n",
       "39712  Our current gutter system on our home is old a...    home_improvement   \n",
       "39713  The rate of interest and fees incurred by carr...         credit_card   \n",
       "39714                                                NaN  debt_consolidation   \n",
       "39715                                                NaN               other   \n",
       "39716  I plan to consolidate over $7,000 of debt: a c...  debt_consolidation   \n",
       "\n",
       "                           title zip_code addr_state    dti  delinq_2yrs  \\\n",
       "0                       Computer    860xx         AZ  27.65            0   \n",
       "1                           bike    309xx         GA   1.00            0   \n",
       "2           real estate business    606xx         IL   8.72            0   \n",
       "3                       personel    917xx         CA  20.00            0   \n",
       "4                       Personal    972xx         OR  17.94            0   \n",
       "...                          ...      ...        ...    ...          ...   \n",
       "39712           Home Improvement    802xx         CO  11.33            0   \n",
       "39713  Retiring credit card debt    274xx         NC   6.40            1   \n",
       "39714     MBA Loan Consolidation    017xx         MA   2.30            0   \n",
       "39715                   JAL Loan    208xx         MD   3.72            0   \n",
       "39716         Consolidation Loan    027xx         MA  14.29            1   \n",
       "\n",
       "      earliest_cr_line  inq_last_6mths  mths_since_last_delinq  \\\n",
       "0               Jan-85               1                     NaN   \n",
       "1               Apr-99               5                     NaN   \n",
       "2               Nov-01               2                     NaN   \n",
       "3               Feb-96               1                    35.0   \n",
       "4               Jan-96               0                    38.0   \n",
       "...                ...             ...                     ...   \n",
       "39712           Nov-90               0                     0.0   \n",
       "39713           Dec-86               1                     5.0   \n",
       "39714           Oct-98               0                     0.0   \n",
       "39715           Nov-88               0                     0.0   \n",
       "39716           Oct-03               0                    11.0   \n",
       "\n",
       "       mths_since_last_record  open_acc  pub_rec  revol_bal revol_util  \\\n",
       "0                         NaN         3        0      13648     83.70%   \n",
       "1                         NaN         3        0       1687      9.40%   \n",
       "2                         NaN         2        0       2956     98.50%   \n",
       "3                         NaN        10        0       5598        21%   \n",
       "4                         NaN        15        0      27783     53.90%   \n",
       "...                       ...       ...      ...        ...        ...   \n",
       "39712                     0.0        13        0       7274     13.10%   \n",
       "39713                     0.0         6        0       8847     26.90%   \n",
       "39714                     0.0        11        0       9698     19.40%   \n",
       "39715                     0.0        17        0      85607      0.70%   \n",
       "39716                     0.0         7        0       4175     51.50%   \n",
       "\n",
       "       total_acc initial_list_status  out_prncp  out_prncp_inv   total_pymnt  \\\n",
       "0              9                   f       0.00           0.00   5863.155187   \n",
       "1              4                   f       0.00           0.00   1008.710000   \n",
       "2             10                   f       0.00           0.00   3005.666844   \n",
       "3             37                   f       0.00           0.00  12231.890000   \n",
       "4             38                   f     524.06         524.06   3513.330000   \n",
       "...          ...                 ...        ...            ...           ...   \n",
       "39712         40                   f       0.00           0.00   2822.969293   \n",
       "39713          9                   f       0.00           0.00   9913.491822   \n",
       "39714         20                   f       0.00           0.00   5272.161128   \n",
       "39715         26                   f       0.00           0.00   5174.198551   \n",
       "39716          8                   f       0.00           0.00   9195.263334   \n",
       "\n",
       "       total_pymnt_inv  total_rec_prncp  total_rec_int  total_rec_late_fee  \\\n",
       "0              5833.84          5000.00         863.16                0.00   \n",
       "1              1008.71           456.46         435.17                0.00   \n",
       "2              3005.67          2400.00         605.67                0.00   \n",
       "3             12231.89         10000.00        2214.92               16.97   \n",
       "4              3513.33          2475.94        1037.39                0.00   \n",
       "...                ...              ...            ...                 ...   \n",
       "39712          1213.88          2500.00         322.97                0.00   \n",
       "39713          1020.51          8500.00        1413.49                0.00   \n",
       "39714          1397.12          5000.00         272.16                0.00   \n",
       "39715           672.66          5000.00         174.20                0.00   \n",
       "39716           980.83          7500.00        1695.26                0.00   \n",
       "\n",
       "       recoveries  collection_recovery_fee last_pymnt_d  last_pymnt_amnt  \\\n",
       "0            0.00                     0.00       Jan-15           171.62   \n",
       "1          117.08                     1.11       Apr-13           119.66   \n",
       "2            0.00                     0.00       Jun-14           649.91   \n",
       "3            0.00                     0.00       Jan-15           357.48   \n",
       "4            0.00                     0.00       May-16            67.79   \n",
       "...           ...                      ...          ...              ...   \n",
       "39712        0.00                     0.00       Jul-10            80.90   \n",
       "39713        0.00                     0.00       Jul-10           281.94   \n",
       "39714        0.00                     0.00       Apr-08             0.00   \n",
       "39715        0.00                     0.00       Jan-08             0.00   \n",
       "39716        0.00                     0.00       Jun-10           256.59   \n",
       "\n",
       "      next_pymnt_d last_credit_pull_d  collections_12_mths_ex_med  \\\n",
       "0              NaN             May-16                         0.0   \n",
       "1              NaN             Sep-13                         0.0   \n",
       "2              NaN             May-16                         0.0   \n",
       "3              NaN             Apr-16                         0.0   \n",
       "4           Jun-16             May-16                         0.0   \n",
       "...            ...                ...                         ...   \n",
       "39712          NaN             Jun-10                         NaN   \n",
       "39713          NaN             Jul-10                         NaN   \n",
       "39714          NaN             Jun-07                         NaN   \n",
       "39715          NaN             Jun-07                         NaN   \n",
       "39716          NaN             Jun-10                         NaN   \n",
       "\n",
       "       mths_since_last_major_derog  policy_code application_type  \\\n",
       "0                              NaN            1       INDIVIDUAL   \n",
       "1                              NaN            1       INDIVIDUAL   \n",
       "2                              NaN            1       INDIVIDUAL   \n",
       "3                              NaN            1       INDIVIDUAL   \n",
       "4                              NaN            1       INDIVIDUAL   \n",
       "...                            ...          ...              ...   \n",
       "39712                          NaN            1       INDIVIDUAL   \n",
       "39713                          NaN            1       INDIVIDUAL   \n",
       "39714                          NaN            1       INDIVIDUAL   \n",
       "39715                          NaN            1       INDIVIDUAL   \n",
       "39716                          NaN            1       INDIVIDUAL   \n",
       "\n",
       "       annual_inc_joint  dti_joint  verification_status_joint  acc_now_delinq  \\\n",
       "0                   NaN        NaN                        NaN               0   \n",
       "1                   NaN        NaN                        NaN               0   \n",
       "2                   NaN        NaN                        NaN               0   \n",
       "3                   NaN        NaN                        NaN               0   \n",
       "4                   NaN        NaN                        NaN               0   \n",
       "...                 ...        ...                        ...             ...   \n",
       "39712               NaN        NaN                        NaN               0   \n",
       "39713               NaN        NaN                        NaN               0   \n",
       "39714               NaN        NaN                        NaN               0   \n",
       "39715               NaN        NaN                        NaN               0   \n",
       "39716               NaN        NaN                        NaN               0   \n",
       "\n",
       "       tot_coll_amt  tot_cur_bal  open_acc_6m  open_il_6m  open_il_12m  \\\n",
       "0               NaN          NaN          NaN         NaN          NaN   \n",
       "1               NaN          NaN          NaN         NaN          NaN   \n",
       "2               NaN          NaN          NaN         NaN          NaN   \n",
       "3               NaN          NaN          NaN         NaN          NaN   \n",
       "4               NaN          NaN          NaN         NaN          NaN   \n",
       "...             ...          ...          ...         ...          ...   \n",
       "39712           NaN          NaN          NaN         NaN          NaN   \n",
       "39713           NaN          NaN          NaN         NaN          NaN   \n",
       "39714           NaN          NaN          NaN         NaN          NaN   \n",
       "39715           NaN          NaN          NaN         NaN          NaN   \n",
       "39716           NaN          NaN          NaN         NaN          NaN   \n",
       "\n",
       "       open_il_24m  mths_since_rcnt_il  total_bal_il  il_util  open_rv_12m  \\\n",
       "0              NaN                 NaN           NaN      NaN          NaN   \n",
       "1              NaN                 NaN           NaN      NaN          NaN   \n",
       "2              NaN                 NaN           NaN      NaN          NaN   \n",
       "3              NaN                 NaN           NaN      NaN          NaN   \n",
       "4              NaN                 NaN           NaN      NaN          NaN   \n",
       "...            ...                 ...           ...      ...          ...   \n",
       "39712          NaN                 NaN           NaN      NaN          NaN   \n",
       "39713          NaN                 NaN           NaN      NaN          NaN   \n",
       "39714          NaN                 NaN           NaN      NaN          NaN   \n",
       "39715          NaN                 NaN           NaN      NaN          NaN   \n",
       "39716          NaN                 NaN           NaN      NaN          NaN   \n",
       "\n",
       "       open_rv_24m  max_bal_bc  all_util  total_rev_hi_lim  inq_fi  \\\n",
       "0              NaN         NaN       NaN               NaN     NaN   \n",
       "1              NaN         NaN       NaN               NaN     NaN   \n",
       "2              NaN         NaN       NaN               NaN     NaN   \n",
       "3              NaN         NaN       NaN               NaN     NaN   \n",
       "4              NaN         NaN       NaN               NaN     NaN   \n",
       "...            ...         ...       ...               ...     ...   \n",
       "39712          NaN         NaN       NaN               NaN     NaN   \n",
       "39713          NaN         NaN       NaN               NaN     NaN   \n",
       "39714          NaN         NaN       NaN               NaN     NaN   \n",
       "39715          NaN         NaN       NaN               NaN     NaN   \n",
       "39716          NaN         NaN       NaN               NaN     NaN   \n",
       "\n",
       "       total_cu_tl  inq_last_12m  acc_open_past_24mths  avg_cur_bal  \\\n",
       "0              NaN           NaN                   NaN          NaN   \n",
       "1              NaN           NaN                   NaN          NaN   \n",
       "2              NaN           NaN                   NaN          NaN   \n",
       "3              NaN           NaN                   NaN          NaN   \n",
       "4              NaN           NaN                   NaN          NaN   \n",
       "...            ...           ...                   ...          ...   \n",
       "39712          NaN           NaN                   NaN          NaN   \n",
       "39713          NaN           NaN                   NaN          NaN   \n",
       "39714          NaN           NaN                   NaN          NaN   \n",
       "39715          NaN           NaN                   NaN          NaN   \n",
       "39716          NaN           NaN                   NaN          NaN   \n",
       "\n",
       "       bc_open_to_buy  bc_util  chargeoff_within_12_mths  delinq_amnt  \\\n",
       "0                 NaN      NaN                       0.0            0   \n",
       "1                 NaN      NaN                       0.0            0   \n",
       "2                 NaN      NaN                       0.0            0   \n",
       "3                 NaN      NaN                       0.0            0   \n",
       "4                 NaN      NaN                       0.0            0   \n",
       "...               ...      ...                       ...          ...   \n",
       "39712             NaN      NaN                       NaN            0   \n",
       "39713             NaN      NaN                       NaN            0   \n",
       "39714             NaN      NaN                       NaN            0   \n",
       "39715             NaN      NaN                       NaN            0   \n",
       "39716             NaN      NaN                       NaN            0   \n",
       "\n",
       "       mo_sin_old_il_acct  mo_sin_old_rev_tl_op  mo_sin_rcnt_rev_tl_op  \\\n",
       "0                     NaN                   NaN                    NaN   \n",
       "1                     NaN                   NaN                    NaN   \n",
       "2                     NaN                   NaN                    NaN   \n",
       "3                     NaN                   NaN                    NaN   \n",
       "4                     NaN                   NaN                    NaN   \n",
       "...                   ...                   ...                    ...   \n",
       "39712                 NaN                   NaN                    NaN   \n",
       "39713                 NaN                   NaN                    NaN   \n",
       "39714                 NaN                   NaN                    NaN   \n",
       "39715                 NaN                   NaN                    NaN   \n",
       "39716                 NaN                   NaN                    NaN   \n",
       "\n",
       "       mo_sin_rcnt_tl  mort_acc  mths_since_recent_bc  \\\n",
       "0                 NaN       NaN                   NaN   \n",
       "1                 NaN       NaN                   NaN   \n",
       "2                 NaN       NaN                   NaN   \n",
       "3                 NaN       NaN                   NaN   \n",
       "4                 NaN       NaN                   NaN   \n",
       "...               ...       ...                   ...   \n",
       "39712             NaN       NaN                   NaN   \n",
       "39713             NaN       NaN                   NaN   \n",
       "39714             NaN       NaN                   NaN   \n",
       "39715             NaN       NaN                   NaN   \n",
       "39716             NaN       NaN                   NaN   \n",
       "\n",
       "       mths_since_recent_bc_dlq  mths_since_recent_inq  \\\n",
       "0                           NaN                    NaN   \n",
       "1                           NaN                    NaN   \n",
       "2                           NaN                    NaN   \n",
       "3                           NaN                    NaN   \n",
       "4                           NaN                    NaN   \n",
       "...                         ...                    ...   \n",
       "39712                       NaN                    NaN   \n",
       "39713                       NaN                    NaN   \n",
       "39714                       NaN                    NaN   \n",
       "39715                       NaN                    NaN   \n",
       "39716                       NaN                    NaN   \n",
       "\n",
       "       mths_since_recent_revol_delinq  num_accts_ever_120_pd  num_actv_bc_tl  \\\n",
       "0                                 NaN                    NaN             NaN   \n",
       "1                                 NaN                    NaN             NaN   \n",
       "2                                 NaN                    NaN             NaN   \n",
       "3                                 NaN                    NaN             NaN   \n",
       "4                                 NaN                    NaN             NaN   \n",
       "...                               ...                    ...             ...   \n",
       "39712                             NaN                    NaN             NaN   \n",
       "39713                             NaN                    NaN             NaN   \n",
       "39714                             NaN                    NaN             NaN   \n",
       "39715                             NaN                    NaN             NaN   \n",
       "39716                             NaN                    NaN             NaN   \n",
       "\n",
       "       num_actv_rev_tl  num_bc_sats  num_bc_tl  num_il_tl  num_op_rev_tl  \\\n",
       "0                  NaN          NaN        NaN        NaN            NaN   \n",
       "1                  NaN          NaN        NaN        NaN            NaN   \n",
       "2                  NaN          NaN        NaN        NaN            NaN   \n",
       "3                  NaN          NaN        NaN        NaN            NaN   \n",
       "4                  NaN          NaN        NaN        NaN            NaN   \n",
       "...                ...          ...        ...        ...            ...   \n",
       "39712              NaN          NaN        NaN        NaN            NaN   \n",
       "39713              NaN          NaN        NaN        NaN            NaN   \n",
       "39714              NaN          NaN        NaN        NaN            NaN   \n",
       "39715              NaN          NaN        NaN        NaN            NaN   \n",
       "39716              NaN          NaN        NaN        NaN            NaN   \n",
       "\n",
       "       num_rev_accts  num_rev_tl_bal_gt_0  num_sats  num_tl_120dpd_2m  \\\n",
       "0                NaN                  NaN       NaN               NaN   \n",
       "1                NaN                  NaN       NaN               NaN   \n",
       "2                NaN                  NaN       NaN               NaN   \n",
       "3                NaN                  NaN       NaN               NaN   \n",
       "4                NaN                  NaN       NaN               NaN   \n",
       "...              ...                  ...       ...               ...   \n",
       "39712            NaN                  NaN       NaN               NaN   \n",
       "39713            NaN                  NaN       NaN               NaN   \n",
       "39714            NaN                  NaN       NaN               NaN   \n",
       "39715            NaN                  NaN       NaN               NaN   \n",
       "39716            NaN                  NaN       NaN               NaN   \n",
       "\n",
       "       num_tl_30dpd  num_tl_90g_dpd_24m  num_tl_op_past_12m  pct_tl_nvr_dlq  \\\n",
       "0               NaN                 NaN                 NaN             NaN   \n",
       "1               NaN                 NaN                 NaN             NaN   \n",
       "2               NaN                 NaN                 NaN             NaN   \n",
       "3               NaN                 NaN                 NaN             NaN   \n",
       "4               NaN                 NaN                 NaN             NaN   \n",
       "...             ...                 ...                 ...             ...   \n",
       "39712           NaN                 NaN                 NaN             NaN   \n",
       "39713           NaN                 NaN                 NaN             NaN   \n",
       "39714           NaN                 NaN                 NaN             NaN   \n",
       "39715           NaN                 NaN                 NaN             NaN   \n",
       "39716           NaN                 NaN                 NaN             NaN   \n",
       "\n",
       "       percent_bc_gt_75  pub_rec_bankruptcies  tax_liens  tot_hi_cred_lim  \\\n",
       "0                   NaN                   0.0        0.0              NaN   \n",
       "1                   NaN                   0.0        0.0              NaN   \n",
       "2                   NaN                   0.0        0.0              NaN   \n",
       "3                   NaN                   0.0        0.0              NaN   \n",
       "4                   NaN                   0.0        0.0              NaN   \n",
       "...                 ...                   ...        ...              ...   \n",
       "39712               NaN                   NaN        NaN              NaN   \n",
       "39713               NaN                   NaN        NaN              NaN   \n",
       "39714               NaN                   NaN        NaN              NaN   \n",
       "39715               NaN                   NaN        NaN              NaN   \n",
       "39716               NaN                   NaN        NaN              NaN   \n",
       "\n",
       "       total_bal_ex_mort  total_bc_limit  total_il_high_credit_limit  \n",
       "0                    NaN             NaN                         NaN  \n",
       "1                    NaN             NaN                         NaN  \n",
       "2                    NaN             NaN                         NaN  \n",
       "3                    NaN             NaN                         NaN  \n",
       "4                    NaN             NaN                         NaN  \n",
       "...                  ...             ...                         ...  \n",
       "39712                NaN             NaN                         NaN  \n",
       "39713                NaN             NaN                         NaN  \n",
       "39714                NaN             NaN                         NaN  \n",
       "39715                NaN             NaN                         NaN  \n",
       "39716                NaN             NaN                         NaN  \n",
       "\n",
       "[39717 rows x 111 columns]"
      ]
     },
     "execution_count": 6,
     "metadata": {},
     "output_type": "execute_result"
    }
   ],
   "source": [
    "inp0"
   ]
  },
  {
   "cell_type": "code",
   "execution_count": 7,
   "id": "f2196ee8",
   "metadata": {},
   "outputs": [
    {
     "data": {
      "text/plain": [
       "Index(['id', 'member_id', 'loan_amnt', 'funded_amnt', 'funded_amnt_inv',\n",
       "       'term', 'int_rate', 'installment', 'grade', 'sub_grade',\n",
       "       ...\n",
       "       'num_tl_90g_dpd_24m', 'num_tl_op_past_12m', 'pct_tl_nvr_dlq',\n",
       "       'percent_bc_gt_75', 'pub_rec_bankruptcies', 'tax_liens',\n",
       "       'tot_hi_cred_lim', 'total_bal_ex_mort', 'total_bc_limit',\n",
       "       'total_il_high_credit_limit'],\n",
       "      dtype='object', length=111)"
      ]
     },
     "execution_count": 7,
     "metadata": {},
     "output_type": "execute_result"
    }
   ],
   "source": [
    "inp0.columns"
   ]
  },
  {
   "cell_type": "markdown",
   "id": "3098f860",
   "metadata": {},
   "source": [
    "### Data Cleaning"
   ]
  },
  {
   "cell_type": "code",
   "execution_count": 8,
   "id": "acf15749",
   "metadata": {},
   "outputs": [
    {
     "data": {
      "text/plain": [
       "id                              0.000\n",
       "member_id                       0.000\n",
       "loan_amnt                       0.000\n",
       "funded_amnt                     0.000\n",
       "funded_amnt_inv                 0.000\n",
       "                               ...   \n",
       "tax_liens                       0.098\n",
       "tot_hi_cred_lim               100.000\n",
       "total_bal_ex_mort             100.000\n",
       "total_bc_limit                100.000\n",
       "total_il_high_credit_limit    100.000\n",
       "Length: 111, dtype: float64"
      ]
     },
     "execution_count": 8,
     "metadata": {},
     "output_type": "execute_result"
    }
   ],
   "source": [
    "# seeing number of null values in each column in percentage\n",
    "\n",
    "round(100*(inp0.isnull().sum()/len(inp0.index)),3)"
   ]
  },
  {
   "cell_type": "code",
   "execution_count": 9,
   "id": "9463cff7",
   "metadata": {},
   "outputs": [
    {
     "data": {
      "text/plain": [
       "Index(['desc', 'mths_since_last_delinq', 'mths_since_last_record',\n",
       "       'next_pymnt_d', 'mths_since_last_major_derog', 'annual_inc_joint',\n",
       "       'dti_joint', 'verification_status_joint', 'tot_coll_amt', 'tot_cur_bal',\n",
       "       'open_acc_6m', 'open_il_6m', 'open_il_12m', 'open_il_24m',\n",
       "       'mths_since_rcnt_il', 'total_bal_il', 'il_util', 'open_rv_12m',\n",
       "       'open_rv_24m', 'max_bal_bc', 'all_util', 'total_rev_hi_lim', 'inq_fi',\n",
       "       'total_cu_tl', 'inq_last_12m', 'acc_open_past_24mths', 'avg_cur_bal',\n",
       "       'bc_open_to_buy', 'bc_util', 'mo_sin_old_il_acct',\n",
       "       'mo_sin_old_rev_tl_op', 'mo_sin_rcnt_rev_tl_op', 'mo_sin_rcnt_tl',\n",
       "       'mort_acc', 'mths_since_recent_bc', 'mths_since_recent_bc_dlq',\n",
       "       'mths_since_recent_inq', 'mths_since_recent_revol_delinq',\n",
       "       'num_accts_ever_120_pd', 'num_actv_bc_tl', 'num_actv_rev_tl',\n",
       "       'num_bc_sats', 'num_bc_tl', 'num_il_tl', 'num_op_rev_tl',\n",
       "       'num_rev_accts', 'num_rev_tl_bal_gt_0', 'num_sats', 'num_tl_120dpd_2m',\n",
       "       'num_tl_30dpd', 'num_tl_90g_dpd_24m', 'num_tl_op_past_12m',\n",
       "       'pct_tl_nvr_dlq', 'percent_bc_gt_75', 'tot_hi_cred_lim',\n",
       "       'total_bal_ex_mort', 'total_bc_limit', 'total_il_high_credit_limit'],\n",
       "      dtype='object')"
      ]
     },
     "execution_count": 9,
     "metadata": {},
     "output_type": "execute_result"
    }
   ],
   "source": [
    "# seeing columns that have null values more than 30%\n",
    "\n",
    "null_columns = inp0.columns[100*(inp0.isnull().sum()/len(inp0.index))>30]\n",
    "null_columns"
   ]
  },
  {
   "cell_type": "code",
   "execution_count": 10,
   "id": "7d5436f3",
   "metadata": {},
   "outputs": [],
   "source": [
    "# dropping columns that have null values more than 30%\n",
    "inp0 = inp0.drop(null_columns,axis=1)\n"
   ]
  },
  {
   "cell_type": "code",
   "execution_count": 11,
   "id": "b70c3d8e",
   "metadata": {},
   "outputs": [
    {
     "data": {
      "text/plain": [
       "Index(['id', 'member_id', 'loan_amnt', 'funded_amnt', 'funded_amnt_inv',\n",
       "       'term', 'int_rate', 'installment', 'grade', 'sub_grade', 'emp_title',\n",
       "       'emp_length', 'home_ownership', 'annual_inc', 'verification_status',\n",
       "       'issue_d', 'loan_status', 'pymnt_plan', 'url', 'purpose', 'title',\n",
       "       'zip_code', 'addr_state', 'dti', 'delinq_2yrs', 'earliest_cr_line',\n",
       "       'inq_last_6mths', 'open_acc', 'pub_rec', 'revol_bal', 'revol_util',\n",
       "       'total_acc', 'initial_list_status', 'out_prncp', 'out_prncp_inv',\n",
       "       'total_pymnt', 'total_pymnt_inv', 'total_rec_prncp', 'total_rec_int',\n",
       "       'total_rec_late_fee', 'recoveries', 'collection_recovery_fee',\n",
       "       'last_pymnt_d', 'last_pymnt_amnt', 'last_credit_pull_d',\n",
       "       'collections_12_mths_ex_med', 'policy_code', 'application_type',\n",
       "       'acc_now_delinq', 'chargeoff_within_12_mths', 'delinq_amnt',\n",
       "       'pub_rec_bankruptcies', 'tax_liens'],\n",
       "      dtype='object')"
      ]
     },
     "execution_count": 11,
     "metadata": {},
     "output_type": "execute_result"
    }
   ],
   "source": [
    "inp0.columns"
   ]
  },
  {
   "cell_type": "code",
   "execution_count": 12,
   "id": "bc4ca926",
   "metadata": {},
   "outputs": [
    {
     "data": {
      "text/plain": [
       "0        1\n",
       "1        0\n",
       "2        1\n",
       "3        0\n",
       "4        0\n",
       "        ..\n",
       "39712    4\n",
       "39713    4\n",
       "39714    5\n",
       "39715    5\n",
       "39716    4\n",
       "Length: 39717, dtype: int64"
      ]
     },
     "execution_count": 12,
     "metadata": {},
     "output_type": "execute_result"
    }
   ],
   "source": [
    "# summarising each row null values\n",
    "inp0.isnull().sum(axis=1)"
   ]
  },
  {
   "cell_type": "code",
   "execution_count": 13,
   "id": "100f011a",
   "metadata": {},
   "outputs": [
    {
     "data": {
      "text/plain": [
       "0"
      ]
     },
     "execution_count": 13,
     "metadata": {},
     "output_type": "execute_result"
    }
   ],
   "source": [
    "# summarising rows having more than 5 null values\n",
    "len(inp0[inp0.isnull().sum(axis=1)>5].index)"
   ]
  },
  {
   "cell_type": "code",
   "execution_count": 14,
   "id": "fca09e99",
   "metadata": {},
   "outputs": [
    {
     "data": {
      "text/plain": [
       "(39717, 53)"
      ]
     },
     "execution_count": 14,
     "metadata": {},
     "output_type": "execute_result"
    }
   ],
   "source": [
    "inp0.shape"
   ]
  },
  {
   "cell_type": "code",
   "execution_count": 15,
   "id": "7494fc8f",
   "metadata": {},
   "outputs": [
    {
     "data": {
      "text/html": [
       "<div>\n",
       "<style scoped>\n",
       "    .dataframe tbody tr th:only-of-type {\n",
       "        vertical-align: middle;\n",
       "    }\n",
       "\n",
       "    .dataframe tbody tr th {\n",
       "        vertical-align: top;\n",
       "    }\n",
       "\n",
       "    .dataframe thead th {\n",
       "        text-align: right;\n",
       "    }\n",
       "</style>\n",
       "<table border=\"1\" class=\"dataframe\">\n",
       "  <thead>\n",
       "    <tr style=\"text-align: right;\">\n",
       "      <th></th>\n",
       "      <th>id</th>\n",
       "      <th>member_id</th>\n",
       "      <th>loan_amnt</th>\n",
       "      <th>funded_amnt</th>\n",
       "      <th>funded_amnt_inv</th>\n",
       "      <th>term</th>\n",
       "      <th>int_rate</th>\n",
       "      <th>installment</th>\n",
       "      <th>grade</th>\n",
       "      <th>sub_grade</th>\n",
       "      <th>emp_title</th>\n",
       "      <th>emp_length</th>\n",
       "      <th>home_ownership</th>\n",
       "      <th>annual_inc</th>\n",
       "      <th>verification_status</th>\n",
       "      <th>issue_d</th>\n",
       "      <th>loan_status</th>\n",
       "      <th>pymnt_plan</th>\n",
       "      <th>url</th>\n",
       "      <th>purpose</th>\n",
       "      <th>title</th>\n",
       "      <th>zip_code</th>\n",
       "      <th>addr_state</th>\n",
       "      <th>dti</th>\n",
       "      <th>delinq_2yrs</th>\n",
       "      <th>earliest_cr_line</th>\n",
       "      <th>inq_last_6mths</th>\n",
       "      <th>open_acc</th>\n",
       "      <th>pub_rec</th>\n",
       "      <th>revol_bal</th>\n",
       "      <th>revol_util</th>\n",
       "      <th>total_acc</th>\n",
       "      <th>initial_list_status</th>\n",
       "      <th>out_prncp</th>\n",
       "      <th>out_prncp_inv</th>\n",
       "      <th>total_pymnt</th>\n",
       "      <th>total_pymnt_inv</th>\n",
       "      <th>total_rec_prncp</th>\n",
       "      <th>total_rec_int</th>\n",
       "      <th>total_rec_late_fee</th>\n",
       "      <th>recoveries</th>\n",
       "      <th>collection_recovery_fee</th>\n",
       "      <th>last_pymnt_d</th>\n",
       "      <th>last_pymnt_amnt</th>\n",
       "      <th>last_credit_pull_d</th>\n",
       "      <th>collections_12_mths_ex_med</th>\n",
       "      <th>policy_code</th>\n",
       "      <th>application_type</th>\n",
       "      <th>acc_now_delinq</th>\n",
       "      <th>chargeoff_within_12_mths</th>\n",
       "      <th>delinq_amnt</th>\n",
       "      <th>pub_rec_bankruptcies</th>\n",
       "      <th>tax_liens</th>\n",
       "    </tr>\n",
       "  </thead>\n",
       "  <tbody>\n",
       "    <tr>\n",
       "      <th>0</th>\n",
       "      <td>1077501</td>\n",
       "      <td>1296599</td>\n",
       "      <td>5000</td>\n",
       "      <td>5000</td>\n",
       "      <td>4975.0</td>\n",
       "      <td>36 months</td>\n",
       "      <td>10.65%</td>\n",
       "      <td>162.87</td>\n",
       "      <td>B</td>\n",
       "      <td>B2</td>\n",
       "      <td>NaN</td>\n",
       "      <td>10+ years</td>\n",
       "      <td>RENT</td>\n",
       "      <td>24000.0</td>\n",
       "      <td>Verified</td>\n",
       "      <td>Dec-11</td>\n",
       "      <td>Fully Paid</td>\n",
       "      <td>n</td>\n",
       "      <td>https://lendingclub.com/browse/loanDetail.acti...</td>\n",
       "      <td>credit_card</td>\n",
       "      <td>Computer</td>\n",
       "      <td>860xx</td>\n",
       "      <td>AZ</td>\n",
       "      <td>27.65</td>\n",
       "      <td>0</td>\n",
       "      <td>Jan-85</td>\n",
       "      <td>1</td>\n",
       "      <td>3</td>\n",
       "      <td>0</td>\n",
       "      <td>13648</td>\n",
       "      <td>83.70%</td>\n",
       "      <td>9</td>\n",
       "      <td>f</td>\n",
       "      <td>0.00</td>\n",
       "      <td>0.00</td>\n",
       "      <td>5863.155187</td>\n",
       "      <td>5833.84</td>\n",
       "      <td>5000.00</td>\n",
       "      <td>863.16</td>\n",
       "      <td>0.00</td>\n",
       "      <td>0.00</td>\n",
       "      <td>0.00</td>\n",
       "      <td>Jan-15</td>\n",
       "      <td>171.62</td>\n",
       "      <td>May-16</td>\n",
       "      <td>0.0</td>\n",
       "      <td>1</td>\n",
       "      <td>INDIVIDUAL</td>\n",
       "      <td>0</td>\n",
       "      <td>0.0</td>\n",
       "      <td>0</td>\n",
       "      <td>0.0</td>\n",
       "      <td>0.0</td>\n",
       "    </tr>\n",
       "    <tr>\n",
       "      <th>1</th>\n",
       "      <td>1077430</td>\n",
       "      <td>1314167</td>\n",
       "      <td>2500</td>\n",
       "      <td>2500</td>\n",
       "      <td>2500.0</td>\n",
       "      <td>60 months</td>\n",
       "      <td>15.27%</td>\n",
       "      <td>59.83</td>\n",
       "      <td>C</td>\n",
       "      <td>C4</td>\n",
       "      <td>Ryder</td>\n",
       "      <td>&lt; 1 year</td>\n",
       "      <td>RENT</td>\n",
       "      <td>30000.0</td>\n",
       "      <td>Source Verified</td>\n",
       "      <td>Dec-11</td>\n",
       "      <td>Charged Off</td>\n",
       "      <td>n</td>\n",
       "      <td>https://lendingclub.com/browse/loanDetail.acti...</td>\n",
       "      <td>car</td>\n",
       "      <td>bike</td>\n",
       "      <td>309xx</td>\n",
       "      <td>GA</td>\n",
       "      <td>1.00</td>\n",
       "      <td>0</td>\n",
       "      <td>Apr-99</td>\n",
       "      <td>5</td>\n",
       "      <td>3</td>\n",
       "      <td>0</td>\n",
       "      <td>1687</td>\n",
       "      <td>9.40%</td>\n",
       "      <td>4</td>\n",
       "      <td>f</td>\n",
       "      <td>0.00</td>\n",
       "      <td>0.00</td>\n",
       "      <td>1008.710000</td>\n",
       "      <td>1008.71</td>\n",
       "      <td>456.46</td>\n",
       "      <td>435.17</td>\n",
       "      <td>0.00</td>\n",
       "      <td>117.08</td>\n",
       "      <td>1.11</td>\n",
       "      <td>Apr-13</td>\n",
       "      <td>119.66</td>\n",
       "      <td>Sep-13</td>\n",
       "      <td>0.0</td>\n",
       "      <td>1</td>\n",
       "      <td>INDIVIDUAL</td>\n",
       "      <td>0</td>\n",
       "      <td>0.0</td>\n",
       "      <td>0</td>\n",
       "      <td>0.0</td>\n",
       "      <td>0.0</td>\n",
       "    </tr>\n",
       "    <tr>\n",
       "      <th>2</th>\n",
       "      <td>1077175</td>\n",
       "      <td>1313524</td>\n",
       "      <td>2400</td>\n",
       "      <td>2400</td>\n",
       "      <td>2400.0</td>\n",
       "      <td>36 months</td>\n",
       "      <td>15.96%</td>\n",
       "      <td>84.33</td>\n",
       "      <td>C</td>\n",
       "      <td>C5</td>\n",
       "      <td>NaN</td>\n",
       "      <td>10+ years</td>\n",
       "      <td>RENT</td>\n",
       "      <td>12252.0</td>\n",
       "      <td>Not Verified</td>\n",
       "      <td>Dec-11</td>\n",
       "      <td>Fully Paid</td>\n",
       "      <td>n</td>\n",
       "      <td>https://lendingclub.com/browse/loanDetail.acti...</td>\n",
       "      <td>small_business</td>\n",
       "      <td>real estate business</td>\n",
       "      <td>606xx</td>\n",
       "      <td>IL</td>\n",
       "      <td>8.72</td>\n",
       "      <td>0</td>\n",
       "      <td>Nov-01</td>\n",
       "      <td>2</td>\n",
       "      <td>2</td>\n",
       "      <td>0</td>\n",
       "      <td>2956</td>\n",
       "      <td>98.50%</td>\n",
       "      <td>10</td>\n",
       "      <td>f</td>\n",
       "      <td>0.00</td>\n",
       "      <td>0.00</td>\n",
       "      <td>3005.666844</td>\n",
       "      <td>3005.67</td>\n",
       "      <td>2400.00</td>\n",
       "      <td>605.67</td>\n",
       "      <td>0.00</td>\n",
       "      <td>0.00</td>\n",
       "      <td>0.00</td>\n",
       "      <td>Jun-14</td>\n",
       "      <td>649.91</td>\n",
       "      <td>May-16</td>\n",
       "      <td>0.0</td>\n",
       "      <td>1</td>\n",
       "      <td>INDIVIDUAL</td>\n",
       "      <td>0</td>\n",
       "      <td>0.0</td>\n",
       "      <td>0</td>\n",
       "      <td>0.0</td>\n",
       "      <td>0.0</td>\n",
       "    </tr>\n",
       "    <tr>\n",
       "      <th>3</th>\n",
       "      <td>1076863</td>\n",
       "      <td>1277178</td>\n",
       "      <td>10000</td>\n",
       "      <td>10000</td>\n",
       "      <td>10000.0</td>\n",
       "      <td>36 months</td>\n",
       "      <td>13.49%</td>\n",
       "      <td>339.31</td>\n",
       "      <td>C</td>\n",
       "      <td>C1</td>\n",
       "      <td>AIR RESOURCES BOARD</td>\n",
       "      <td>10+ years</td>\n",
       "      <td>RENT</td>\n",
       "      <td>49200.0</td>\n",
       "      <td>Source Verified</td>\n",
       "      <td>Dec-11</td>\n",
       "      <td>Fully Paid</td>\n",
       "      <td>n</td>\n",
       "      <td>https://lendingclub.com/browse/loanDetail.acti...</td>\n",
       "      <td>other</td>\n",
       "      <td>personel</td>\n",
       "      <td>917xx</td>\n",
       "      <td>CA</td>\n",
       "      <td>20.00</td>\n",
       "      <td>0</td>\n",
       "      <td>Feb-96</td>\n",
       "      <td>1</td>\n",
       "      <td>10</td>\n",
       "      <td>0</td>\n",
       "      <td>5598</td>\n",
       "      <td>21%</td>\n",
       "      <td>37</td>\n",
       "      <td>f</td>\n",
       "      <td>0.00</td>\n",
       "      <td>0.00</td>\n",
       "      <td>12231.890000</td>\n",
       "      <td>12231.89</td>\n",
       "      <td>10000.00</td>\n",
       "      <td>2214.92</td>\n",
       "      <td>16.97</td>\n",
       "      <td>0.00</td>\n",
       "      <td>0.00</td>\n",
       "      <td>Jan-15</td>\n",
       "      <td>357.48</td>\n",
       "      <td>Apr-16</td>\n",
       "      <td>0.0</td>\n",
       "      <td>1</td>\n",
       "      <td>INDIVIDUAL</td>\n",
       "      <td>0</td>\n",
       "      <td>0.0</td>\n",
       "      <td>0</td>\n",
       "      <td>0.0</td>\n",
       "      <td>0.0</td>\n",
       "    </tr>\n",
       "    <tr>\n",
       "      <th>4</th>\n",
       "      <td>1075358</td>\n",
       "      <td>1311748</td>\n",
       "      <td>3000</td>\n",
       "      <td>3000</td>\n",
       "      <td>3000.0</td>\n",
       "      <td>60 months</td>\n",
       "      <td>12.69%</td>\n",
       "      <td>67.79</td>\n",
       "      <td>B</td>\n",
       "      <td>B5</td>\n",
       "      <td>University Medical Group</td>\n",
       "      <td>1 year</td>\n",
       "      <td>RENT</td>\n",
       "      <td>80000.0</td>\n",
       "      <td>Source Verified</td>\n",
       "      <td>Dec-11</td>\n",
       "      <td>Current</td>\n",
       "      <td>n</td>\n",
       "      <td>https://lendingclub.com/browse/loanDetail.acti...</td>\n",
       "      <td>other</td>\n",
       "      <td>Personal</td>\n",
       "      <td>972xx</td>\n",
       "      <td>OR</td>\n",
       "      <td>17.94</td>\n",
       "      <td>0</td>\n",
       "      <td>Jan-96</td>\n",
       "      <td>0</td>\n",
       "      <td>15</td>\n",
       "      <td>0</td>\n",
       "      <td>27783</td>\n",
       "      <td>53.90%</td>\n",
       "      <td>38</td>\n",
       "      <td>f</td>\n",
       "      <td>524.06</td>\n",
       "      <td>524.06</td>\n",
       "      <td>3513.330000</td>\n",
       "      <td>3513.33</td>\n",
       "      <td>2475.94</td>\n",
       "      <td>1037.39</td>\n",
       "      <td>0.00</td>\n",
       "      <td>0.00</td>\n",
       "      <td>0.00</td>\n",
       "      <td>May-16</td>\n",
       "      <td>67.79</td>\n",
       "      <td>May-16</td>\n",
       "      <td>0.0</td>\n",
       "      <td>1</td>\n",
       "      <td>INDIVIDUAL</td>\n",
       "      <td>0</td>\n",
       "      <td>0.0</td>\n",
       "      <td>0</td>\n",
       "      <td>0.0</td>\n",
       "      <td>0.0</td>\n",
       "    </tr>\n",
       "  </tbody>\n",
       "</table>\n",
       "</div>"
      ],
      "text/plain": [
       "        id  member_id  loan_amnt  funded_amnt  funded_amnt_inv        term  \\\n",
       "0  1077501    1296599       5000         5000           4975.0   36 months   \n",
       "1  1077430    1314167       2500         2500           2500.0   60 months   \n",
       "2  1077175    1313524       2400         2400           2400.0   36 months   \n",
       "3  1076863    1277178      10000        10000          10000.0   36 months   \n",
       "4  1075358    1311748       3000         3000           3000.0   60 months   \n",
       "\n",
       "  int_rate  installment grade sub_grade                 emp_title emp_length  \\\n",
       "0   10.65%       162.87     B        B2                       NaN  10+ years   \n",
       "1   15.27%        59.83     C        C4                     Ryder   < 1 year   \n",
       "2   15.96%        84.33     C        C5                       NaN  10+ years   \n",
       "3   13.49%       339.31     C        C1       AIR RESOURCES BOARD  10+ years   \n",
       "4   12.69%        67.79     B        B5  University Medical Group     1 year   \n",
       "\n",
       "  home_ownership  annual_inc verification_status issue_d  loan_status  \\\n",
       "0           RENT     24000.0            Verified  Dec-11   Fully Paid   \n",
       "1           RENT     30000.0     Source Verified  Dec-11  Charged Off   \n",
       "2           RENT     12252.0        Not Verified  Dec-11   Fully Paid   \n",
       "3           RENT     49200.0     Source Verified  Dec-11   Fully Paid   \n",
       "4           RENT     80000.0     Source Verified  Dec-11      Current   \n",
       "\n",
       "  pymnt_plan                                                url  \\\n",
       "0          n  https://lendingclub.com/browse/loanDetail.acti...   \n",
       "1          n  https://lendingclub.com/browse/loanDetail.acti...   \n",
       "2          n  https://lendingclub.com/browse/loanDetail.acti...   \n",
       "3          n  https://lendingclub.com/browse/loanDetail.acti...   \n",
       "4          n  https://lendingclub.com/browse/loanDetail.acti...   \n",
       "\n",
       "          purpose                 title zip_code addr_state    dti  \\\n",
       "0     credit_card              Computer    860xx         AZ  27.65   \n",
       "1             car                  bike    309xx         GA   1.00   \n",
       "2  small_business  real estate business    606xx         IL   8.72   \n",
       "3           other              personel    917xx         CA  20.00   \n",
       "4           other              Personal    972xx         OR  17.94   \n",
       "\n",
       "   delinq_2yrs earliest_cr_line  inq_last_6mths  open_acc  pub_rec  revol_bal  \\\n",
       "0            0           Jan-85               1         3        0      13648   \n",
       "1            0           Apr-99               5         3        0       1687   \n",
       "2            0           Nov-01               2         2        0       2956   \n",
       "3            0           Feb-96               1        10        0       5598   \n",
       "4            0           Jan-96               0        15        0      27783   \n",
       "\n",
       "  revol_util  total_acc initial_list_status  out_prncp  out_prncp_inv  \\\n",
       "0     83.70%          9                   f       0.00           0.00   \n",
       "1      9.40%          4                   f       0.00           0.00   \n",
       "2     98.50%         10                   f       0.00           0.00   \n",
       "3        21%         37                   f       0.00           0.00   \n",
       "4     53.90%         38                   f     524.06         524.06   \n",
       "\n",
       "    total_pymnt  total_pymnt_inv  total_rec_prncp  total_rec_int  \\\n",
       "0   5863.155187          5833.84          5000.00         863.16   \n",
       "1   1008.710000          1008.71           456.46         435.17   \n",
       "2   3005.666844          3005.67          2400.00         605.67   \n",
       "3  12231.890000         12231.89         10000.00        2214.92   \n",
       "4   3513.330000          3513.33          2475.94        1037.39   \n",
       "\n",
       "   total_rec_late_fee  recoveries  collection_recovery_fee last_pymnt_d  \\\n",
       "0                0.00        0.00                     0.00       Jan-15   \n",
       "1                0.00      117.08                     1.11       Apr-13   \n",
       "2                0.00        0.00                     0.00       Jun-14   \n",
       "3               16.97        0.00                     0.00       Jan-15   \n",
       "4                0.00        0.00                     0.00       May-16   \n",
       "\n",
       "   last_pymnt_amnt last_credit_pull_d  collections_12_mths_ex_med  \\\n",
       "0           171.62             May-16                         0.0   \n",
       "1           119.66             Sep-13                         0.0   \n",
       "2           649.91             May-16                         0.0   \n",
       "3           357.48             Apr-16                         0.0   \n",
       "4            67.79             May-16                         0.0   \n",
       "\n",
       "   policy_code application_type  acc_now_delinq  chargeoff_within_12_mths  \\\n",
       "0            1       INDIVIDUAL               0                       0.0   \n",
       "1            1       INDIVIDUAL               0                       0.0   \n",
       "2            1       INDIVIDUAL               0                       0.0   \n",
       "3            1       INDIVIDUAL               0                       0.0   \n",
       "4            1       INDIVIDUAL               0                       0.0   \n",
       "\n",
       "   delinq_amnt  pub_rec_bankruptcies  tax_liens  \n",
       "0            0                   0.0        0.0  \n",
       "1            0                   0.0        0.0  \n",
       "2            0                   0.0        0.0  \n",
       "3            0                   0.0        0.0  \n",
       "4            0                   0.0        0.0  "
      ]
     },
     "execution_count": 15,
     "metadata": {},
     "output_type": "execute_result"
    }
   ],
   "source": [
    "inp0.head()"
   ]
  },
  {
   "cell_type": "code",
   "execution_count": 16,
   "id": "cd2d306b",
   "metadata": {},
   "outputs": [],
   "source": [
    "# dropping columns that are not useful for further analysis\n",
    "\n",
    "inp0 = inp0.drop([\"delinq_2yrs\",\"earliest_cr_line\", \"inq_last_6mths\",\"open_acc\",\"pub_rec\",\"revol_bal\",\"revol_util\",\n",
    "\"total_acc\",\"out_prncp\", \"out_prncp_inv\",\"total_pymnt\",\"total_pymnt_inv\",\"total_rec_prncp\",\"total_rec_int\",\n",
    "\"total_rec_late_fee\",\"recoveries\",\"collection_recovery_fee\",\"last_pymnt_d\",\"last_pymnt_amnt\",\"last_credit_pull_d\",\n",
    "\"application_type\"],axis=1)"
   ]
  },
  {
   "cell_type": "code",
   "execution_count": 17,
   "id": "6d9b30a9",
   "metadata": {},
   "outputs": [
    {
     "data": {
      "text/plain": [
       "(39717, 32)"
      ]
     },
     "execution_count": 17,
     "metadata": {},
     "output_type": "execute_result"
    }
   ],
   "source": [
    "# determining the number of rows and columns\n",
    "inp0.shape"
   ]
  },
  {
   "cell_type": "code",
   "execution_count": 18,
   "id": "09c23674",
   "metadata": {},
   "outputs": [
    {
     "data": {
      "text/html": [
       "<div>\n",
       "<style scoped>\n",
       "    .dataframe tbody tr th:only-of-type {\n",
       "        vertical-align: middle;\n",
       "    }\n",
       "\n",
       "    .dataframe tbody tr th {\n",
       "        vertical-align: top;\n",
       "    }\n",
       "\n",
       "    .dataframe thead th {\n",
       "        text-align: right;\n",
       "    }\n",
       "</style>\n",
       "<table border=\"1\" class=\"dataframe\">\n",
       "  <thead>\n",
       "    <tr style=\"text-align: right;\">\n",
       "      <th></th>\n",
       "      <th>id</th>\n",
       "      <th>member_id</th>\n",
       "      <th>loan_amnt</th>\n",
       "      <th>funded_amnt</th>\n",
       "      <th>funded_amnt_inv</th>\n",
       "      <th>term</th>\n",
       "      <th>int_rate</th>\n",
       "      <th>installment</th>\n",
       "      <th>grade</th>\n",
       "      <th>sub_grade</th>\n",
       "      <th>emp_title</th>\n",
       "      <th>emp_length</th>\n",
       "      <th>home_ownership</th>\n",
       "      <th>annual_inc</th>\n",
       "      <th>verification_status</th>\n",
       "      <th>issue_d</th>\n",
       "      <th>loan_status</th>\n",
       "      <th>pymnt_plan</th>\n",
       "      <th>url</th>\n",
       "      <th>purpose</th>\n",
       "      <th>title</th>\n",
       "      <th>zip_code</th>\n",
       "      <th>addr_state</th>\n",
       "      <th>dti</th>\n",
       "      <th>initial_list_status</th>\n",
       "      <th>collections_12_mths_ex_med</th>\n",
       "      <th>policy_code</th>\n",
       "      <th>acc_now_delinq</th>\n",
       "      <th>chargeoff_within_12_mths</th>\n",
       "      <th>delinq_amnt</th>\n",
       "      <th>pub_rec_bankruptcies</th>\n",
       "      <th>tax_liens</th>\n",
       "    </tr>\n",
       "  </thead>\n",
       "  <tbody>\n",
       "    <tr>\n",
       "      <th>0</th>\n",
       "      <td>1077501</td>\n",
       "      <td>1296599</td>\n",
       "      <td>5000</td>\n",
       "      <td>5000</td>\n",
       "      <td>4975.0</td>\n",
       "      <td>36 months</td>\n",
       "      <td>10.65%</td>\n",
       "      <td>162.87</td>\n",
       "      <td>B</td>\n",
       "      <td>B2</td>\n",
       "      <td>NaN</td>\n",
       "      <td>10+ years</td>\n",
       "      <td>RENT</td>\n",
       "      <td>24000.0</td>\n",
       "      <td>Verified</td>\n",
       "      <td>Dec-11</td>\n",
       "      <td>Fully Paid</td>\n",
       "      <td>n</td>\n",
       "      <td>https://lendingclub.com/browse/loanDetail.acti...</td>\n",
       "      <td>credit_card</td>\n",
       "      <td>Computer</td>\n",
       "      <td>860xx</td>\n",
       "      <td>AZ</td>\n",
       "      <td>27.65</td>\n",
       "      <td>f</td>\n",
       "      <td>0.0</td>\n",
       "      <td>1</td>\n",
       "      <td>0</td>\n",
       "      <td>0.0</td>\n",
       "      <td>0</td>\n",
       "      <td>0.0</td>\n",
       "      <td>0.0</td>\n",
       "    </tr>\n",
       "    <tr>\n",
       "      <th>1</th>\n",
       "      <td>1077430</td>\n",
       "      <td>1314167</td>\n",
       "      <td>2500</td>\n",
       "      <td>2500</td>\n",
       "      <td>2500.0</td>\n",
       "      <td>60 months</td>\n",
       "      <td>15.27%</td>\n",
       "      <td>59.83</td>\n",
       "      <td>C</td>\n",
       "      <td>C4</td>\n",
       "      <td>Ryder</td>\n",
       "      <td>&lt; 1 year</td>\n",
       "      <td>RENT</td>\n",
       "      <td>30000.0</td>\n",
       "      <td>Source Verified</td>\n",
       "      <td>Dec-11</td>\n",
       "      <td>Charged Off</td>\n",
       "      <td>n</td>\n",
       "      <td>https://lendingclub.com/browse/loanDetail.acti...</td>\n",
       "      <td>car</td>\n",
       "      <td>bike</td>\n",
       "      <td>309xx</td>\n",
       "      <td>GA</td>\n",
       "      <td>1.00</td>\n",
       "      <td>f</td>\n",
       "      <td>0.0</td>\n",
       "      <td>1</td>\n",
       "      <td>0</td>\n",
       "      <td>0.0</td>\n",
       "      <td>0</td>\n",
       "      <td>0.0</td>\n",
       "      <td>0.0</td>\n",
       "    </tr>\n",
       "    <tr>\n",
       "      <th>2</th>\n",
       "      <td>1077175</td>\n",
       "      <td>1313524</td>\n",
       "      <td>2400</td>\n",
       "      <td>2400</td>\n",
       "      <td>2400.0</td>\n",
       "      <td>36 months</td>\n",
       "      <td>15.96%</td>\n",
       "      <td>84.33</td>\n",
       "      <td>C</td>\n",
       "      <td>C5</td>\n",
       "      <td>NaN</td>\n",
       "      <td>10+ years</td>\n",
       "      <td>RENT</td>\n",
       "      <td>12252.0</td>\n",
       "      <td>Not Verified</td>\n",
       "      <td>Dec-11</td>\n",
       "      <td>Fully Paid</td>\n",
       "      <td>n</td>\n",
       "      <td>https://lendingclub.com/browse/loanDetail.acti...</td>\n",
       "      <td>small_business</td>\n",
       "      <td>real estate business</td>\n",
       "      <td>606xx</td>\n",
       "      <td>IL</td>\n",
       "      <td>8.72</td>\n",
       "      <td>f</td>\n",
       "      <td>0.0</td>\n",
       "      <td>1</td>\n",
       "      <td>0</td>\n",
       "      <td>0.0</td>\n",
       "      <td>0</td>\n",
       "      <td>0.0</td>\n",
       "      <td>0.0</td>\n",
       "    </tr>\n",
       "    <tr>\n",
       "      <th>3</th>\n",
       "      <td>1076863</td>\n",
       "      <td>1277178</td>\n",
       "      <td>10000</td>\n",
       "      <td>10000</td>\n",
       "      <td>10000.0</td>\n",
       "      <td>36 months</td>\n",
       "      <td>13.49%</td>\n",
       "      <td>339.31</td>\n",
       "      <td>C</td>\n",
       "      <td>C1</td>\n",
       "      <td>AIR RESOURCES BOARD</td>\n",
       "      <td>10+ years</td>\n",
       "      <td>RENT</td>\n",
       "      <td>49200.0</td>\n",
       "      <td>Source Verified</td>\n",
       "      <td>Dec-11</td>\n",
       "      <td>Fully Paid</td>\n",
       "      <td>n</td>\n",
       "      <td>https://lendingclub.com/browse/loanDetail.acti...</td>\n",
       "      <td>other</td>\n",
       "      <td>personel</td>\n",
       "      <td>917xx</td>\n",
       "      <td>CA</td>\n",
       "      <td>20.00</td>\n",
       "      <td>f</td>\n",
       "      <td>0.0</td>\n",
       "      <td>1</td>\n",
       "      <td>0</td>\n",
       "      <td>0.0</td>\n",
       "      <td>0</td>\n",
       "      <td>0.0</td>\n",
       "      <td>0.0</td>\n",
       "    </tr>\n",
       "    <tr>\n",
       "      <th>4</th>\n",
       "      <td>1075358</td>\n",
       "      <td>1311748</td>\n",
       "      <td>3000</td>\n",
       "      <td>3000</td>\n",
       "      <td>3000.0</td>\n",
       "      <td>60 months</td>\n",
       "      <td>12.69%</td>\n",
       "      <td>67.79</td>\n",
       "      <td>B</td>\n",
       "      <td>B5</td>\n",
       "      <td>University Medical Group</td>\n",
       "      <td>1 year</td>\n",
       "      <td>RENT</td>\n",
       "      <td>80000.0</td>\n",
       "      <td>Source Verified</td>\n",
       "      <td>Dec-11</td>\n",
       "      <td>Current</td>\n",
       "      <td>n</td>\n",
       "      <td>https://lendingclub.com/browse/loanDetail.acti...</td>\n",
       "      <td>other</td>\n",
       "      <td>Personal</td>\n",
       "      <td>972xx</td>\n",
       "      <td>OR</td>\n",
       "      <td>17.94</td>\n",
       "      <td>f</td>\n",
       "      <td>0.0</td>\n",
       "      <td>1</td>\n",
       "      <td>0</td>\n",
       "      <td>0.0</td>\n",
       "      <td>0</td>\n",
       "      <td>0.0</td>\n",
       "      <td>0.0</td>\n",
       "    </tr>\n",
       "  </tbody>\n",
       "</table>\n",
       "</div>"
      ],
      "text/plain": [
       "        id  member_id  loan_amnt  funded_amnt  funded_amnt_inv        term  \\\n",
       "0  1077501    1296599       5000         5000           4975.0   36 months   \n",
       "1  1077430    1314167       2500         2500           2500.0   60 months   \n",
       "2  1077175    1313524       2400         2400           2400.0   36 months   \n",
       "3  1076863    1277178      10000        10000          10000.0   36 months   \n",
       "4  1075358    1311748       3000         3000           3000.0   60 months   \n",
       "\n",
       "  int_rate  installment grade sub_grade                 emp_title emp_length  \\\n",
       "0   10.65%       162.87     B        B2                       NaN  10+ years   \n",
       "1   15.27%        59.83     C        C4                     Ryder   < 1 year   \n",
       "2   15.96%        84.33     C        C5                       NaN  10+ years   \n",
       "3   13.49%       339.31     C        C1       AIR RESOURCES BOARD  10+ years   \n",
       "4   12.69%        67.79     B        B5  University Medical Group     1 year   \n",
       "\n",
       "  home_ownership  annual_inc verification_status issue_d  loan_status  \\\n",
       "0           RENT     24000.0            Verified  Dec-11   Fully Paid   \n",
       "1           RENT     30000.0     Source Verified  Dec-11  Charged Off   \n",
       "2           RENT     12252.0        Not Verified  Dec-11   Fully Paid   \n",
       "3           RENT     49200.0     Source Verified  Dec-11   Fully Paid   \n",
       "4           RENT     80000.0     Source Verified  Dec-11      Current   \n",
       "\n",
       "  pymnt_plan                                                url  \\\n",
       "0          n  https://lendingclub.com/browse/loanDetail.acti...   \n",
       "1          n  https://lendingclub.com/browse/loanDetail.acti...   \n",
       "2          n  https://lendingclub.com/browse/loanDetail.acti...   \n",
       "3          n  https://lendingclub.com/browse/loanDetail.acti...   \n",
       "4          n  https://lendingclub.com/browse/loanDetail.acti...   \n",
       "\n",
       "          purpose                 title zip_code addr_state    dti  \\\n",
       "0     credit_card              Computer    860xx         AZ  27.65   \n",
       "1             car                  bike    309xx         GA   1.00   \n",
       "2  small_business  real estate business    606xx         IL   8.72   \n",
       "3           other              personel    917xx         CA  20.00   \n",
       "4           other              Personal    972xx         OR  17.94   \n",
       "\n",
       "  initial_list_status  collections_12_mths_ex_med  policy_code  \\\n",
       "0                   f                         0.0            1   \n",
       "1                   f                         0.0            1   \n",
       "2                   f                         0.0            1   \n",
       "3                   f                         0.0            1   \n",
       "4                   f                         0.0            1   \n",
       "\n",
       "   acc_now_delinq  chargeoff_within_12_mths  delinq_amnt  \\\n",
       "0               0                       0.0            0   \n",
       "1               0                       0.0            0   \n",
       "2               0                       0.0            0   \n",
       "3               0                       0.0            0   \n",
       "4               0                       0.0            0   \n",
       "\n",
       "   pub_rec_bankruptcies  tax_liens  \n",
       "0                   0.0        0.0  \n",
       "1                   0.0        0.0  \n",
       "2                   0.0        0.0  \n",
       "3                   0.0        0.0  \n",
       "4                   0.0        0.0  "
      ]
     },
     "execution_count": 18,
     "metadata": {},
     "output_type": "execute_result"
    }
   ],
   "source": [
    "inp0.head()"
   ]
  },
  {
   "cell_type": "code",
   "execution_count": 19,
   "id": "d4ef886d",
   "metadata": {},
   "outputs": [],
   "source": [
    "# dropping colums that are notuseful for further analysis\n",
    "\n",
    "inp0 = inp0.drop(['tax_liens','delinq_amnt','chargeoff_within_12_mths','acc_now_delinq','policy_code',\n",
    "              'initial_list_status','collections_12_mths_ex_med','zip_code','addr_state','url','title',\n",
    "                  'pymnt_plan','emp_title', 'pub_rec_bankruptcies'],axis=1)"
   ]
  },
  {
   "cell_type": "code",
   "execution_count": 20,
   "id": "81935d85",
   "metadata": {},
   "outputs": [
    {
     "data": {
      "text/plain": [
       "(39717, 18)"
      ]
     },
     "execution_count": 20,
     "metadata": {},
     "output_type": "execute_result"
    }
   ],
   "source": [
    "# Let's see the dimension\n",
    "inp0.shape"
   ]
  },
  {
   "cell_type": "code",
   "execution_count": 21,
   "id": "04cbe455",
   "metadata": {},
   "outputs": [
    {
     "name": "stdout",
     "output_type": "stream",
     "text": [
      "<class 'pandas.core.frame.DataFrame'>\n",
      "RangeIndex: 39717 entries, 0 to 39716\n",
      "Data columns (total 18 columns):\n",
      " #   Column               Non-Null Count  Dtype  \n",
      "---  ------               --------------  -----  \n",
      " 0   id                   39717 non-null  int64  \n",
      " 1   member_id            39717 non-null  int64  \n",
      " 2   loan_amnt            39717 non-null  int64  \n",
      " 3   funded_amnt          39717 non-null  int64  \n",
      " 4   funded_amnt_inv      39717 non-null  float64\n",
      " 5   term                 39717 non-null  object \n",
      " 6   int_rate             39717 non-null  object \n",
      " 7   installment          39717 non-null  float64\n",
      " 8   grade                39717 non-null  object \n",
      " 9   sub_grade            39717 non-null  object \n",
      " 10  emp_length           38642 non-null  object \n",
      " 11  home_ownership       39717 non-null  object \n",
      " 12  annual_inc           39717 non-null  float64\n",
      " 13  verification_status  39717 non-null  object \n",
      " 14  issue_d              39717 non-null  object \n",
      " 15  loan_status          39717 non-null  object \n",
      " 16  purpose              39717 non-null  object \n",
      " 17  dti                  39717 non-null  float64\n",
      "dtypes: float64(4), int64(4), object(10)\n",
      "memory usage: 5.5+ MB\n"
     ]
    }
   ],
   "source": [
    "# checking the data types\n",
    "\n",
    "inp0.info()"
   ]
  },
  {
   "cell_type": "markdown",
   "id": "e635daac",
   "metadata": {},
   "source": [
    "#### Converting data types"
   ]
  },
  {
   "cell_type": "code",
   "execution_count": 22,
   "id": "d67f3c77",
   "metadata": {},
   "outputs": [
    {
     "data": {
      "text/plain": [
       "dtype('float64')"
      ]
     },
     "execution_count": 22,
     "metadata": {},
     "output_type": "execute_result"
    }
   ],
   "source": [
    "# converting interest rate datatype \n",
    "inp0['int_rate'] = inp0['int_rate'].str.rstrip('%')\n",
    "inp0['int_rate']=inp0['int_rate'].astype(float)\n",
    "inp0['int_rate'].dtype"
   ]
  },
  {
   "cell_type": "code",
   "execution_count": 23,
   "id": "4f432237",
   "metadata": {},
   "outputs": [],
   "source": [
    "# Converting data type of term column \n",
    "inp0['term'] = inp0['term'].str.rstrip()\n",
    "inp0['term'] = inp0['term'].str.split().str[0]"
   ]
  },
  {
   "cell_type": "code",
   "execution_count": 24,
   "id": "8edb6057",
   "metadata": {},
   "outputs": [
    {
     "data": {
      "text/plain": [
       "dtype('int64')"
      ]
     },
     "execution_count": 24,
     "metadata": {},
     "output_type": "execute_result"
    }
   ],
   "source": [
    "inp0['term'] = inp0['term'].astype('int')\n",
    "inp0.term.dtype"
   ]
  },
  {
   "cell_type": "code",
   "execution_count": 25,
   "id": "f04044e9",
   "metadata": {},
   "outputs": [],
   "source": [
    "# Changing term column name to term months\n",
    "inp0.rename(columns = {'term':'term_months'},inplace=True)\n"
   ]
  },
  {
   "cell_type": "code",
   "execution_count": 26,
   "id": "b59e0ee2",
   "metadata": {},
   "outputs": [
    {
     "data": {
      "text/plain": [
       "0        12\n",
       "1        12\n",
       "2        12\n",
       "3        12\n",
       "4        12\n",
       "         ..\n",
       "39712     7\n",
       "39713     7\n",
       "39714     7\n",
       "39715     7\n",
       "39716     6\n",
       "Name: issue_month, Length: 39717, dtype: int64"
      ]
     },
     "execution_count": 26,
     "metadata": {},
     "output_type": "execute_result"
    }
   ],
   "source": [
    "# extracting month and year from issue_d column \n",
    "inp0['issue_d'] = pd.to_datetime(inp0['issue_d'],format =\"%b-%y\")\n",
    "inp0['issue_month'] = inp0['issue_d'].dt.month\n",
    "inp0['issue_year'] = inp0['issue_d'].dt.year\n",
    "inp0['issue_month']\n"
   ]
  },
  {
   "cell_type": "code",
   "execution_count": 27,
   "id": "c9dc57b9",
   "metadata": {},
   "outputs": [
    {
     "data": {
      "text/plain": [
       "0        2011\n",
       "1        2011\n",
       "2        2011\n",
       "3        2011\n",
       "4        2011\n",
       "         ... \n",
       "39712    2007\n",
       "39713    2007\n",
       "39714    2007\n",
       "39715    2007\n",
       "39716    2007\n",
       "Name: issue_year, Length: 39717, dtype: int64"
      ]
     },
     "execution_count": 27,
     "metadata": {},
     "output_type": "execute_result"
    }
   ],
   "source": [
    "inp0['issue_year']"
   ]
  },
  {
   "cell_type": "code",
   "execution_count": 28,
   "id": "427f0ffb",
   "metadata": {},
   "outputs": [
    {
     "data": {
      "text/plain": [
       "array(['10+ years', '< 1 year', '1 year', '3 years', '8 years', '9 years',\n",
       "       '4 years', '5 years', '6 years', '2 years', '7 years', nan],\n",
       "      dtype=object)"
      ]
     },
     "execution_count": 28,
     "metadata": {},
     "output_type": "execute_result"
    }
   ],
   "source": [
    "# Seeing unique values in emp length\n",
    "inp0.emp_length.unique()\n"
   ]
  },
  {
   "cell_type": "code",
   "execution_count": 29,
   "id": "8e8b6307",
   "metadata": {},
   "outputs": [
    {
     "data": {
      "text/plain": [
       "0"
      ]
     },
     "execution_count": 29,
     "metadata": {},
     "output_type": "execute_result"
    }
   ],
   "source": [
    "# Checking  null values in emp length\n",
    "inp0 = inp0[~inp0.emp_length.isnull()]\n",
    "inp0.emp_length.isnull().sum()"
   ]
  },
  {
   "cell_type": "code",
   "execution_count": 30,
   "id": "a7cadd55",
   "metadata": {},
   "outputs": [],
   "source": [
    "# replacing emp length values to 0 ,10 and blank spaces\n",
    "inp0['emp_length'] = inp0['emp_length'].str.replace('+','')\n",
    "inp0['emp_length'] = inp0['emp_length'].str.replace('<1 year','0')\n",
    "inp0['emp_length'] = inp0['emp_length'].str.replace('year','')\n",
    "inp0['emp_length'] = inp0['emp_length'].str.replace('years','')\n",
    "inp0['emp_length'] = inp0['emp_length'].str.replace('n/a','10')\n",
    "inp0['emp_length'] = inp0['emp_length'].str.replace('<','')\n",
    "\n"
   ]
  },
  {
   "cell_type": "code",
   "execution_count": 31,
   "id": "d0cc07a1",
   "metadata": {},
   "outputs": [],
   "source": [
    "inp0['emp_length'] = inp0['emp_length'].str.rstrip()\n",
    "inp0['emp_length'] = inp0['emp_length'].str.split().str[0]"
   ]
  },
  {
   "cell_type": "code",
   "execution_count": 32,
   "id": "c99675ba",
   "metadata": {},
   "outputs": [],
   "source": [
    "# Converting emp length to numeric\n",
    "inp0['emp_length'] = pd.to_numeric(inp0['emp_length'])"
   ]
  },
  {
   "cell_type": "code",
   "execution_count": 33,
   "id": "0c3a1877",
   "metadata": {},
   "outputs": [
    {
     "data": {
      "text/plain": [
       "10    8879\n",
       "1     7823\n",
       "2     4388\n",
       "3     4095\n",
       "4     3436\n",
       "5     3282\n",
       "6     2229\n",
       "7     1773\n",
       "8     1479\n",
       "9     1258\n",
       "Name: emp_length, dtype: int64"
      ]
     },
     "execution_count": 33,
     "metadata": {},
     "output_type": "execute_result"
    }
   ],
   "source": [
    "# seeing the count of emp length\n",
    "inp0['emp_length'].value_counts()"
   ]
  },
  {
   "cell_type": "code",
   "execution_count": 34,
   "id": "8d0afbbd",
   "metadata": {},
   "outputs": [
    {
     "data": {
      "text/plain": [
       "id                     0\n",
       "member_id              0\n",
       "loan_amnt              0\n",
       "funded_amnt            0\n",
       "funded_amnt_inv        0\n",
       "term_months            0\n",
       "int_rate               0\n",
       "installment            0\n",
       "grade                  0\n",
       "sub_grade              0\n",
       "emp_length             0\n",
       "home_ownership         0\n",
       "annual_inc             0\n",
       "verification_status    0\n",
       "issue_d                0\n",
       "loan_status            0\n",
       "purpose                0\n",
       "dti                    0\n",
       "issue_month            0\n",
       "issue_year             0\n",
       "dtype: int64"
      ]
     },
     "execution_count": 34,
     "metadata": {},
     "output_type": "execute_result"
    }
   ],
   "source": [
    "# Checking whether there are null values or not \n",
    "inp0.isnull().sum()"
   ]
  },
  {
   "cell_type": "code",
   "execution_count": 35,
   "id": "6af85996",
   "metadata": {},
   "outputs": [
    {
     "data": {
      "text/plain": [
       "Fully Paid     32145\n",
       "Charged Off     5399\n",
       "Current         1098\n",
       "Name: loan_status, dtype: int64"
      ]
     },
     "execution_count": 35,
     "metadata": {},
     "output_type": "execute_result"
    }
   ],
   "source": [
    "# Summarising the loan status values\n",
    "inp0['loan_status'].value_counts()"
   ]
  },
  {
   "cell_type": "code",
   "execution_count": 36,
   "id": "ea6c4890",
   "metadata": {},
   "outputs": [],
   "source": [
    "# Converting loan status to category\n",
    "inp0['loan_status']=inp0['loan_status'].astype('category')"
   ]
  },
  {
   "cell_type": "code",
   "execution_count": 37,
   "id": "ea12b33d",
   "metadata": {},
   "outputs": [],
   "source": [
    "# we dont have use of \"current\" of loan status \n",
    "\n",
    "inp0 = inp0[inp0['loan_status']!='Current']"
   ]
  },
  {
   "cell_type": "code",
   "execution_count": 38,
   "id": "b46f0aa7",
   "metadata": {},
   "outputs": [
    {
     "data": {
      "text/plain": [
       "Fully Paid     32145\n",
       "Charged Off     5399\n",
       "Current            0\n",
       "Name: loan_status, dtype: int64"
      ]
     },
     "execution_count": 38,
     "metadata": {},
     "output_type": "execute_result"
    }
   ],
   "source": [
    "# seeing the count of loan status\n",
    "inp0['loan_status'].value_counts()"
   ]
  },
  {
   "cell_type": "code",
   "execution_count": 39,
   "id": "5dade7fc",
   "metadata": {},
   "outputs": [
    {
     "data": {
      "text/plain": [
       "0    32145\n",
       "1     5399\n",
       "Name: loan_status, dtype: int64"
      ]
     },
     "execution_count": 39,
     "metadata": {},
     "output_type": "execute_result"
    }
   ],
   "source": [
    "# Making Fully paid to 0 and charged off to 1 for making further analysis easy\n",
    "\n",
    "inp0['loan_status'] = inp0['loan_status'].apply(lambda x : 0 if x=='Fully Paid' else 1)\n",
    "inp0.loan_status.value_counts()"
   ]
  },
  {
   "cell_type": "code",
   "execution_count": 40,
   "id": "2b5ec08f",
   "metadata": {},
   "outputs": [
    {
     "data": {
      "text/plain": [
       "dtype('int64')"
      ]
     },
     "execution_count": 40,
     "metadata": {},
     "output_type": "execute_result"
    }
   ],
   "source": [
    "# Converting loan status to numeric \n",
    "inp0['loan_status']= pd.to_numeric(inp0['loan_status'])\n",
    "inp0['loan_status'].dtype"
   ]
  },
  {
   "cell_type": "markdown",
   "id": "971b006a",
   "metadata": {},
   "source": [
    "##### Deriving Insights "
   ]
  },
  {
   "cell_type": "markdown",
   "id": "35bf8627",
   "metadata": {},
   "source": [
    "## Univariate unordered Categorical varaiables analysis"
   ]
  },
  {
   "cell_type": "code",
   "execution_count": 41,
   "id": "2f6480aa",
   "metadata": {},
   "outputs": [
    {
     "data": {
      "text/html": [
       "<div>\n",
       "<style scoped>\n",
       "    .dataframe tbody tr th:only-of-type {\n",
       "        vertical-align: middle;\n",
       "    }\n",
       "\n",
       "    .dataframe tbody tr th {\n",
       "        vertical-align: top;\n",
       "    }\n",
       "\n",
       "    .dataframe thead th {\n",
       "        text-align: right;\n",
       "    }\n",
       "</style>\n",
       "<table border=\"1\" class=\"dataframe\">\n",
       "  <thead>\n",
       "    <tr style=\"text-align: right;\">\n",
       "      <th></th>\n",
       "      <th>id</th>\n",
       "      <th>member_id</th>\n",
       "      <th>loan_amnt</th>\n",
       "      <th>funded_amnt</th>\n",
       "      <th>funded_amnt_inv</th>\n",
       "      <th>term_months</th>\n",
       "      <th>int_rate</th>\n",
       "      <th>installment</th>\n",
       "      <th>grade</th>\n",
       "      <th>sub_grade</th>\n",
       "      <th>emp_length</th>\n",
       "      <th>home_ownership</th>\n",
       "      <th>annual_inc</th>\n",
       "      <th>verification_status</th>\n",
       "      <th>issue_d</th>\n",
       "      <th>loan_status</th>\n",
       "      <th>purpose</th>\n",
       "      <th>dti</th>\n",
       "      <th>issue_month</th>\n",
       "      <th>issue_year</th>\n",
       "    </tr>\n",
       "  </thead>\n",
       "  <tbody>\n",
       "    <tr>\n",
       "      <th>0</th>\n",
       "      <td>1077501</td>\n",
       "      <td>1296599</td>\n",
       "      <td>5000</td>\n",
       "      <td>5000</td>\n",
       "      <td>4975.0</td>\n",
       "      <td>36</td>\n",
       "      <td>10.65</td>\n",
       "      <td>162.87</td>\n",
       "      <td>B</td>\n",
       "      <td>B2</td>\n",
       "      <td>10</td>\n",
       "      <td>RENT</td>\n",
       "      <td>24000.0</td>\n",
       "      <td>Verified</td>\n",
       "      <td>2011-12-01</td>\n",
       "      <td>0</td>\n",
       "      <td>credit_card</td>\n",
       "      <td>27.65</td>\n",
       "      <td>12</td>\n",
       "      <td>2011</td>\n",
       "    </tr>\n",
       "    <tr>\n",
       "      <th>1</th>\n",
       "      <td>1077430</td>\n",
       "      <td>1314167</td>\n",
       "      <td>2500</td>\n",
       "      <td>2500</td>\n",
       "      <td>2500.0</td>\n",
       "      <td>60</td>\n",
       "      <td>15.27</td>\n",
       "      <td>59.83</td>\n",
       "      <td>C</td>\n",
       "      <td>C4</td>\n",
       "      <td>1</td>\n",
       "      <td>RENT</td>\n",
       "      <td>30000.0</td>\n",
       "      <td>Source Verified</td>\n",
       "      <td>2011-12-01</td>\n",
       "      <td>1</td>\n",
       "      <td>car</td>\n",
       "      <td>1.00</td>\n",
       "      <td>12</td>\n",
       "      <td>2011</td>\n",
       "    </tr>\n",
       "  </tbody>\n",
       "</table>\n",
       "</div>"
      ],
      "text/plain": [
       "        id  member_id  loan_amnt  funded_amnt  funded_amnt_inv  term_months  \\\n",
       "0  1077501    1296599       5000         5000           4975.0           36   \n",
       "1  1077430    1314167       2500         2500           2500.0           60   \n",
       "\n",
       "   int_rate  installment grade sub_grade  emp_length home_ownership  \\\n",
       "0     10.65       162.87     B        B2          10           RENT   \n",
       "1     15.27        59.83     C        C4           1           RENT   \n",
       "\n",
       "   annual_inc verification_status    issue_d  loan_status      purpose    dti  \\\n",
       "0     24000.0            Verified 2011-12-01            0  credit_card  27.65   \n",
       "1     30000.0     Source Verified 2011-12-01            1          car   1.00   \n",
       "\n",
       "   issue_month  issue_year  \n",
       "0           12        2011  \n",
       "1           12        2011  "
      ]
     },
     "execution_count": 41,
     "metadata": {},
     "output_type": "execute_result"
    }
   ],
   "source": [
    "inp0.head(2)"
   ]
  },
  {
   "cell_type": "code",
   "execution_count": 42,
   "id": "236b35d7",
   "metadata": {},
   "outputs": [
    {
     "data": {
      "text/plain": [
       "count    37544.000000\n",
       "mean         0.143805\n",
       "std          0.350896\n",
       "min          0.000000\n",
       "25%          0.000000\n",
       "50%          0.000000\n",
       "75%          0.000000\n",
       "max          1.000000\n",
       "Name: loan_status, dtype: float64"
      ]
     },
     "execution_count": 42,
     "metadata": {},
     "output_type": "execute_result"
    }
   ],
   "source": [
    "# summarising loan status statistically\n",
    "inp0.loan_status.describe()"
   ]
  },
  {
   "cell_type": "markdown",
   "id": "b65eec22",
   "metadata": {},
   "source": [
    "- average default rate is 14%"
   ]
  },
  {
   "cell_type": "code",
   "execution_count": 43,
   "id": "030595ce",
   "metadata": {},
   "outputs": [
    {
     "data": {
      "image/png": "[encoded data removed]",
      "text/plain": [
       "<Figure size 432x288 with 1 Axes>"
      ]
     },
     "metadata": {},
     "output_type": "display_data"
    }
   ],
   "source": [
    "# loan variable analysis\n",
    "\n",
    "inp0.loan_status.value_counts().plot.pie(autopct='%.2f%%')\n",
    "plt.title('Distribution of loan by loan status')\n",
    "plt.show()"
   ]
  },
  {
   "cell_type": "markdown",
   "id": "f23f561c",
   "metadata": {},
   "source": [
    "- we can see there are 14% of defaulters are there and fully paid are 85%"
   ]
  },
  {
   "cell_type": "code",
   "execution_count": 44,
   "id": "3b5daaeb",
   "metadata": {},
   "outputs": [
    {
     "data": {
      "text/plain": [
       "RENT        48.151502\n",
       "MORTGAGE    44.201470\n",
       "OWN          7.378010\n",
       "OTHER        0.261027\n",
       "NONE         0.007991\n",
       "Name: home_ownership, dtype: float64"
      ]
     },
     "execution_count": 44,
     "metadata": {},
     "output_type": "execute_result"
    }
   ],
   "source": [
    "# home ownership variable analysis\n",
    "\n",
    "inp0.home_ownership.value_counts(normalize=True)*100"
   ]
  },
  {
   "cell_type": "code",
   "execution_count": 45,
   "id": "80ce6065",
   "metadata": {},
   "outputs": [
    {
     "data": {
      "text/plain": [
       "RENT        18081\n",
       "MORTGAGE    16595\n",
       "OWN          2770\n",
       "OTHER          98\n",
       "Name: home_ownership, dtype: int64"
      ]
     },
     "execution_count": 45,
     "metadata": {},
     "output_type": "execute_result"
    }
   ],
   "source": [
    "# lets replace None value to Rent values\n",
    "\n",
    "inp0['home_ownership'] = inp0['home_ownership'].str.replace('NONE','RENT')\n",
    "inp0['home_ownership'].value_counts()"
   ]
  },
  {
   "cell_type": "code",
   "execution_count": 46,
   "id": "af66e464",
   "metadata": {},
   "outputs": [
    {
     "data": {
      "image/png": "[encoded data removed]",
      "text/plain": [
       "<Figure size 432x288 with 1 Axes>"
      ]
     },
     "metadata": {
      "needs_background": "light"
     },
     "output_type": "display_data"
    }
   ],
   "source": [
    "# plot bar graph to see the distribution of loan by home ownership  \n",
    "\n",
    "inp0.home_ownership.value_counts().plot.bar()\n",
    "plt.title('Distribution of loan by Home ownership')\n",
    "plt.xlabel('Home ownership')\n",
    "plt.ylabel('Number of loans issued')\n",
    "plt.show()"
   ]
  },
  {
   "cell_type": "markdown",
   "id": "3bf6e5dd",
   "metadata": {},
   "source": [
    "- most of the loan applicants stay on rent and mortgage"
   ]
  },
  {
   "cell_type": "code",
   "execution_count": 47,
   "id": "fd3ff236",
   "metadata": {},
   "outputs": [
    {
     "data": {
      "text/plain": [
       "Not Verified       43.357128\n",
       "Verified           31.355210\n",
       "Source Verified    25.287662\n",
       "Name: verification_status, dtype: float64"
      ]
     },
     "execution_count": 47,
     "metadata": {},
     "output_type": "execute_result"
    }
   ],
   "source": [
    "# verification status analysis\n",
    "inp0.verification_status.value_counts(normalize=True)*100"
   ]
  },
  {
   "cell_type": "code",
   "execution_count": 48,
   "id": "0c07424b",
   "metadata": {},
   "outputs": [
    {
     "data": {
      "image/png": "[encoded data removed]",
      "text/plain": [
       "<Figure size 432x288 with 1 Axes>"
      ]
     },
     "metadata": {
      "needs_background": "light"
     },
     "output_type": "display_data"
    }
   ],
   "source": [
    "# distribution of loan by verification status\n",
    "inp0.verification_status.value_counts().plot.bar()\n",
    "plt.title('Distribution of loan by verification_status')\n",
    "plt.xlabel('verification_status')\n",
    "plt.ylabel('Number of loans issued')\n",
    "plt.show()"
   ]
  },
  {
   "cell_type": "markdown",
   "id": "09d8e0e2",
   "metadata": {},
   "source": [
    "- most of the applicant's not verified there income"
   ]
  },
  {
   "cell_type": "code",
   "execution_count": 49,
   "id": "dc70abcf",
   "metadata": {},
   "outputs": [
    {
     "data": {
      "text/plain": [
       "debt_consolidation    47.078095\n",
       "credit_card           13.048690\n",
       "other                  9.889729\n",
       "home_improvement       7.417963\n",
       "major_purchase         5.540166\n",
       "small_business         4.554656\n",
       "car                    3.856808\n",
       "wedding                2.431813\n",
       "medical                1.747283\n",
       "moving                 1.470275\n",
       "house                  0.942894\n",
       "vacation               0.926912\n",
       "educational            0.844343\n",
       "renewable_energy       0.250373\n",
       "Name: purpose, dtype: float64"
      ]
     },
     "execution_count": 49,
     "metadata": {},
     "output_type": "execute_result"
    }
   ],
   "source": [
    "# distribution of loan by purpose\n",
    "inp0['purpose'].value_counts(normalize=True)*100"
   ]
  },
  {
   "cell_type": "code",
   "execution_count": 50,
   "id": "3c266889",
   "metadata": {},
   "outputs": [
    {
     "data": {
      "image/png": "[encoded data removed]",
      "text/plain": [
       "<Figure size 432x288 with 1 Axes>"
      ]
     },
     "metadata": {
      "needs_background": "light"
     },
     "output_type": "display_data"
    }
   ],
   "source": [
    "# plot bar graph to see the loan distribution by purpose \n",
    "inp0['purpose'].value_counts().plot.bar()\n",
    "plt.title('Distribution of loan by Purpose')\n",
    "plt.xlabel('purpose')\n",
    "plt.ylabel('number of loan issued')\n",
    "plt.show()"
   ]
  },
  {
   "cell_type": "markdown",
   "id": "0f405629",
   "metadata": {},
   "source": [
    "- mostly purpose of taking loan is debt consolidation"
   ]
  },
  {
   "cell_type": "markdown",
   "id": "3155c75b",
   "metadata": {},
   "source": [
    "### Univariate ordered categorical data analysis"
   ]
  },
  {
   "cell_type": "code",
   "execution_count": 51,
   "id": "7e911612",
   "metadata": {},
   "outputs": [
    {
     "data": {
      "text/plain": [
       "36    28287\n",
       "60     9257\n",
       "Name: term_months, dtype: int64"
      ]
     },
     "execution_count": 51,
     "metadata": {},
     "output_type": "execute_result"
    }
   ],
   "source": [
    "# distribution of loan by term months\n",
    "\n",
    "inp0.term_months.value_counts()"
   ]
  },
  {
   "cell_type": "code",
   "execution_count": 52,
   "id": "a600e9ae",
   "metadata": {},
   "outputs": [
    {
     "data": {
      "image/png": "[encoded data removed]",
      "text/plain": [
       "<Figure size 720x504 with 5 Axes>"
      ]
     },
     "metadata": {
      "needs_background": "light"
     },
     "output_type": "display_data"
    }
   ],
   "source": [
    "# distribution of loan by grade\n",
    "plt.figure(figsize=[10,7])\n",
    "\n",
    "plt.subplot(3,2,1)\n",
    "inp0.grade.value_counts().plot.bar()\n",
    "plt.title('Distribution of loan by grade',fontdict={'fontsize':'15','color':'Purple'})\n",
    "plt.xlabel('grade',fontdict={'fontsize':'10','color':'Green'})\n",
    "plt.ylabel('Number of loans issued',fontdict={'fontsize':'10','color':'Green'})\n",
    "\n",
    "\n",
    "# Distribution of loan by emp_length\n",
    "plt.subplot(3,2,2)\n",
    "inp0['emp_length'].value_counts().plot.bar()\n",
    "plt.title('Distribution of loan by emp_length',fontdict={'fontsize':'15','color':'Purple'})\n",
    "plt.xlabel('emp_length',fontdict={'fontsize':'10','color':'Green'})\n",
    "plt.ylabel('Number of loans issued',fontdict={'fontsize':'10','color':'Green'})\n",
    "\n",
    "\n",
    "#distribution of loan by issue_month\n",
    "plt.subplot(3,2,3)\n",
    "inp0['issue_month'].value_counts().plot.bar()\n",
    "plt.title('Distribution of loan by issue_month',fontdict={'fontsize':'15','color':'Purple'})\n",
    "plt.xlabel('issue_month',fontdict={'fontsize':'10','color':'Green'})\n",
    "plt.ylabel('Number of loans issued',fontdict={'fontsize':'10','color':'Green'})\n",
    "\n",
    "# analysis of issue_year variable\n",
    "plt.subplot(3,2,4)\n",
    "sns.countplot(data = inp0,x='issue_year')\n",
    "plt.title(\"Distribution of loan by issue_year\",fontdict={'fontsize':'15','color':'Purple'})\n",
    "plt.xlabel('issue_year',fontdict={'fontsize':'10','color':'Green'})\n",
    "plt.ylabel('Number of loans issued',fontdict={'fontsize':'10','color':'Green'})\n",
    "\n",
    "# analysis of term month variable\n",
    "plt.subplot(3,2,5)\n",
    "sns.countplot(data=inp0,x='term_months')\n",
    "plt.title(\"Distribution of loan by term month\",fontdict={'fontsize':'15','color':'Purple'})\n",
    "plt.xlabel('term_months',fontdict={'fontsize':'10','color':'Green'})\n",
    "plt.ylabel(\"Number of loans issued\",fontdict={'fontsize':'10','color':'Green'})\n",
    "\n",
    "plt.tight_layout()\n",
    "plt.show()"
   ]
  },
  {
   "cell_type": "markdown",
   "id": "56581e7f",
   "metadata": {},
   "source": [
    "- 1.highest number of loans are B & A grade loans and least number of loans are F & G graded\n",
    "- 2.more number of loans are taken by employess who have 10 years of experience \n",
    "- 3.12th month has the highest number of loans issued \n",
    "- 4.2011 is ther year where most number of loans are issued\n",
    "- 5.most of the applicants are of 36 term month"
   ]
  },
  {
   "cell_type": "code",
   "execution_count": 53,
   "id": "c4f29f01",
   "metadata": {},
   "outputs": [
    {
     "data": {
      "text/plain": [
       "Text(0, 0.5, 'Number of loans issued')"
      ]
     },
     "execution_count": 53,
     "metadata": {},
     "output_type": "execute_result"
    },
    {
     "data": {
      "image/png": "[encoded data removed]",
      "text/plain": [
       "<Figure size 2160x504 with 1 Axes>"
      ]
     },
     "metadata": {
      "needs_background": "light"
     },
     "output_type": "display_data"
    }
   ],
   "source": [
    "# distribution of loan by sub_grade \n",
    "plt.figure(figsize=[30,7])\n",
    "plt.subplot(2,3,5)\n",
    "inp0.sub_grade.value_counts().plot.bar()\n",
    "plt.title('Distribution of loan by sub grade')\n",
    "plt.xlabel('sub grade',fontdict={'fontsize':'10','color':'Purple'})\n",
    "plt.ylabel('Number of loans issued',fontdict={'fontsize':'13','color':'Purple'})\n",
    "\n"
   ]
  },
  {
   "cell_type": "markdown",
   "id": "35ed7c67",
   "metadata": {},
   "source": [
    "- highest number of loans are A4,B3,A5,B4 and least are G1,G2,G3,G4,G5"
   ]
  },
  {
   "cell_type": "markdown",
   "id": "c62b0057",
   "metadata": {},
   "source": [
    "### Univariate numerical analysis"
   ]
  },
  {
   "cell_type": "code",
   "execution_count": 54,
   "id": "84a747d8",
   "metadata": {},
   "outputs": [
    {
     "data": {
      "text/html": [
       "<div>\n",
       "<style scoped>\n",
       "    .dataframe tbody tr th:only-of-type {\n",
       "        vertical-align: middle;\n",
       "    }\n",
       "\n",
       "    .dataframe tbody tr th {\n",
       "        vertical-align: top;\n",
       "    }\n",
       "\n",
       "    .dataframe thead th {\n",
       "        text-align: right;\n",
       "    }\n",
       "</style>\n",
       "<table border=\"1\" class=\"dataframe\">\n",
       "  <thead>\n",
       "    <tr style=\"text-align: right;\">\n",
       "      <th></th>\n",
       "      <th>id</th>\n",
       "      <th>member_id</th>\n",
       "      <th>loan_amnt</th>\n",
       "      <th>funded_amnt</th>\n",
       "      <th>funded_amnt_inv</th>\n",
       "      <th>term_months</th>\n",
       "      <th>int_rate</th>\n",
       "      <th>installment</th>\n",
       "      <th>grade</th>\n",
       "      <th>sub_grade</th>\n",
       "      <th>emp_length</th>\n",
       "      <th>home_ownership</th>\n",
       "      <th>annual_inc</th>\n",
       "      <th>verification_status</th>\n",
       "      <th>issue_d</th>\n",
       "      <th>loan_status</th>\n",
       "      <th>purpose</th>\n",
       "      <th>dti</th>\n",
       "      <th>issue_month</th>\n",
       "      <th>issue_year</th>\n",
       "    </tr>\n",
       "  </thead>\n",
       "  <tbody>\n",
       "    <tr>\n",
       "      <th>0</th>\n",
       "      <td>1077501</td>\n",
       "      <td>1296599</td>\n",
       "      <td>5000</td>\n",
       "      <td>5000</td>\n",
       "      <td>4975.0</td>\n",
       "      <td>36</td>\n",
       "      <td>10.65</td>\n",
       "      <td>162.87</td>\n",
       "      <td>B</td>\n",
       "      <td>B2</td>\n",
       "      <td>10</td>\n",
       "      <td>RENT</td>\n",
       "      <td>24000.0</td>\n",
       "      <td>Verified</td>\n",
       "      <td>2011-12-01</td>\n",
       "      <td>0</td>\n",
       "      <td>credit_card</td>\n",
       "      <td>27.65</td>\n",
       "      <td>12</td>\n",
       "      <td>2011</td>\n",
       "    </tr>\n",
       "    <tr>\n",
       "      <th>1</th>\n",
       "      <td>1077430</td>\n",
       "      <td>1314167</td>\n",
       "      <td>2500</td>\n",
       "      <td>2500</td>\n",
       "      <td>2500.0</td>\n",
       "      <td>60</td>\n",
       "      <td>15.27</td>\n",
       "      <td>59.83</td>\n",
       "      <td>C</td>\n",
       "      <td>C4</td>\n",
       "      <td>1</td>\n",
       "      <td>RENT</td>\n",
       "      <td>30000.0</td>\n",
       "      <td>Source Verified</td>\n",
       "      <td>2011-12-01</td>\n",
       "      <td>1</td>\n",
       "      <td>car</td>\n",
       "      <td>1.00</td>\n",
       "      <td>12</td>\n",
       "      <td>2011</td>\n",
       "    </tr>\n",
       "  </tbody>\n",
       "</table>\n",
       "</div>"
      ],
      "text/plain": [
       "        id  member_id  loan_amnt  funded_amnt  funded_amnt_inv  term_months  \\\n",
       "0  1077501    1296599       5000         5000           4975.0           36   \n",
       "1  1077430    1314167       2500         2500           2500.0           60   \n",
       "\n",
       "   int_rate  installment grade sub_grade  emp_length home_ownership  \\\n",
       "0     10.65       162.87     B        B2          10           RENT   \n",
       "1     15.27        59.83     C        C4           1           RENT   \n",
       "\n",
       "   annual_inc verification_status    issue_d  loan_status      purpose    dti  \\\n",
       "0     24000.0            Verified 2011-12-01            0  credit_card  27.65   \n",
       "1     30000.0     Source Verified 2011-12-01            1          car   1.00   \n",
       "\n",
       "   issue_month  issue_year  \n",
       "0           12        2011  \n",
       "1           12        2011  "
      ]
     },
     "execution_count": 54,
     "metadata": {},
     "output_type": "execute_result"
    }
   ],
   "source": [
    "\n",
    "inp0.head(2)"
   ]
  },
  {
   "cell_type": "code",
   "execution_count": 55,
   "id": "1a4ea0dd",
   "metadata": {},
   "outputs": [
    {
     "data": {
      "text/plain": [
       "count    37544.000000\n",
       "mean     11119.329986\n",
       "std       7354.098954\n",
       "min        500.000000\n",
       "25%       5500.000000\n",
       "50%      10000.000000\n",
       "75%      15000.000000\n",
       "max      35000.000000\n",
       "Name: loan_amnt, dtype: float64"
      ]
     },
     "execution_count": 55,
     "metadata": {},
     "output_type": "execute_result"
    }
   ],
   "source": [
    "# summarising loan amount statistically\n",
    "\n",
    "inp0.loan_amnt.describe()"
   ]
  },
  {
   "cell_type": "markdown",
   "id": "3e47c47b",
   "metadata": {},
   "source": [
    "50% of loan amount is 10,000"
   ]
  },
  {
   "cell_type": "code",
   "execution_count": 56,
   "id": "2c7d8c6f",
   "metadata": {},
   "outputs": [
    {
     "data": {
      "text/plain": [
       "<AxesSubplot:xlabel='loan_amnt', ylabel='Density'>"
      ]
     },
     "execution_count": 56,
     "metadata": {},
     "output_type": "execute_result"
    },
    {
     "data": {
      "image/png": "[encoded data removed]",
      "text/plain": [
       "<Figure size 432x288 with 1 Axes>"
      ]
     },
     "metadata": {
      "needs_background": "light"
     },
     "output_type": "display_data"
    }
   ],
   "source": [
    "# distplot of loan amount\n",
    "sns.distplot(inp0['loan_amnt'])"
   ]
  },
  {
   "cell_type": "code",
   "execution_count": 57,
   "id": "a93223eb",
   "metadata": {},
   "outputs": [],
   "source": [
    "# easiest way to analyse is by making bins\n",
    "# binning loan amount into low ,medium,high,very high\n",
    "def loan_amount(n):\n",
    "    if n<5000:\n",
    "        return 'low'\n",
    "    elif n>=5000 and n<15000:\n",
    "        return 'medium'\n",
    "    elif n>=15000 and n<25000:\n",
    "        return 'high'\n",
    "    else:\n",
    "        return 'very high'"
   ]
  },
  {
   "cell_type": "code",
   "execution_count": 58,
   "id": "2058ca6f",
   "metadata": {},
   "outputs": [],
   "source": [
    "# Converting loan amount to bins \n",
    "inp0['loan_amnt'] = inp0.loan_amnt.apply(lambda x : loan_amount(x))"
   ]
  },
  {
   "cell_type": "code",
   "execution_count": 59,
   "id": "5e447e0f",
   "metadata": {},
   "outputs": [
    {
     "data": {
      "text/plain": [
       "medium       20157\n",
       "high          7572\n",
       "low           7095\n",
       "very high     2720\n",
       "Name: loan_amnt, dtype: int64"
      ]
     },
     "execution_count": 59,
     "metadata": {},
     "output_type": "execute_result"
    }
   ],
   "source": [
    "inp0.loan_amnt.value_counts()"
   ]
  },
  {
   "cell_type": "code",
   "execution_count": 60,
   "id": "6045cdb5",
   "metadata": {},
   "outputs": [
    {
     "data": {
      "image/png": "[encoded data removed]",
      "text/plain": [
       "<Figure size 432x288 with 1 Axes>"
      ]
     },
     "metadata": {
      "needs_background": "light"
     },
     "output_type": "display_data"
    }
   ],
   "source": [
    "# seeing loan by loan amount using bar plot\n",
    "inp0.loan_amnt.value_counts().plot.bar()\n",
    "plt.title('Distribution of loan by loan amount')\n",
    "plt.xlabel('loan amount')\n",
    "plt.ylabel('Number of loans issued')\n",
    "plt.show()"
   ]
  },
  {
   "cell_type": "markdown",
   "id": "a2712a7e",
   "metadata": {},
   "source": [
    "- so medium(5k-15k) is the highest around 20,000 amount was distributed "
   ]
  },
  {
   "cell_type": "code",
   "execution_count": 61,
   "id": "1f0b71e0",
   "metadata": {},
   "outputs": [],
   "source": [
    "# analysing funded amount.Converting funded amount to bins\n",
    "inp0['funded_amnt'] = inp0.funded_amnt.apply(lambda x : loan_amount(x))"
   ]
  },
  {
   "cell_type": "code",
   "execution_count": 62,
   "id": "b90c7f4f",
   "metadata": {},
   "outputs": [
    {
     "data": {
      "text/plain": [
       "medium       20625\n",
       "high          7416\n",
       "low           7188\n",
       "very high     2315\n",
       "Name: funded_amnt, dtype: int64"
      ]
     },
     "execution_count": 62,
     "metadata": {},
     "output_type": "execute_result"
    }
   ],
   "source": [
    "# seeing count of funded amount\n",
    "inp0['funded_amnt'].value_counts()"
   ]
  },
  {
   "cell_type": "code",
   "execution_count": 63,
   "id": "fe5db0e7",
   "metadata": {},
   "outputs": [
    {
     "data": {
      "image/png": "[encoded data removed]",
      "text/plain": [
       "<Figure size 432x288 with 1 Axes>"
      ]
     },
     "metadata": {
      "needs_background": "light"
     },
     "output_type": "display_data"
    }
   ],
   "source": [
    "# bar plot of loan amount by funded amount\n",
    "inp0.funded_amnt.value_counts().plot.bar()\n",
    "plt.title('Distribution of loan by funded amount')\n",
    "plt.xlabel('Funded amount')\n",
    "plt.ylabel('Number of loans issued')\n",
    "plt.show()"
   ]
  },
  {
   "cell_type": "markdown",
   "id": "a0ca8066",
   "metadata": {},
   "source": [
    "- so 5k - 15k amount was funded more"
   ]
  },
  {
   "cell_type": "code",
   "execution_count": 64,
   "id": "4f372ee2",
   "metadata": {},
   "outputs": [
    {
     "data": {
      "text/plain": [
       "0         4975.0\n",
       "1         2500.0\n",
       "2         2400.0\n",
       "3        10000.0\n",
       "5         5000.0\n",
       "          ...   \n",
       "39712     1075.0\n",
       "39713      875.0\n",
       "39714     1325.0\n",
       "39715      650.0\n",
       "39716      800.0\n",
       "Name: funded_amnt_inv, Length: 37544, dtype: float64"
      ]
     },
     "execution_count": 64,
     "metadata": {},
     "output_type": "execute_result"
    }
   ],
   "source": [
    "#converting funded_amnt_inv to bins\n",
    "inp0.funded_amnt_inv"
   ]
  },
  {
   "cell_type": "code",
   "execution_count": 65,
   "id": "c9b77302",
   "metadata": {},
   "outputs": [],
   "source": [
    "# converting funded amount inv to bins\n",
    "inp0['funded_amnt_inv'] = inp0['funded_amnt_inv'].apply(lambda x : loan_amount(x))"
   ]
  },
  {
   "cell_type": "code",
   "execution_count": 66,
   "id": "49ea3938",
   "metadata": {},
   "outputs": [
    {
     "data": {
      "text/plain": [
       "medium       20510\n",
       "low           9040\n",
       "high          6658\n",
       "very high     1336\n",
       "Name: funded_amnt_inv, dtype: int64"
      ]
     },
     "execution_count": 66,
     "metadata": {},
     "output_type": "execute_result"
    }
   ],
   "source": [
    "inp0['funded_amnt_inv'].value_counts()"
   ]
  },
  {
   "cell_type": "code",
   "execution_count": 67,
   "id": "6bb4bb2a",
   "metadata": {},
   "outputs": [
    {
     "data": {
      "image/png": "[encoded data removed]",
      "text/plain": [
       "<Figure size 432x288 with 1 Axes>"
      ]
     },
     "metadata": {
      "needs_background": "light"
     },
     "output_type": "display_data"
    }
   ],
   "source": [
    "# plot bar graph of loan data using funded amount_inv\n",
    "inp0['funded_amnt_inv'].value_counts().plot.bar()\n",
    "plt.title('Distribution of loan by funded_amnt_inv')\n",
    "plt.xlabel('funded_amnt_inv')\n",
    "plt.ylabel('Number of loans issued')\n",
    "plt.show()"
   ]
  },
  {
   "cell_type": "markdown",
   "id": "a05c498c",
   "metadata": {},
   "source": [
    "- most invested amount is around 5k - 15k "
   ]
  },
  {
   "cell_type": "code",
   "execution_count": 68,
   "id": "0daea46f",
   "metadata": {
    "scrolled": true
   },
   "outputs": [
    {
     "data": {
      "text/plain": [
       "array([10.65, 15.27, 15.96, 13.49,  7.9 , 18.64, 21.28, 12.69, 14.65,\n",
       "        9.91, 16.29,  6.03, 11.71, 12.42, 14.27, 16.77,  7.51,  8.9 ,\n",
       "       18.25,  6.62, 19.91, 17.27, 17.58, 21.67, 19.42, 20.89, 20.3 ,\n",
       "       23.91, 19.03, 23.13, 22.74, 22.35, 22.06, 24.11,  6.  , 23.52,\n",
       "       22.11,  7.49, 11.99,  5.99, 10.99,  9.99, 18.79, 11.49, 15.99,\n",
       "       16.49,  6.99, 12.99, 15.23, 14.79,  5.42,  8.49, 10.59, 17.49,\n",
       "       15.62, 19.29, 13.99, 18.39, 16.89, 17.99, 20.99, 22.85, 19.69,\n",
       "       20.62, 20.25, 21.36, 23.22, 21.74, 22.48, 23.59, 12.62, 18.07,\n",
       "       11.63,  7.91,  7.42, 11.14, 20.2 , 12.12, 19.39, 16.11, 17.54,\n",
       "       22.64, 16.59, 17.19, 12.87, 20.69,  9.67, 21.82, 19.79, 18.49,\n",
       "       13.84, 22.94, 24.4 , 21.48, 14.82,  7.29, 17.88, 20.11, 16.02,\n",
       "       13.43, 14.91, 13.06, 15.28, 15.65, 17.14, 11.11, 10.37, 14.17,\n",
       "       16.4 , 17.51,  7.66, 10.74,  5.79,  6.92, 10.  ,  9.63, 14.54,\n",
       "       12.68, 18.62, 19.36, 13.8 , 18.99, 21.59, 20.85, 21.22, 19.74,\n",
       "       20.48,  6.91, 12.23, 12.61, 10.36,  6.17,  6.54,  9.25, 16.69,\n",
       "       15.95,  8.88, 13.35,  9.62, 16.32, 12.98, 14.83, 13.72, 14.09,\n",
       "       14.46, 20.03, 17.8 , 15.2 , 15.57, 18.54, 19.66, 17.06, 18.17,\n",
       "       17.43, 20.4 , 20.77, 18.91, 21.14, 17.44, 13.23, 11.12,  7.88,\n",
       "       13.61, 10.38, 17.56, 17.93, 15.58, 13.98, 14.84, 15.21,  6.76,\n",
       "        6.39, 11.86,  7.14, 14.35, 16.82, 10.75, 14.72, 16.45, 20.53,\n",
       "       19.41, 20.16, 21.27, 18.3 , 18.67, 19.04, 20.9 , 21.64, 12.73,\n",
       "       10.25, 13.11, 10.62, 13.48, 14.59, 16.07, 15.7 ,  9.88, 11.36,\n",
       "       15.33, 13.85, 14.96, 14.22,  7.74, 13.22, 13.57,  8.59, 17.04,\n",
       "       14.61,  8.94, 12.18, 11.83, 11.48, 16.35, 13.92, 15.31, 14.26,\n",
       "       19.13, 12.53, 16.7 , 16.  , 17.39, 18.09,  7.4 , 18.43, 17.74,\n",
       "        7.05, 20.52, 20.86, 19.47, 18.78, 21.21, 19.82, 20.17, 13.16,\n",
       "        8.  , 13.47, 12.21, 16.63,  9.32, 12.84, 11.26, 15.68, 15.37,\n",
       "       10.95, 11.89, 14.11, 13.79,  7.68, 11.58,  7.37, 16.95, 15.05,\n",
       "       18.53, 14.74, 14.42, 18.21, 17.26, 18.84, 17.9 , 19.16, 13.67,\n",
       "        9.38, 12.72, 13.36, 11.46, 10.51,  9.07, 13.04, 11.78, 12.41,\n",
       "       10.83, 12.09, 17.46, 14.3 , 17.15, 15.25, 10.2 , 15.88, 14.93,\n",
       "       16.2 , 18.72, 14.62,  8.32, 14.12, 10.96, 10.33, 10.01, 12.86,\n",
       "       11.28, 11.59,  8.63, 12.54, 12.22, 11.91, 15.38, 16.96, 13.17,\n",
       "        9.7 , 16.33, 14.75, 15.07, 16.01, 10.71, 10.64,  9.76, 11.34,\n",
       "       10.39, 13.87, 11.03, 11.66, 13.24, 10.08,  9.45, 13.55, 12.29,\n",
       "       11.97, 12.92, 15.45, 14.5 , 14.18, 15.13, 16.08, 15.76, 17.03,\n",
       "       17.34, 16.71,  9.83, 13.62, 10.46,  9.51,  9.2 , 13.3 , 10.78,\n",
       "        7.75,  8.38, 12.36, 12.67, 11.72, 13.93,  8.07,  7.43, 12.04,\n",
       "       14.25, 14.88, 11.41, 11.09, 10.14, 16.15, 15.83,  7.12, 18.36,\n",
       "        9.64,  9.96, 11.22,  9.01,  9.33, 11.54, 12.17, 12.8 , 14.38,\n",
       "       13.75, 14.7 , 12.49, 14.07, 10.91, 13.12, 10.28,  8.7 , 14.67,\n",
       "       15.01])"
      ]
     },
     "execution_count": 68,
     "metadata": {},
     "output_type": "execute_result"
    }
   ],
   "source": [
    "# seeing unique values of interest rate\n",
    "inp0.int_rate.unique()"
   ]
  },
  {
   "cell_type": "code",
   "execution_count": 69,
   "id": "127a1786",
   "metadata": {},
   "outputs": [],
   "source": [
    "# converting interest rate to bins to low,medium,high\n",
    "\n",
    "def interest_rate(n):\n",
    "    if n<=10:\n",
    "        return 'low'\n",
    "    elif n>10 and n<15:\n",
    "        return 'medium'\n",
    "    else:\n",
    "        return 'high'"
   ]
  },
  {
   "cell_type": "code",
   "execution_count": 70,
   "id": "462fc502",
   "metadata": {},
   "outputs": [
    {
     "data": {
      "text/plain": [
       "0        medium\n",
       "1          high\n",
       "2          high\n",
       "3        medium\n",
       "5           low\n",
       "          ...  \n",
       "39712       low\n",
       "39713    medium\n",
       "39714       low\n",
       "39715       low\n",
       "39716    medium\n",
       "Name: int_rate, Length: 37544, dtype: object"
      ]
     },
     "execution_count": 70,
     "metadata": {},
     "output_type": "execute_result"
    }
   ],
   "source": [
    "inp0['int_rate'] = inp0['int_rate'].apply(lambda x : interest_rate(x))\n",
    "inp0['int_rate']"
   ]
  },
  {
   "cell_type": "code",
   "execution_count": 71,
   "id": "43a6226f",
   "metadata": {},
   "outputs": [
    {
     "data": {
      "image/png": "[encoded data removed]",
      "text/plain": [
       "<Figure size 432x288 with 1 Axes>"
      ]
     },
     "metadata": {
      "needs_background": "light"
     },
     "output_type": "display_data"
    }
   ],
   "source": [
    "# plotting bar graph to see loan by interest rate\n",
    "inp0['int_rate'].value_counts().plot.bar()\n",
    "plt.title('Distribution of loan by interest rate')\n",
    "plt.xlabel('Interest rate')\n",
    "plt.ylabel('Number of loans issued')\n",
    "plt.show()"
   ]
  },
  {
   "cell_type": "markdown",
   "id": "e69e6c71",
   "metadata": {},
   "source": [
    "- loans with medium(10-15%) of interest are issued most"
   ]
  },
  {
   "cell_type": "code",
   "execution_count": 72,
   "id": "0d7c04ff",
   "metadata": {},
   "outputs": [
    {
     "data": {
      "text/plain": [
       "0        27.65\n",
       "1         1.00\n",
       "2         8.72\n",
       "3        20.00\n",
       "5        11.20\n",
       "         ...  \n",
       "39712    11.33\n",
       "39713     6.40\n",
       "39714     2.30\n",
       "39715     3.72\n",
       "39716    14.29\n",
       "Name: dti, Length: 37544, dtype: float64"
      ]
     },
     "execution_count": 72,
     "metadata": {},
     "output_type": "execute_result"
    }
   ],
   "source": [
    "#converting debt to income variable value's to bins to low,medium,high\n",
    "inp0.dti"
   ]
  },
  {
   "cell_type": "code",
   "execution_count": 73,
   "id": "4fa38753",
   "metadata": {},
   "outputs": [],
   "source": [
    "# defining function to bin dti to low ,medium and high\n",
    "def dti_1(n):\n",
    "    if n<=10:\n",
    "        return 'low'\n",
    "    elif n>10 and n<=20:\n",
    "        return 'medium'\n",
    "    else:\n",
    "        return 'high'"
   ]
  },
  {
   "cell_type": "code",
   "execution_count": 74,
   "id": "4e4aef66",
   "metadata": {},
   "outputs": [],
   "source": [
    "# applying defined function to dti to convert into bins\n",
    "inp0['dti'] = inp0['dti'].apply(lambda x : dti_1(x))"
   ]
  },
  {
   "cell_type": "code",
   "execution_count": 75,
   "id": "54985eb2",
   "metadata": {},
   "outputs": [
    {
     "data": {
      "text/plain": [
       "medium    18002\n",
       "low       12545\n",
       "high       6997\n",
       "Name: dti, dtype: int64"
      ]
     },
     "execution_count": 75,
     "metadata": {},
     "output_type": "execute_result"
    }
   ],
   "source": [
    "# seeing the count of dti\n",
    "inp0['dti'].value_counts()"
   ]
  },
  {
   "cell_type": "code",
   "execution_count": 76,
   "id": "ec9f3f96",
   "metadata": {},
   "outputs": [
    {
     "data": {
      "image/png": "[encoded data removed]",
      "text/plain": [
       "<Figure size 432x288 with 1 Axes>"
      ]
     },
     "metadata": {
      "needs_background": "light"
     },
     "output_type": "display_data"
    }
   ],
   "source": [
    "# bar plot to see the distribution of loan by dti\n",
    "inp0['dti'].value_counts().plot.bar()\n",
    "plt.title('Distribution of loan by dti')\n",
    "plt.xlabel('debt to income')\n",
    "plt.ylabel('Number of loans issued')\n",
    "plt.show()"
   ]
  },
  {
   "cell_type": "code",
   "execution_count": 77,
   "id": "b028ed31",
   "metadata": {},
   "outputs": [],
   "source": [
    "# converting installment column to bins to low,medium,high,very high\n",
    "inp0.installment\n",
    "def installment_1(n):\n",
    "    if n<200:\n",
    "        return 'low'\n",
    "    elif n>=200 and n<400:\n",
    "        return 'medium'\n",
    "    elif n>=400 and n<600:\n",
    "        return 'high'\n",
    "    else:\n",
    "        return 'very high'"
   ]
  },
  {
   "cell_type": "code",
   "execution_count": 78,
   "id": "5c21336c",
   "metadata": {},
   "outputs": [],
   "source": [
    "# applying defined function to installment to convert into bins\n",
    "inp0['installment'] = inp0['installment'].apply(lambda x: installment_1(x))"
   ]
  },
  {
   "cell_type": "code",
   "execution_count": 79,
   "id": "1293a531",
   "metadata": {},
   "outputs": [
    {
     "data": {
      "text/plain": [
       "medium       14390\n",
       "low          12544\n",
       "high          6458\n",
       "very high     4152\n",
       "Name: installment, dtype: int64"
      ]
     },
     "execution_count": 79,
     "metadata": {},
     "output_type": "execute_result"
    }
   ],
   "source": [
    "inp0['installment'].value_counts()"
   ]
  },
  {
   "cell_type": "code",
   "execution_count": 80,
   "id": "edbc52d6",
   "metadata": {},
   "outputs": [
    {
     "data": {
      "image/png": "[encoded data removed]",
      "text/plain": [
       "<Figure size 432x288 with 1 Axes>"
      ]
     },
     "metadata": {
      "needs_background": "light"
     },
     "output_type": "display_data"
    }
   ],
   "source": [
    "inp0['installment'].value_counts().plot.bar()\n",
    "plt.title('Distribution of loan by installment')\n",
    "plt.xlabel('installment')\n",
    "plt.ylabel('Number of loans issued')\n",
    "plt.show()"
   ]
  },
  {
   "cell_type": "code",
   "execution_count": 81,
   "id": "02742035",
   "metadata": {},
   "outputs": [
    {
     "data": {
      "text/plain": [
       "count    3.754400e+04\n",
       "mean     6.940708e+04\n",
       "std      6.467698e+04\n",
       "min      4.000000e+03\n",
       "25%      4.100000e+04\n",
       "50%      6.000000e+04\n",
       "75%      8.300000e+04\n",
       "max      6.000000e+06\n",
       "Name: annual_inc, dtype: float64"
      ]
     },
     "execution_count": 81,
     "metadata": {},
     "output_type": "execute_result"
    }
   ],
   "source": [
    "# converting annual_inc to bins to low ,medium,high,very high\n",
    "inp0.annual_inc.describe()"
   ]
  },
  {
   "cell_type": "code",
   "execution_count": 82,
   "id": "e0f628e7",
   "metadata": {},
   "outputs": [
    {
     "data": {
      "text/plain": [
       "count      37544.000000\n",
       "mean       69407.080230\n",
       "std        64676.984485\n",
       "min         4000.000000\n",
       "25%        41000.000000\n",
       "50%        60000.000000\n",
       "75%        83000.000000\n",
       "max      6000000.000000\n",
       "Name: annual_inc, dtype: object"
      ]
     },
     "execution_count": 82,
     "metadata": {},
     "output_type": "execute_result"
    }
   ],
   "source": [
    "inp0.annual_inc.describe().apply(lambda x : format(x,'f'))"
   ]
  },
  {
   "cell_type": "code",
   "execution_count": 83,
   "id": "8da7ab52",
   "metadata": {},
   "outputs": [],
   "source": [
    "# converting annual income to bins \n",
    "def annual_income(n):\n",
    "    if n<50000:\n",
    "        return 'low'\n",
    "    elif n>=50000 and n<100000:\n",
    "        return 'medium'\n",
    "    elif n>=100000 and n<150000:\n",
    "        return 'high'\n",
    "    else:\n",
    "        return 'very high'"
   ]
  },
  {
   "cell_type": "code",
   "execution_count": 84,
   "id": "aa3b2dbe",
   "metadata": {},
   "outputs": [],
   "source": [
    "inp0['annual_inc'] = inp0['annual_inc'].apply(lambda x : annual_income(x))\n"
   ]
  },
  {
   "cell_type": "code",
   "execution_count": 85,
   "id": "918a104d",
   "metadata": {},
   "outputs": [
    {
     "data": {
      "text/plain": [
       "medium       17947\n",
       "low          13669\n",
       "high          4236\n",
       "very high     1692\n",
       "Name: annual_inc, dtype: int64"
      ]
     },
     "execution_count": 85,
     "metadata": {},
     "output_type": "execute_result"
    }
   ],
   "source": [
    "inp0['annual_inc'].value_counts()"
   ]
  },
  {
   "cell_type": "code",
   "execution_count": 86,
   "id": "d4b5a55d",
   "metadata": {},
   "outputs": [
    {
     "data": {
      "image/png": "[encoded data removed]",
      "text/plain": [
       "<Figure size 432x288 with 1 Axes>"
      ]
     },
     "metadata": {
      "needs_background": "light"
     },
     "output_type": "display_data"
    }
   ],
   "source": [
    "inp0.annual_inc.value_counts().plot.bar()\n",
    "plt.title('Distribution of loan by annual income')\n",
    "plt.xlabel('annual income')\n",
    "plt.ylabel('Number of loans issued')\n",
    "plt.show()"
   ]
  },
  {
   "cell_type": "markdown",
   "id": "628f388b",
   "metadata": {},
   "source": [
    "## Bivariate  and Multivariate analysis"
   ]
  },
  {
   "cell_type": "code",
   "execution_count": 87,
   "id": "06b98b0a",
   "metadata": {},
   "outputs": [
    {
     "data": {
      "text/html": [
       "<div>\n",
       "<style scoped>\n",
       "    .dataframe tbody tr th:only-of-type {\n",
       "        vertical-align: middle;\n",
       "    }\n",
       "\n",
       "    .dataframe tbody tr th {\n",
       "        vertical-align: top;\n",
       "    }\n",
       "\n",
       "    .dataframe thead th {\n",
       "        text-align: right;\n",
       "    }\n",
       "</style>\n",
       "<table border=\"1\" class=\"dataframe\">\n",
       "  <thead>\n",
       "    <tr style=\"text-align: right;\">\n",
       "      <th></th>\n",
       "      <th>id</th>\n",
       "      <th>member_id</th>\n",
       "      <th>loan_amnt</th>\n",
       "      <th>funded_amnt</th>\n",
       "      <th>funded_amnt_inv</th>\n",
       "      <th>term_months</th>\n",
       "      <th>int_rate</th>\n",
       "      <th>installment</th>\n",
       "      <th>grade</th>\n",
       "      <th>sub_grade</th>\n",
       "      <th>emp_length</th>\n",
       "      <th>home_ownership</th>\n",
       "      <th>annual_inc</th>\n",
       "      <th>verification_status</th>\n",
       "      <th>issue_d</th>\n",
       "      <th>loan_status</th>\n",
       "      <th>purpose</th>\n",
       "      <th>dti</th>\n",
       "      <th>issue_month</th>\n",
       "      <th>issue_year</th>\n",
       "    </tr>\n",
       "  </thead>\n",
       "  <tbody>\n",
       "    <tr>\n",
       "      <th>0</th>\n",
       "      <td>1077501</td>\n",
       "      <td>1296599</td>\n",
       "      <td>medium</td>\n",
       "      <td>medium</td>\n",
       "      <td>low</td>\n",
       "      <td>36</td>\n",
       "      <td>medium</td>\n",
       "      <td>low</td>\n",
       "      <td>B</td>\n",
       "      <td>B2</td>\n",
       "      <td>10</td>\n",
       "      <td>RENT</td>\n",
       "      <td>low</td>\n",
       "      <td>Verified</td>\n",
       "      <td>2011-12-01</td>\n",
       "      <td>0</td>\n",
       "      <td>credit_card</td>\n",
       "      <td>high</td>\n",
       "      <td>12</td>\n",
       "      <td>2011</td>\n",
       "    </tr>\n",
       "    <tr>\n",
       "      <th>1</th>\n",
       "      <td>1077430</td>\n",
       "      <td>1314167</td>\n",
       "      <td>low</td>\n",
       "      <td>low</td>\n",
       "      <td>low</td>\n",
       "      <td>60</td>\n",
       "      <td>high</td>\n",
       "      <td>low</td>\n",
       "      <td>C</td>\n",
       "      <td>C4</td>\n",
       "      <td>1</td>\n",
       "      <td>RENT</td>\n",
       "      <td>low</td>\n",
       "      <td>Source Verified</td>\n",
       "      <td>2011-12-01</td>\n",
       "      <td>1</td>\n",
       "      <td>car</td>\n",
       "      <td>low</td>\n",
       "      <td>12</td>\n",
       "      <td>2011</td>\n",
       "    </tr>\n",
       "  </tbody>\n",
       "</table>\n",
       "</div>"
      ],
      "text/plain": [
       "        id  member_id loan_amnt funded_amnt funded_amnt_inv  term_months  \\\n",
       "0  1077501    1296599    medium      medium             low           36   \n",
       "1  1077430    1314167       low         low             low           60   \n",
       "\n",
       "  int_rate installment grade sub_grade  emp_length home_ownership annual_inc  \\\n",
       "0   medium         low     B        B2          10           RENT        low   \n",
       "1     high         low     C        C4           1           RENT        low   \n",
       "\n",
       "  verification_status    issue_d  loan_status      purpose   dti  issue_month  \\\n",
       "0            Verified 2011-12-01            0  credit_card  high           12   \n",
       "1     Source Verified 2011-12-01            1          car   low           12   \n",
       "\n",
       "   issue_year  \n",
       "0        2011  \n",
       "1        2011  "
      ]
     },
     "execution_count": 87,
     "metadata": {},
     "output_type": "execute_result"
    }
   ],
   "source": [
    "inp0.head(2)"
   ]
  },
  {
   "cell_type": "code",
   "execution_count": 88,
   "id": "aa2db058",
   "metadata": {},
   "outputs": [
    {
     "data": {
      "text/plain": [
       "home_ownership\n",
       "MORTGAGE    16595\n",
       "OTHER          98\n",
       "OWN          2770\n",
       "RENT        18081\n",
       "Name: loan_status, dtype: int64"
      ]
     },
     "execution_count": 88,
     "metadata": {},
     "output_type": "execute_result"
    }
   ],
   "source": [
    "#Defaulters count on Home ownership \n",
    "inp0.groupby('home_ownership')['loan_status'].count()"
   ]
  },
  {
   "cell_type": "code",
   "execution_count": 89,
   "id": "f41e1bef",
   "metadata": {},
   "outputs": [
    {
     "data": {
      "image/png": "[encoded data removed]",
      "text/plain": [
       "<Figure size 432x288 with 1 Axes>"
      ]
     },
     "metadata": {
      "needs_background": "light"
     },
     "output_type": "display_data"
    }
   ],
   "source": [
    "# bar plot to see defaulters by home ownership\n",
    "inp0.groupby('home_ownership')['loan_status'].count().plot.bar()\n",
    "plt.title('Default rates by home ownership')\n",
    "plt.ylabel('loan_status')\n",
    "plt.show()"
   ]
  },
  {
   "cell_type": "markdown",
   "id": "44816432",
   "metadata": {},
   "source": [
    "- more number of defaulters are from Rent and Mortgage.Lenders should be careful while giving loan to borrowers of home ownership as rent and mortgage"
   ]
  },
  {
   "cell_type": "code",
   "execution_count": 90,
   "id": "11f3d6e8",
   "metadata": {},
   "outputs": [
    {
     "data": {
      "text/plain": [
       "purpose\n",
       "car                   0.107044\n",
       "credit_card           0.104103\n",
       "debt_consolidation    0.151570\n",
       "educational           0.164038\n",
       "home_improvement      0.118492\n",
       "house                 0.166667\n",
       "major_purchase        0.101442\n",
       "medical               0.153963\n",
       "moving                0.152174\n",
       "other                 0.160517\n",
       "renewable_energy      0.191489\n",
       "small_business        0.270175\n",
       "vacation              0.143678\n",
       "wedding               0.100767\n",
       "Name: loan_status, dtype: float64"
      ]
     },
     "execution_count": 90,
     "metadata": {},
     "output_type": "execute_result"
    }
   ],
   "source": [
    "#number of defaulters by purpose \n",
    "inp0.groupby('purpose')['loan_status'].mean()"
   ]
  },
  {
   "cell_type": "code",
   "execution_count": 91,
   "id": "57935dfa",
   "metadata": {},
   "outputs": [
    {
     "data": {
      "image/png": "[encoded data removed]",
      "text/plain": [
       "<Figure size 720x360 with 1 Axes>"
      ]
     },
     "metadata": {
      "needs_background": "light"
     },
     "output_type": "display_data"
    }
   ],
   "source": [
    "# bar plot to see the count of defaulters by purpose  \n",
    "plt.figure(figsize=[10,5])\n",
    "inp0.groupby('purpose')['loan_status'].mean().plot.bar()\n",
    "plt.title('Default rates by purpose')\n",
    "plt.xticks(rotation=90)\n",
    "plt.ylabel('loan_status')\n",
    "plt.show()"
   ]
  },
  {
   "cell_type": "markdown",
   "id": "bcfb916e",
   "metadata": {},
   "source": [
    "- more defaulters are from small business than renewable energy.So lenders should be careful while giving loan to small business borrowers. "
   ]
  },
  {
   "cell_type": "code",
   "execution_count": 92,
   "id": "f9c402de",
   "metadata": {},
   "outputs": [
    {
     "data": {
      "image/png": "[encoded data removed]",
      "text/plain": [
       "<Figure size 432x288 with 1 Axes>"
      ]
     },
     "metadata": {
      "needs_background": "light"
     },
     "output_type": "display_data"
    }
   ],
   "source": [
    "#default rates across grade\n",
    "inp0.groupby('grade')['loan_status'].mean().plot.bar()\n",
    "plt.ylabel('loan_status')\n",
    "plt.show()\n"
   ]
  },
  {
   "cell_type": "markdown",
   "id": "9fc15d70",
   "metadata": {},
   "source": [
    "- more number of defaulters are in E,F,G grade and less defaulters in A grade"
   ]
  },
  {
   "cell_type": "code",
   "execution_count": 93,
   "id": "e9a8faae",
   "metadata": {},
   "outputs": [
    {
     "data": {
      "image/png": "[encoded data removed]",
      "text/plain": [
       "<Figure size 432x288 with 1 Axes>"
      ]
     },
     "metadata": {
      "needs_background": "light"
     },
     "output_type": "display_data"
    }
   ],
   "source": [
    "# bar plot to see the count of defaulters by sub grade  \n",
    "inp0.groupby('sub_grade')['loan_status'].mean().plot.bar()\n",
    "plt.ylabel('loan_status')\n",
    "plt.show()\n"
   ]
  },
  {
   "cell_type": "markdown",
   "id": "7e0c1b03",
   "metadata": {},
   "source": [
    "- As seen in grade default rate goes from A to G.\n",
    "- We can see there are more defaulters from F5."
   ]
  },
  {
   "cell_type": "code",
   "execution_count": 94,
   "id": "c4731726",
   "metadata": {},
   "outputs": [
    {
     "data": {
      "image/png": "[encoded data removed]",
      "text/plain": [
       "<Figure size 432x288 with 1 Axes>"
      ]
     },
     "metadata": {
      "needs_background": "light"
     },
     "output_type": "display_data"
    }
   ],
   "source": [
    "# default rate across term month\n",
    "sns.barplot(data =inp0, x='term_months', y='loan_status')\n",
    "plt.ylabel('loan_status')\n",
    "plt.show()"
   ]
  },
  {
   "cell_type": "markdown",
   "id": "ffbb2df5",
   "metadata": {},
   "source": [
    "- 60 months has more number of defaulters compared to 36 months.So while giving loan to borrowers,lenders should take care of giving loan of 60 months bcz of more defaulters,than loan giving of 60 months."
   ]
  },
  {
   "cell_type": "code",
   "execution_count": 95,
   "id": "89f2bc2c",
   "metadata": {},
   "outputs": [
    {
     "data": {
      "image/png": "[encoded data removed]",
      "text/plain": [
       "<Figure size 432x288 with 1 Axes>"
      ]
     },
     "metadata": {
      "needs_background": "light"
     },
     "output_type": "display_data"
    }
   ],
   "source": [
    "#default rate across verification status\n",
    "sns.barplot(data=inp0,x='verification_status',y='loan_status')\n",
    "plt.ylabel('loan_status')\n",
    "plt.show()"
   ]
  },
  {
   "cell_type": "markdown",
   "id": "40a3435d",
   "metadata": {},
   "source": [
    "- more number of defaulters are from verified.Verified loans defaults more than not verified "
   ]
  },
  {
   "cell_type": "code",
   "execution_count": 96,
   "id": "c6ae6185",
   "metadata": {},
   "outputs": [
    {
     "data": {
      "image/png": "[encoded data removed]",
      "text/plain": [
       "<Figure size 432x288 with 1 Axes>"
      ]
     },
     "metadata": {
      "needs_background": "light"
     },
     "output_type": "display_data"
    }
   ],
   "source": [
    "#default rate across year\n",
    "sns.barplot(data=inp0,x='issue_year',y='loan_status')\n",
    "plt.ylabel('loan_status')\n",
    "plt.show()"
   ]
  },
  {
   "cell_type": "markdown",
   "id": "a955dc4b",
   "metadata": {},
   "source": [
    "- there is a high defaulted rate in 2007 but after that there is decrease in default rate and suddenly increase in default rate in 2011"
   ]
  },
  {
   "cell_type": "code",
   "execution_count": 97,
   "id": "a3dbf35d",
   "metadata": {},
   "outputs": [
    {
     "data": {
      "image/png": "[encoded data removed]",
      "text/plain": [
       "<Figure size 432x288 with 1 Axes>"
      ]
     },
     "metadata": {
      "needs_background": "light"
     },
     "output_type": "display_data"
    }
   ],
   "source": [
    "#default rates across months\n",
    "sns.barplot(data=inp0,x='issue_month',y='loan_status')\n",
    "plt.ylabel('loan_status')\n",
    "plt.show()"
   ]
  },
  {
   "cell_type": "markdown",
   "id": "f17baa2f",
   "metadata": {},
   "source": [
    "- not much variation across months"
   ]
  },
  {
   "cell_type": "code",
   "execution_count": 98,
   "id": "eb57446a",
   "metadata": {},
   "outputs": [
    {
     "data": {
      "image/png": "[encoded data removed]",
      "text/plain": [
       "<Figure size 432x288 with 1 Axes>"
      ]
     },
     "metadata": {
      "needs_background": "light"
     },
     "output_type": "display_data"
    }
   ],
   "source": [
    "#loan status vs loan amount\n",
    "sns.barplot(data=inp0,x='loan_amnt',y='loan_status')\n",
    "plt.ylabel('loan_status')\n",
    "plt.show()"
   ]
  },
  {
   "cell_type": "markdown",
   "id": "b89fb566",
   "metadata": {},
   "source": [
    "- higher the amount higher are the default rates.default rate is more in very high i.e, above 25000 amount \n"
   ]
  },
  {
   "cell_type": "code",
   "execution_count": 99,
   "id": "64f4b5b6",
   "metadata": {},
   "outputs": [
    {
     "data": {
      "image/png": "[encoded data removed]",
      "text/plain": [
       "<Figure size 432x288 with 1 Axes>"
      ]
     },
     "metadata": {
      "needs_background": "light"
     },
     "output_type": "display_data"
    }
   ],
   "source": [
    "#default rate across funded amnt\n",
    "sns.barplot(data=inp0,x='funded_amnt',y='loan_status')\n",
    "plt.ylabel('loan_status')\n",
    "plt.show()"
   ]
  },
  {
   "cell_type": "markdown",
   "id": "1d5d9240",
   "metadata": {},
   "source": [
    "- higher the amount ,higher are the defaulters"
   ]
  },
  {
   "cell_type": "code",
   "execution_count": 100,
   "id": "903da3ea",
   "metadata": {},
   "outputs": [
    {
     "data": {
      "image/png": "[encoded data removed]",
      "text/plain": [
       "<Figure size 432x288 with 1 Axes>"
      ]
     },
     "metadata": {
      "needs_background": "light"
     },
     "output_type": "display_data"
    }
   ],
   "source": [
    "# default rate across funded amnt inv\n",
    "sns.barplot(data=inp0,x='funded_amnt_inv',y='loan_status')\n",
    "plt.ylabel('loan_status')\n",
    "plt.show()"
   ]
  },
  {
   "cell_type": "code",
   "execution_count": 101,
   "id": "1a524866",
   "metadata": {},
   "outputs": [
    {
     "data": {
      "image/png": "[encoded data removed]",
      "text/plain": [
       "<Figure size 432x288 with 1 Axes>"
      ]
     },
     "metadata": {
      "needs_background": "light"
     },
     "output_type": "display_data"
    }
   ],
   "source": [
    "#default rates across int rate\n",
    "sns.barplot(data=inp0,x='int_rate',y='loan_status')\n",
    "plt.ylabel('loan_status')\n",
    "plt.show()"
   ]
  },
  {
   "cell_type": "markdown",
   "id": "2d7d0e8a",
   "metadata": {},
   "source": [
    "- higher the interest rate,more defaulters.Lenders must be aware while giving loan when,the interest is more then there are more chances of getting defaulted."
   ]
  },
  {
   "cell_type": "code",
   "execution_count": 102,
   "id": "52f1c722",
   "metadata": {},
   "outputs": [
    {
     "data": {
      "image/png": "[encoded data removed]",
      "text/plain": [
       "<Figure size 432x288 with 1 Axes>"
      ]
     },
     "metadata": {
      "needs_background": "light"
     },
     "output_type": "display_data"
    }
   ],
   "source": [
    "#default rates across dti\n",
    "sns.barplot(data=inp0,x='dti',y='loan_status')\n",
    "plt.ylabel('loan_status')\n",
    "plt.show()"
   ]
  },
  {
   "cell_type": "markdown",
   "id": "e6d38509",
   "metadata": {},
   "source": [
    "- higher the debt to income ratio, higher is the default rate"
   ]
  },
  {
   "cell_type": "code",
   "execution_count": 103,
   "id": "2cc0266c",
   "metadata": {},
   "outputs": [
    {
     "data": {
      "image/png": "[encoded data removed]",
      "text/plain": [
       "<Figure size 432x288 with 1 Axes>"
      ]
     },
     "metadata": {
      "needs_background": "light"
     },
     "output_type": "display_data"
    }
   ],
   "source": [
    "#default rate across installment\n",
    "sns.barplot(data=inp0,x='installment',y='loan_status')\n",
    "plt.ylabel('loan_status')\n",
    "plt.show()"
   ]
  },
  {
   "cell_type": "markdown",
   "id": "98db8eef",
   "metadata": {},
   "source": [
    "- more installments lead to more defaults.Lenders should not allow for more instllments to the borrowers."
   ]
  },
  {
   "cell_type": "code",
   "execution_count": 104,
   "id": "9af9980f",
   "metadata": {},
   "outputs": [
    {
     "data": {
      "image/png": "[encoded data removed]",
      "text/plain": [
       "<Figure size 432x288 with 1 Axes>"
      ]
     },
     "metadata": {
      "needs_background": "light"
     },
     "output_type": "display_data"
    }
   ],
   "source": [
    "#loan status vs annual income\n",
    "sns.barplot(data=inp0,x='annual_inc',y='loan_status')\n",
    "plt.ylabel('loan_status')\n",
    "plt.show()"
   ]
  },
  {
   "cell_type": "markdown",
   "id": "48c2f0b8",
   "metadata": {},
   "source": [
    "- applicants with less salary ,defaults more,so while giving loan ,it must be taken care that borrower should have a more annual income ,so that it may lead to less defaults"
   ]
  },
  {
   "cell_type": "code",
   "execution_count": 105,
   "id": "d2d0805c",
   "metadata": {},
   "outputs": [
    {
     "data": {
      "image/png": "[encoded data removed]",
      "text/plain": [
       "<Figure size 432x288 with 1 Axes>"
      ]
     },
     "metadata": {
      "needs_background": "light"
     },
     "output_type": "display_data"
    }
   ],
   "source": [
    "#loan status vs experience \n",
    "sns.barplot(data=inp0,x='emp_length',y='loan_status')\n",
    "plt.show()"
   ]
  },
  {
   "cell_type": "markdown",
   "id": "17aadf30",
   "metadata": {},
   "source": [
    "- not much difference"
   ]
  },
  {
   "cell_type": "code",
   "execution_count": 106,
   "id": "1370919e",
   "metadata": {},
   "outputs": [
    {
     "data": {
      "image/png": "[encoded data removed]",
      "text/plain": [
       "<Figure size 1152x432 with 1 Axes>"
      ]
     },
     "metadata": {
      "needs_background": "light"
     },
     "output_type": "display_data"
    }
   ],
   "source": [
    "#purpose \n",
    "plt.figure(figsize=(16, 6))\n",
    "sns.countplot(x='purpose', data=inp0)\n",
    "plt.xticks(rotation=70)\n",
    "plt.show()"
   ]
  },
  {
   "cell_type": "markdown",
   "id": "062a79de",
   "metadata": {},
   "source": [
    "- more defaulters from debt consolidation,credit card,home improvement,major purchase"
   ]
  },
  {
   "cell_type": "code",
   "execution_count": 107,
   "id": "96704b9e",
   "metadata": {},
   "outputs": [
    {
     "data": {
      "image/png": "[encoded data removed]",
      "text/plain": [
       "<Figure size 1440x504 with 1 Axes>"
      ]
     },
     "metadata": {
      "needs_background": "light"
     },
     "output_type": "display_data"
    }
   ],
   "source": [
    "#purpose vs homewonership who defaulted more\n",
    "plt.figure(figsize=[20,7])\n",
    "sns.barplot(data=inp0, x='home_ownership',hue='purpose',y='loan_status')\n",
    "plt.show()"
   ]
  },
  {
   "cell_type": "markdown",
   "id": "557a30c7",
   "metadata": {},
   "source": [
    "- In general debt consolidation loans have the highest default rates."
   ]
  },
  {
   "cell_type": "code",
   "execution_count": 108,
   "id": "51196dfd",
   "metadata": {},
   "outputs": [
    {
     "data": {
      "image/png": "[encoded data removed]",
      "text/plain": [
       "<Figure size 1440x504 with 1 Axes>"
      ]
     },
     "metadata": {
      "needs_background": "light"
     },
     "output_type": "display_data"
    }
   ],
   "source": [
    "#purpose vs interest rate\n",
    "plt.figure(figsize=[20,7])\n",
    "sns.barplot(data=inp0, x='int_rate',hue='purpose',y='loan_status')\n",
    "plt.show()"
   ]
  },
  {
   "cell_type": "code",
   "execution_count": 109,
   "id": "13ef6533",
   "metadata": {},
   "outputs": [
    {
     "data": {
      "image/png": "[encoded data removed]",
      "text/plain": [
       "<Figure size 1440x504 with 1 Axes>"
      ]
     },
     "metadata": {
      "needs_background": "light"
     },
     "output_type": "display_data"
    }
   ],
   "source": [
    "# dti vs purpose\n",
    "plt.figure(figsize=[20,7])\n",
    "sns.barplot(data=inp0, x='dti',hue='purpose',y='loan_status')\n",
    "plt.show()"
   ]
  },
  {
   "cell_type": "code",
   "execution_count": 110,
   "id": "76e52ccf",
   "metadata": {},
   "outputs": [
    {
     "data": {
      "image/png": "[encoded data removed]",
      "text/plain": [
       "<Figure size 1440x504 with 1 Axes>"
      ]
     },
     "metadata": {
      "needs_background": "light"
     },
     "output_type": "display_data"
    }
   ],
   "source": [
    "#purpose vs grade\n",
    "plt.figure(figsize=[20,7])\n",
    "sns.barplot(data=inp0, x='grade',hue='purpose',y='loan_status')\n",
    "plt.show()"
   ]
  },
  {
   "cell_type": "markdown",
   "id": "b873cce7",
   "metadata": {},
   "source": [
    "- We can see there are more defaulters from E,F,G grades.From 'F' grade, defaulters in purpose are more in renewable energy.\n",
    "- In G grade more defaulters are from moving & car purpose."
   ]
  },
  {
   "cell_type": "markdown",
   "id": "e379d2d8",
   "metadata": {},
   "source": [
    "### Default rates across different categories"
   ]
  },
  {
   "cell_type": "markdown",
   "id": "def94323",
   "metadata": {},
   "source": [
    "#### Difference between highest and lowest default rate across the categories "
   ]
  },
  {
   "cell_type": "code",
   "execution_count": 111,
   "id": "066fdfaa",
   "metadata": {},
   "outputs": [
    {
     "name": "stdout",
     "output_type": "stream",
     "text": [
      "annual_inc\n",
      "low          0.17\n",
      "medium       0.14\n",
      "very high    0.11\n",
      "high         0.11\n",
      "Name: loan_status, dtype: float64\n",
      "0.06\n"
     ]
    }
   ],
   "source": [
    "def diff_rate(cat_var):\n",
    "    default_rates = inp0.groupby(cat_var).loan_status.mean().sort_values(ascending=False)\n",
    "    return (round(default_rates, 2), round(default_rates[0] - default_rates[-1], 2))\n",
    "\n",
    "default_rates, diff = diff_rate('annual_inc')\n",
    "print(default_rates) \n",
    "print(diff)\n",
    "#0.06 is the default rate.Thus, there is a 6% increase in default rate as you go from high to low annual income."
   ]
  },
  {
   "cell_type": "code",
   "execution_count": 112,
   "id": "3754df49",
   "metadata": {},
   "outputs": [
    {
     "name": "stdout",
     "output_type": "stream",
     "text": [
      "loan_amnt\n",
      "very high    0.21\n",
      "high         0.17\n",
      "low          0.13\n",
      "medium       0.13\n",
      "Name: loan_status, dtype: float64\n",
      "0.08\n"
     ]
    }
   ],
   "source": [
    "default_rates, diff = diff_rate('loan_amnt')\n",
    "print(default_rates) \n",
    "print(diff)\n",
    "# 8% increase in the default rate when you go from high to low loan amount"
   ]
  },
  {
   "cell_type": "code",
   "execution_count": 113,
   "id": "39e33f69",
   "metadata": {},
   "outputs": [
    {
     "name": "stdout",
     "output_type": "stream",
     "text": [
      "funded_amnt_inv\n",
      "very high    0.19\n",
      "high         0.18\n",
      "low          0.14\n",
      "medium       0.13\n",
      "Name: loan_status, dtype: float64\n",
      "0.06\n"
     ]
    }
   ],
   "source": [
    "default_rates, diff = diff_rate('funded_amnt_inv')\n",
    "print(default_rates) \n",
    "print(diff)\n",
    "# 6% increase in the default rate as you go from high to low funded amount invested "
   ]
  },
  {
   "cell_type": "code",
   "execution_count": 114,
   "id": "055642f0",
   "metadata": {},
   "outputs": [
    {
     "name": "stdout",
     "output_type": "stream",
     "text": [
      "verification_status\n",
      "Verified           0.17\n",
      "Source Verified    0.15\n",
      "Not Verified       0.13\n",
      "Name: loan_status, dtype: float64\n",
      "0.04\n"
     ]
    }
   ],
   "source": [
    "default_rates, diff = diff_rate('verification_status')\n",
    "print(default_rates) \n",
    "print(diff)\n",
    "# 4% increase in default rate "
   ]
  },
  {
   "cell_type": "code",
   "execution_count": 115,
   "id": "65c4ca2e",
   "metadata": {},
   "outputs": [
    {
     "name": "stdout",
     "output_type": "stream",
     "text": [
      "dti\n",
      "high      0.16\n",
      "medium    0.15\n",
      "low       0.12\n",
      "Name: loan_status, dtype: float64\n",
      "0.04\n"
     ]
    }
   ],
   "source": [
    "default_rates, diff = diff_rate('dti')\n",
    "print(default_rates) \n",
    "print(diff)\n",
    "# 4% increase in default rate as you go from high to low"
   ]
  },
  {
   "cell_type": "code",
   "execution_count": 116,
   "id": "0f4fd37a",
   "metadata": {},
   "outputs": [
    {
     "name": "stdout",
     "output_type": "stream",
     "text": [
      "home_ownership\n",
      "OTHER       0.18\n",
      "RENT        0.15\n",
      "OWN         0.14\n",
      "MORTGAGE    0.14\n",
      "Name: loan_status, dtype: float64\n",
      "0.05\n"
     ]
    }
   ],
   "source": [
    "default_rates, diff = diff_rate('home_ownership')\n",
    "print(default_rates) \n",
    "print(diff)\n",
    "# 5% increase in default rate "
   ]
  },
  {
   "cell_type": "code",
   "execution_count": 117,
   "id": "c96dd05e",
   "metadata": {},
   "outputs": [
    {
     "name": "stdout",
     "output_type": "stream",
     "text": [
      "purpose\n",
      "small_business        0.27\n",
      "renewable_energy      0.19\n",
      "house                 0.17\n",
      "educational           0.16\n",
      "other                 0.16\n",
      "medical               0.15\n",
      "moving                0.15\n",
      "debt_consolidation    0.15\n",
      "vacation              0.14\n",
      "home_improvement      0.12\n",
      "car                   0.11\n",
      "credit_card           0.10\n",
      "major_purchase        0.10\n",
      "wedding               0.10\n",
      "Name: loan_status, dtype: float64\n",
      "0.17\n"
     ]
    }
   ],
   "source": [
    "default_rates, diff = diff_rate('purpose')\n",
    "print(default_rates) \n",
    "print(diff)\n",
    "# 17% increase in default rate.More deafult rates from purpose variable"
   ]
  },
  {
   "cell_type": "code",
   "execution_count": 118,
   "id": "ac0f0a06",
   "metadata": {},
   "outputs": [
    {
     "name": "stdout",
     "output_type": "stream",
     "text": [
      "sub_grade\n",
      "F5    0.48\n",
      "G3    0.42\n",
      "G2    0.36\n",
      "F4    0.36\n",
      "G5    0.34\n",
      "G1    0.32\n",
      "F2    0.30\n",
      "E4    0.30\n",
      "F1    0.30\n",
      "F3    0.29\n",
      "E5    0.28\n",
      "E1    0.27\n",
      "E2    0.27\n",
      "D5    0.25\n",
      "G4    0.24\n",
      "D4    0.23\n",
      "D3    0.23\n",
      "E3    0.23\n",
      "D2    0.21\n",
      "D1    0.18\n",
      "C3    0.18\n",
      "C5    0.18\n",
      "C4    0.17\n",
      "C2    0.16\n",
      "C1    0.16\n",
      "B5    0.14\n",
      "B4    0.13\n",
      "B3    0.12\n",
      "B2    0.11\n",
      "B1    0.09\n",
      "A5    0.08\n",
      "A4    0.06\n",
      "A3    0.05\n",
      "A2    0.05\n",
      "A1    0.02\n",
      "Name: loan_status, dtype: float64\n",
      "0.46\n"
     ]
    }
   ],
   "source": [
    "default_rates, diff = diff_rate('sub_grade')\n",
    "print(default_rates) \n",
    "print(diff)\n",
    "# 46% increase in default rates,this is the highest default rate"
   ]
  },
  {
   "cell_type": "code",
   "execution_count": 119,
   "id": "011841d1",
   "metadata": {},
   "outputs": [
    {
     "name": "stdout",
     "output_type": "stream",
     "text": [
      "grade\n",
      "G    0.34\n",
      "F    0.33\n",
      "E    0.27\n",
      "D    0.22\n",
      "C    0.17\n",
      "B    0.12\n",
      "A    0.06\n",
      "Name: loan_status, dtype: float64\n",
      "0.28\n"
     ]
    }
   ],
   "source": [
    "default_rates, diff = diff_rate('grade')\n",
    "print(default_rates) \n",
    "print(diff)\n",
    "# 28% increase in defaulte rate "
   ]
  },
  {
   "cell_type": "code",
   "execution_count": 120,
   "id": "80d5c10b",
   "metadata": {},
   "outputs": [
    {
     "name": "stdout",
     "output_type": "stream",
     "text": [
      "funded_amnt\n",
      "very high    0.20\n",
      "high         0.17\n",
      "low          0.13\n",
      "medium       0.13\n",
      "Name: loan_status, dtype: float64\n",
      "0.07\n"
     ]
    }
   ],
   "source": [
    "default_rates, diff = diff_rate('funded_amnt')\n",
    "print(default_rates) \n",
    "print(diff)\n",
    "# 7% increase in default rate"
   ]
  },
  {
   "cell_type": "code",
   "execution_count": 121,
   "id": "99bf92d2",
   "metadata": {},
   "outputs": [
    {
     "name": "stdout",
     "output_type": "stream",
     "text": [
      "installment\n",
      "very high    0.17\n",
      "high         0.16\n",
      "medium       0.14\n",
      "low          0.14\n",
      "Name: loan_status, dtype: float64\n",
      "0.03\n"
     ]
    }
   ],
   "source": [
    "default_rates, diff = diff_rate('installment')\n",
    "print(default_rates) \n",
    "print(diff)\n",
    "# 3% increase in default rate"
   ]
  },
  {
   "cell_type": "code",
   "execution_count": 122,
   "id": "20f60ecc",
   "metadata": {},
   "outputs": [
    {
     "name": "stdout",
     "output_type": "stream",
     "text": [
      "int_rate\n",
      "high      0.26\n",
      "medium    0.15\n",
      "low       0.06\n",
      "Name: loan_status, dtype: float64\n",
      "0.2\n"
     ]
    }
   ],
   "source": [
    "default_rates, diff = diff_rate('int_rate')\n",
    "print(default_rates) \n",
    "print(diff)\n",
    "# 2% increase in default rate"
   ]
  },
  {
   "cell_type": "markdown",
   "id": "5fa58687",
   "metadata": {},
   "source": [
    "- we can conclude that more number of defaulters are from grade,sub grade & purpose."
   ]
  },
  {
   "cell_type": "markdown",
   "id": "4d3c9232",
   "metadata": {},
   "source": [
    "### Defaulters "
   ]
  },
  {
   "cell_type": "markdown",
   "id": "e158d53e",
   "metadata": {},
   "source": [
    "- Home ownership :-  More number of defaulters are from Rent and Mortgage.Lenders should be careful while giving loan to borrowers of home ownership as rent and mortgage.\n",
    "\n",
    "- Purpose :-  More defaulters are from small business than renewable energy.So lenders should be careful while giving loan to small business borrowers. \n",
    "\n",
    "- Grade :- More number of defaulters are in E,F,G grade and less defaulters in A grade.\n",
    "\n",
    "- Sub grade :- There are more number of defaulters from F5.\n",
    "\n",
    "- Term months: 60 months has more number of defaulters compared to 36 months.So while giving loan to borrowers,lenders should take care of giving loan of 60 months bcz of more defaulters,than loan giving of 60 months.\n",
    "\n",
    "- Verification status   :- More defaulters are from verified.Verified loans defaults more than not verified.\n",
    "\n",
    "- Issue year :- There is a high defaulted rate in 2007 but after that there is decrease in default rate and suddenly increase in default rate in 2011.\n",
    "\n",
    "- Loan amount :- Higher the amount higher are the default rates.default rate is more in very high i.e, above 25000 amount.\n",
    "\n",
    "- Funded amount :- Higher the amount ,higher are the defaulters.\n",
    "\n",
    "- Interest rate :- Higher the interest rate,more defaulters.Lenders must be aware while giving loan when,the interest is more then there are more chances of getting defaulted.\n",
    "\n",
    "- DTI : Higher the debt to income ratio, higher is the default rate.\n",
    "\n",
    "- Installments :- More installments lead to more defaults.Lenders should not allow for more instllments to the borrowers.\n",
    "\n",
    "- Annual Income :- Applicants with less salary ,defaults more,so while giving loan ,it must be taken care that borrower should have a good salary ,so that it may lead to less defaults.\n"
   ]
  },
  {
   "cell_type": "markdown",
   "id": "8e6ee85b",
   "metadata": {},
   "source": [
    "# Conclusion\n",
    " \n",
    "- Lenders can give loan to borrowers who have their own house.Applicants with own house are less likely to default. - Lenders should be careful while giving loan to borrowers for debt consolidation, small business ,credit card & renewable energy ,as they are more likely to default.\n",
    "- High interest rate loans are defaulted more by borrowers.\n",
    "- Applicants with less annual income defaults more.Lenders should give loan to applicants with more annual income as they are less likely to default.\n",
    "- 36 months loans are less defaulted.\n",
    "- A grade loans are least defaulted.I would suggest to give a loan of A grade.\n",
    "- Maximum number of defaulters are from E,F,G graded loans.So it is risky to give loan of this grades.Lenders must be very careful while giving lion.\n",
    "- Lenders should provide with less loan amount to reduce defaults.Higher loan amount results to more defaults."
   ]
  }
 ],
 "metadata": {
  "kernelspec": {
   "display_name": "Python 3 (ipykernel)",
   "language": "python",
   "name": "python3"
  },
  "language_info": {
   "codemirror_mode": {
    "name": "ipython",
    "version": 3
   },
   "file_extension": ".py",
   "mimetype": "text/x-python",
   "name": "python",
   "nbconvert_exporter": "python",
   "pygments_lexer": "ipython3",
   "version": "3.9.12"
  }
 },
 "nbformat": 4,
 "nbformat_minor": 5
}
